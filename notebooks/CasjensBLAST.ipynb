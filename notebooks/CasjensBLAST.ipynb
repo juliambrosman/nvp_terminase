{
 "cells": [
  {
   "cell_type": "code",
   "execution_count": 54,
   "metadata": {
    "collapsed": false
   },
   "outputs": [],
   "source": [
    "!open Casjens2009_lg_terminases.fasta -a textedit"
   ]
  },
  {
   "cell_type": "code",
   "execution_count": 62,
   "metadata": {
    "collapsed": false
   },
   "outputs": [
    {
     "name": "stdout",
     "output_type": "stream",
     "text": [
      "116\n",
      "['Lactococcus_phage_TP901-1', 'Haemophilus_phage_Aaphi23', 'Bacillus_phage_SPO1', 'Escherichia_phage_T5', 'Escherichia_coli_O157:H7_str._LSU-61_prophage_CP-933K', 'Salmonella_phage_Fels-1', 'Phage_Gifsy-2', 'Wolbachia_phage_WO', 'Phage_Gifsy-1', 'Phage_21', 'Enterobacteria_phage_N15', 'Enterobacteria_phage_lambda', 'Enterobacteria_phage_LP7', 'Enterobacteria_phage_P22', 'Staphylococcus_phage_phiETA', 'Streptococcus_phage_Sfi11', 'Streptococcus_phage_EJ-1', 'Endosymbiont_phage_APSE-1', 'Enterobacteria_phage_HK620', 'Enterobacteria_phage_Sf6', 'Enterobacteria_phage_ES18', 'Bacillus_phage_SPP1', 'Staphylococcus_phage_SA13', 'Lactobacillus_phage_LL-H', 'Lactobacillus_phage_phig1e', 'Listeria_phage_A118', 'Streptococcus_phage_MM1', 'Bacillus_phage_BCJA1c', 'Prochlorococcus_phage_P-SSM4', 'Vibrio_phage_KVP40', 'Aeromonas_phage_Aeh1', 'Enterobacteria_phage_RB49', 'Enterobacteria_phage_T4', 'Burkholderia_phage_Bcep22', 'Sinorhizobium_phage_PBC5', 'Enterobacteria_phage_933W', 'Escherichia_Stx1_converting_phage', 'Staphylococcus_aureus', 'Pseudomonas_phage_D3112', 'Staphylococcus_phage_SP6', 'Enterobacteria_phage_K1-5', 'Phage_T7', 'Escherichia_coli_KOEGE_71_(186a)', 'Klebsiella_pneumoniae_UCICRE_2', 'Enterobacteria_phage_P2', 'Pseudomonas_phage_phiCTX', 'Burkholderia_phage_BcepMu', 'Shewanella_baltica_OS625', 'Prophage_FluMu', 'Shigella_phage_SP18', 'Phage_Mu', 'Pseudomonas_phage_B3', 'Mycobacteriophage_D29', 'Mycobacteriophage_L5', 'Streptomyces_phage_phiBT1', 'Streptomyces_phage_phiC31', 'Xanthomonas_phage_Xp10', 'Escherichia_coli_O157:H7_str._EDL933_prophage_CP-933V', 'Escherichia_coli_O157:H7_str._EDL933_prophage_CP-933N', 'Lactococcus_phage_bIL67', 'Lactococcus_phage_c2', 'Streptococcus_agalactiae_2603V/R', 'Lactococcus_phage_bIL170', 'Lactococcus_phage_P008', 'Lactococcus_phage_SK1', 'Lactobacillus_phage_A2', 'Staphylococcus_phage_PVL', 'Cellulophaga_phage_phi13:1', 'Lactobacillus_phage_phiadh', 'Lactococcus_phage_BK5-T', 'Streptococcus_phage_7201', 'Streptococcus_phage_Sfi19', 'Streptococcus_phage_Sfi21', 'Enterobacteria_phage_HK022', 'Enterobacteria_phage_HK97', 'Lactococcus_phage_bIL285', 'Bacillus_thuringiensis_serovar_pakistani_str._T13001', 'Staphylococcus_phage_Slt', 'Bacillus_phage_phi105', 'Clostridium_phage_phi3626', 'Pseudomonas_phage_D3', 'Yersinia_phage_PY54', 'Klebsiella_phage_phiKO2', 'Enterobacteria_phage_phiP27', 'Salmonella_phage_ST64B', 'Burkholderia_phage_phiE125', 'Burkholderia_phage_phi1026b', 'Lactobacillus_prophage_Lj965', 'Pseudomonad_phage_gh-1', 'Pseudomonas_phage_phiKMV', 'Yersinia_phage_phiYeO3-12', 'Enterobacteria_phage_T3', 'Vibrio_phage_K139', 'Haemophilus_phage_HP1', 'Salmonella_phage_Fels-2', 'Escherichia_phage_EC1-UPM', 'Achromobacter_phage_JWAlpha', 'Enterobacter_phage_IME11', 'Escherichia_phage_vB_EcoP_G7C', 'Achromobacter_phage_JWDelta', 'Escherichia_phage_N4', 'Erwinia_phage_vB_EamP-S6', 'Sulfitobacter_phage_phiCB2047-B', 'Silicibacter_phage_DSS3phi2', 'Sulfitobacter_phage_EE36phi1', 'Salmonella_phage_FSL_SP-058', 'Salmonella_phage_FSL_SP-076', 'Pseudomonas_phage_LIT1', 'Pseudomonas_phage_PA26', 'Pseudomonas_phage_LUZ7', 'Acinetobacter_phage_Presley', 'Vibrio_phage_JA-1', 'Vibrio_phage_VCO139', 'Pseudoalteromonas_phage_pYD6-A', 'Vibrio_phage_VBP32', 'Vibrio_phage_VBP47']\n"
     ]
    }
   ],
   "source": [
    "names=[]\n",
    "\n",
    "term=open(\"Casjens2009_lg_terminases.fasta\")\n",
    "problematic=[\"Phage T7\",\"Prophage FluMu\",\"Phage Mu\",\"Mycobacteriophage D29\",\"Mycobacteriophage L5\"]\n",
    "problems=0\n",
    "\n",
    "for line in term:\n",
    "    if line.startswith(\">\"):\n",
    "        if len(line.split(\"[\"))>=2:\n",
    "            name=str(line.split(\"[\")[1].replace(\"]\\n\",\"\")).replace(\" \",\"_\")\n",
    "            \n",
    "            code=name.split(\" \")[-1]\n",
    "            \n",
    "            \n",
    "        else:\n",
    "            name=problematic[problems].replace(\" \",\"_\")\n",
    "            code=name.split(\" \")[-1]\n",
    "            problems+=1\n",
    "            \n",
    "        if name in names:\n",
    "            print(\"THE ODD BALL IS:\"+name)\n",
    "        if name not in names:\n",
    "            names.append(name)\n",
    "        \n",
    "            \n",
    "print(len(names))\n",
    "print(names)"
   ]
  },
  {
   "cell_type": "code",
   "execution_count": 60,
   "metadata": {
    "collapsed": false
   },
   "outputs": [],
   "source": [
    "from pyfaidx import Fasta\n",
    "\n",
    "problematic=[\"Phage T7\",\"Prophage FluMu\",\"Phage Mu\",\"Mycobacteriophage D29\",\"Mycobacteriophage L5\"]\n",
    "\n",
    "term=open(\"Casjens2009_lg_terminases.fasta\")\n",
    "term2=open(\"Casjens2009_lterm_edited.fasta\",\"w\")\n",
    "problems=0\n",
    "names=[]\n",
    "for line in term:\n",
    "    if line.startswith(\">\"):\n",
    "        if len(line.split(\"[\"))>=2:\n",
    "            name=str(line.split(\"[\")[1].replace(\"]\",\"\")).replace(\" \",\"_\")\n",
    "            #print(name)\n",
    "            code=name.split(\" \")[-1]\n",
    "            names.append(name)\n",
    "            term2.write(\">\"+name)\n",
    "            \n",
    "        else:\n",
    "            name=problematic[problems]\n",
    "            code=name.split(\" \")[-1]\n",
    "            problems+=1\n",
    "            term2.write(\">\"+name.replace(\" \",\"_\")+\"\\n\")\n",
    "            #print(\"problematic \"+line.replace(\"\\n\",\"\"))\n",
    "        #term2.write(line)\n",
    "        if name.replace(\" \",\"_\") not in names:\n",
    "            names.append(name.replace(\" \",\"_\"))\n",
    "    elif line.startswith(\"\\n\"):\n",
    "        continue\n",
    "    else:\n",
    "        term2.write(line)\n",
    "    \n",
    "term2.close()\n",
    "\n",
    "!open Casjens2009_lterm_edited.fasta -a textedit"
   ]
  },
  {
   "cell_type": "code",
   "execution_count": 61,
   "metadata": {
    "collapsed": false
   },
   "outputs": [
    {
     "name": "stdout",
     "output_type": "stream",
     "text": [
      "Lactococcus_phage_TP901-1\n",
      "Haemophilus_phage_Aaphi23\n",
      "Bacillus_phage_SPO1\n",
      "Escherichia_phage_T5\n",
      "Escherichia_coli_O157:H7_str._LSU-61_prophage_CP-933K\n",
      "Salmonella_phage_Fels-1\n",
      "Phage_Gifsy-2\n",
      "Wolbachia_phage_WO\n",
      "Phage_Gifsy-1\n",
      "Phage_21\n",
      "Enterobacteria_phage_N15\n",
      "Enterobacteria_phage_lambda\n",
      "Enterobacteria_phage_LP7\n",
      "Enterobacteria_phage_P22\n",
      "Staphylococcus_phage_phiETA\n",
      "Streptococcus_phage_Sfi11\n",
      "Streptococcus_phage_EJ-1\n",
      "Endosymbiont_phage_APSE-1\n",
      "Enterobacteria_phage_HK620\n",
      "Enterobacteria_phage_Sf6\n",
      "Enterobacteria_phage_ES18\n",
      "Bacillus_phage_SPP1\n",
      "Staphylococcus_phage_SA13\n",
      "Lactobacillus_phage_LL-H\n",
      "Lactobacillus_phage_phig1e\n",
      "Listeria_phage_A118\n",
      "Streptococcus_phage_MM1\n",
      "Bacillus_phage_BCJA1c\n",
      "Prochlorococcus_phage_P-SSM4\n",
      "Vibrio_phage_KVP40\n",
      "Aeromonas_phage_Aeh1\n",
      "Enterobacteria_phage_RB49\n",
      "Enterobacteria_phage_T4\n",
      "Burkholderia_phage_Bcep22\n",
      "Sinorhizobium_phage_PBC5\n",
      "Enterobacteria_phage_933W\n",
      "Escherichia_Stx1_converting_phage\n",
      "Staphylococcus_aureus\n",
      "Pseudomonas_phage_D3112\n",
      "Staphylococcus_phage_SP6\n",
      "Enterobacteria_phage_K1-5\n",
      "Phage_T7\n",
      "Escherichia_coli_KOEGE_71_(186a)\n",
      "Klebsiella_pneumoniae_UCICRE_2\n",
      "Enterobacteria_phage_P2\n",
      "Pseudomonas_phage_phiCTX\n",
      "Burkholderia_phage_BcepMu\n",
      "Shewanella_baltica_OS625\n",
      "Prophage_FluMu\n",
      "Shigella_phage_SP18\n",
      "Phage_Mu\n",
      "Pseudomonas_phage_B3\n",
      "Mycobacteriophage_D29\n",
      "Mycobacteriophage_L5\n",
      "Streptomyces_phage_phiBT1\n",
      "Streptomyces_phage_phiC31\n",
      "Xanthomonas_phage_Xp10\n",
      "Escherichia_coli_O157:H7_str._EDL933_prophage_CP-933V\n",
      "Escherichia_coli_O157:H7_str._EDL933_prophage_CP-933N\n",
      "Lactococcus_phage_bIL67\n",
      "Lactococcus_phage_c2\n",
      "Streptococcus_agalactiae_2603V/R\n",
      "Lactococcus_phage_bIL170\n",
      "Lactococcus_phage_P008\n",
      "Lactococcus_phage_SK1\n",
      "Lactobacillus_phage_A2\n",
      "Staphylococcus_phage_PVL\n",
      "Cellulophaga_phage_phi13:1\n",
      "Lactobacillus_phage_phiadh\n",
      "Lactococcus_phage_BK5-T\n",
      "Streptococcus_phage_7201\n",
      "Streptococcus_phage_Sfi19\n",
      "Streptococcus_phage_Sfi21\n",
      "Enterobacteria_phage_HK022\n",
      "Enterobacteria_phage_HK97\n",
      "Lactococcus_phage_bIL285\n",
      "Bacillus_thuringiensis_serovar_pakistani_str._T13001\n",
      "Staphylococcus_phage_Slt\n",
      "Bacillus_phage_phi105\n",
      "Clostridium_phage_phi3626\n",
      "Pseudomonas_phage_D3\n",
      "Yersinia_phage_PY54\n",
      "Klebsiella_phage_phiKO2\n",
      "Enterobacteria_phage_phiP27\n",
      "Salmonella_phage_ST64B\n",
      "Burkholderia_phage_phiE125\n",
      "Burkholderia_phage_phi1026b\n",
      "Lactobacillus_prophage_Lj965\n",
      "Pseudomonad_phage_gh-1\n",
      "Pseudomonas_phage_phiKMV\n",
      "Yersinia_phage_phiYeO3-12\n",
      "Enterobacteria_phage_T3\n",
      "Vibrio_phage_K139\n",
      "Haemophilus_phage_HP1\n",
      "Salmonella_phage_Fels-2\n",
      "Escherichia_phage_EC1-UPM\n",
      "Achromobacter_phage_JWAlpha\n",
      "Enterobacter_phage_IME11\n",
      "Escherichia_phage_vB_EcoP_G7C\n",
      "Achromobacter_phage_JWDelta\n",
      "Escherichia_phage_N4\n",
      "Erwinia_phage_vB_EamP-S6\n",
      "Sulfitobacter_phage_phiCB2047-B\n",
      "Silicibacter_phage_DSS3phi2\n",
      "Sulfitobacter_phage_EE36phi1\n",
      "Salmonella_phage_FSL_SP-058\n",
      "Salmonella_phage_FSL_SP-076\n",
      "Pseudomonas_phage_LIT1\n",
      "Pseudomonas_phage_PA26\n",
      "Pseudomonas_phage_LUZ7\n",
      "Acinetobacter_phage_Presley\n",
      "Vibrio_phage_JA-1\n",
      "Vibrio_phage_VCO139\n",
      "Pseudoalteromonas_phage_pYD6-A\n",
      "Vibrio_phage_VBP32\n",
      "Vibrio_phage_VBP47\n"
     ]
    }
   ],
   "source": [
    "from pyfaidx import Fasta\n",
    "\n",
    "f=Fasta(\"Casjens2009_lterm_edited.fasta\")\n",
    "for title in f.keys():\n",
    "    print(title)"
   ]
  },
  {
   "cell_type": "code",
   "execution_count": 67,
   "metadata": {
    "collapsed": false
   },
   "outputs": [
    {
     "name": "stdout",
     "output_type": "stream",
     "text": [
      "Casjens2009_lterm_edited.fasta                100%   66KB  66.1KB/s   00:00    \n",
      "makeblastdb.sh                                100%  205     0.2KB/s   00:00    \n"
     ]
    }
   ],
   "source": [
    "!scp Casjens2009_lterm_edited.fasta jbrown@eofe4.mit.edu:/nobackup1/jbrown/blast_db/\n",
    "job_prefix=\"db\"\n",
    "job_server=\"sched_mit_chisholm\"\n",
    "input_fasta=\"Casjens2009_lterm_edited.fasta\"\n",
    "dbtype=\"prot\"\n",
    "\n",
    "out=open(\"makeblastdb.sh\",\"w\")\n",
    "\n",
    "out.write(\"#!/bin/bash\\n#SBATCH -n 16\\n#SBATCH -N 1\\n#SBATCH -o \"+job_prefix+\".out\\n#SBATCH -e \"+job_prefix+\".err\\n\")\n",
    "out.write(\"#SBATCH -p \"+job_server+\"\\n\\n\")\n",
    "\n",
    "out.write(\"module add engaging/ncbi-blast/2.2.30+\\n\\n\")                                                                                                                                                              \n",
    "                                                                                                                                                          \n",
    "                                                                                        \n",
    "out.write(\"makeblastdb -in \"+input_fasta+\" -dbtype \"+dbtype)\n",
    "          \n",
    "out.close()\n",
    "!scp makeblastdb.sh jbrown@eofe4.mit.edu:/nobackup1/jbrown/blast_db/"
   ]
  },
  {
   "cell_type": "code",
   "execution_count": 70,
   "metadata": {
    "collapsed": false
   },
   "outputs": [
    {
     "name": "stdout",
     "output_type": "stream",
     "text": [
      "\r",
      "ctermblast.sh                                   0%    0     0.0KB/s   --:-- ETA\r",
      "ctermblast.sh                                 100%  364     0.4KB/s   00:00    \r\n"
     ]
    }
   ],
   "source": [
    "job_prefix=\"ctermblast\"\n",
    "job_server=\"sched_mit_chisholm\"\n",
    "database=\"/nobackup1/jbrown/blast_db/Casjens2009_lterm_edited.fasta\"\n",
    "dbname=\"Casjens_terminases\"\n",
    "query=\"nahant_phage_terminases.fasta\"\n",
    "blast_type=\"blastp\"\n",
    "\n",
    "out=open(job_prefix+\".sh\",\"w\")\n",
    "\n",
    "out.write(\"#!/bin/bash\\n#SBATCH -n 16\\n#SBATCH -N 1\\n#SBATCH -o \"+job_prefix+\".out\\n#SBATCH -e \"+job_prefix+\".err\\n\")\n",
    "out.write(\"#SBATCH -p \"+job_server+\"\\n\\n\")\n",
    "\n",
    "out.write(\"module add engaging/ncbi-blast/2.2.30+\\n\\n\") \n",
    "\n",
    "out.write(blast_type+\" -db \"+database+\" -query \"+query+\" -outfmt 6 -num_descriptions 1 -evalue 0.001 -out \"+query.replace(\".fasta\",\"\")+\"vs\"+dbname+\".txt\")\n",
    "out.close()\n",
    "\n",
    "!open ctermblast.sh -a textedit\n",
    "!scp *blast.sh jbrown@eofe4.mit.edu:/nobackup1/jbrown/nahant_phage_reads/terminase_search/"
   ]
  },
  {
   "cell_type": "code",
   "execution_count": 71,
   "metadata": {
    "collapsed": false
   },
   "outputs": [
    {
     "name": "stdout",
     "output_type": "stream",
     "text": [
      "nahant_phage_terminasesvsCasjens_terminases.t 100%  159KB 159.2KB/s   00:01    \n"
     ]
    }
   ],
   "source": [
    "!scp jbrown@eofe4.mit.edu:/nobackup1/jbrown/nahant_phage_reads/terminase_search/nahant_phage_terminasesvsCasjens_terminases.txt ./"
   ]
  },
  {
   "cell_type": "code",
   "execution_count": 86,
   "metadata": {
    "collapsed": false
   },
   "outputs": [
    {
     "name": "stdout",
     "output_type": "stream",
     "text": [
      "Casjens2009_lg_terminases.fasta\r\n",
      "Casjens2009_lterm_edited.fasta\r\n",
      "Casjens2009_lterm_edited.fasta.fai\r\n",
      "Terminase_Info.txt\r\n",
      "Untitled0.ipynb\r\n",
      "ctermblast.sh\r\n",
      "makeblastdb.sh\r\n",
      "nahant_phage_terminasesvsCasjens_terminases.txt\r\n"
     ]
    }
   ],
   "source": [
    "ls"
   ]
  },
  {
   "cell_type": "code",
   "execution_count": 85,
   "metadata": {
    "collapsed": false
   },
   "outputs": [
    {
     "name": "stdout",
     "output_type": "stream",
     "text": [
      "1.003.O._contig_1_52\tEnterobacteria_phage_Sf6\t32.78\t485\t289\t13\t70\t547\t8\t462\t6e-63\t  210\n",
      "\n",
      "1.003.O. Enterobacteria_phage_Sf6\n",
      "1.003.O._contig_1_52\tEnterobacteria_phage_HK620\t32.78\t485\t289\t13\t70\t547\t8\t462\t1e-62\t  209\n",
      "\n",
      "1.003.O._contig_1_52\tEndosymbiont_phage_APSE-1\t31.20\t484\t299\t14\t74\t547\t1\t460\t2e-62\t  209\n",
      "\n",
      "1.003.O._contig_1_52\tEnterobacteria_phage_ES18\t23.90\t251\t154\t12\t63\t300\t6\t232\t1e-11\t59.3\n",
      "\n",
      "1.004.O._contig_1_24\tBacillus_phage_phi105\t28.28\t587\t371\t14\t38\t608\t16\t568\t2e-57\t  198\n",
      "\n",
      "1.004.O. Bacillus_phage_phi105\n",
      "1.004.O._contig_1_24\tEnterobacteria_phage_phiP27\t25.65\t577\t382\t12\t36\t595\t7\t553\t2e-47\t  169\n",
      "\n",
      "1.004.O._contig_1_24\tClostridium_phage_phi3626\t27.98\t579\t356\t19\t38\t591\t12\t554\t5e-47\t  168\n",
      "\n",
      "1.004.O._contig_1_24\tEscherichia_coli_KOEGE_71_(186a)\t26.29\t601\t376\t16\t17\t593\t1\t558\t1e-46\t  167\n",
      "\n",
      "1.004.O._contig_1_24\tBacillus_thuringiensis_serovar_pakistani_str._T13001\t27.83\t521\t336\t15\t71\t587\t13\t497\t1e-45\t  163\n",
      "\n",
      "1.004.O._contig_1_24\tBurkholderia_phage_phi1026b\t26.39\t576\t371\t16\t37\t593\t13\t554\t2e-45\t  163\n",
      "\n",
      "1.004.O._contig_1_24\tBurkholderia_phage_phiE125\t26.10\t590\t382\t17\t37\t606\t13\t568\t2e-45\t  163\n",
      "\n",
      "1.004.O._contig_1_24\tSalmonella_phage_ST64B\t26.20\t603\t374\t17\t17\t593\t1\t558\t7e-45\t  162\n",
      "\n",
      "1.004.O._contig_1_24\tStaphylococcus_phage_Slt\t26.45\t552\t368\t13\t38\t584\t18\t536\t7e-42\t  152\n",
      "\n",
      "1.004.O._contig_1_24\tKlebsiella_phage_phiKO2\t26.04\t576\t374\t14\t36\t593\t11\t552\t3e-40\t  147\n",
      "\n",
      "1.004.O._contig_1_24\tLactobacillus_phage_A2\t27.16\t589\t362\t25\t42\t604\t8\t555\t7e-39\t  143\n",
      "\n",
      "1.004.O._contig_1_24\tPseudomonas_phage_D3\t25.63\t515\t329\t15\t35\t533\t7\t483\t8e-36\t  134\n",
      "\n",
      "1.004.O._contig_1_24\tYersinia_phage_PY54\t24.55\t607\t375\t18\t21\t593\t3\t560\t1e-35\t  134\n",
      "\n",
      "1.004.O._contig_1_24\tStaphylococcus_phage_PVL\t21.64\t587\t401\t17\t34\t599\t4\t552\t2e-34\t  130\n",
      "\n",
      "1.004.O._contig_1_24\tStreptococcus_phage_Sfi21\t22.43\t602\t354\t24\t37\t582\t33\t577\t3e-24\t  100\n",
      "\n",
      "1.004.O._contig_1_24\tEnterobacteria_phage_HK97\t23.37\t522\t335\t14\t84\t591\t13\t483\t3e-23\t96.7\n",
      "\n",
      "1.004.O._contig_1_24\tLactococcus_phage_BK5-T\t21.67\t586\t381\t18\t37\t582\t51\t598\t2e-22\t94.7\n",
      "\n",
      "1.004.O._contig_1_24\tEnterobacteria_phage_HK022\t23.18\t522\t336\t14\t84\t591\t13\t483\t4e-22\t92.8\n",
      "\n",
      "1.004.O._contig_1_24\tStreptococcus_phage_Sfi19\t21.56\t617\t341\t24\t37\t582\t33\t577\t7e-22\t92.8\n",
      "\n",
      "1.004.O._contig_1_24\tLactobacillus_phage_phiadh\t22.18\t595\t359\t23\t38\t582\t34\t574\t2e-20\t88.6\n",
      "\n",
      "1.004.O._contig_1_24\tStreptomyces_phage_phiC31\t27.87\t287\t187\t8\t138\t417\t72\t345\t3e-20\t87.0\n",
      "\n",
      "1.004.O._contig_1_24\tStreptomyces_phage_phiBT1\t26.44\t348\t218\t12\t79\t417\t31\t349\t3e-20\t87.0\n",
      "\n",
      "1.004.O._contig_1_24\tStreptococcus_phage_7201\t20.68\t590\t380\t23\t37\t582\t34\t579\t4e-14\t67.8\n",
      "\n",
      "1.004.O._contig_1_24\tStreptococcus_agalactiae_2603V/R\t22.07\t512\t367\t16\t33\t529\t5\t499\t6e-12\t61.2\n",
      "\n",
      "1.004.O._contig_1_24\tLactococcus_phage_bIL285\t21.57\t496\t328\t17\t37\t496\t12\t482\t4e-10\t55.1\n",
      "\n",
      "1.004.O._contig_1_24\tStaphylococcus_aureus\t19.70\t472\t305\t16\t65\t514\t38\t457\t4e-09\t52.0\n",
      "\n",
      "1.004.O._contig_1_24\tLactococcus_phage_SK1\t19.20\t500\t346\t17\t115\t591\t71\t535\t1e-08\t50.1\n",
      "\n",
      "1.004.O._contig_1_24\tEscherichia_coli_O157:H7_str._EDL933_prophage_CP-933V\t19.78\t551\t352\t20\t83\t593\t39\t539\t1e-04\t37.4\n",
      "\n",
      "1.004.O._contig_1_24\tEscherichia_coli_O157:H7_str._EDL933_prophage_CP-933N\t19.65\t565\t362\t20\t69\t593\t27\t539\t1e-04\t37.4\n",
      "\n",
      "1.005.O._contig_1_67\tWolbachia_phage_WO\t30.00\t490\t294\t14\t21\t505\t17\t462\t1e-60\t  209\n",
      "\n",
      "1.005.O. Wolbachia_phage_WO\n",
      "1.005.O._contig_1_67\tPhage_21\t24.40\t623\t394\t26\t21\t615\t28\t601\t1e-27\t  111\n",
      "\n",
      "1.005.O._contig_1_67\tPhage_Gifsy-1\t24.08\t623\t396\t25\t21\t615\t28\t601\t2e-27\t  110\n",
      "\n",
      "1.005.O._contig_1_67\tEnterobacteria_phage_N15\t23.38\t616\t408\t24\t21\t615\t28\t600\t1e-22\t95.1\n",
      "\n",
      "1.005.O._contig_1_67\tEnterobacteria_phage_lambda\t24.88\t619\t387\t29\t25\t615\t32\t600\t2e-21\t91.3\n",
      "\n",
      "1.005.O._contig_1_67\tPhage_Gifsy-2\t21.49\t656\t383\t30\t48\t632\t62\t656\t6e-09\t51.6\n",
      "\n",
      "1.005.O._contig_1_67\tSalmonella_phage_Fels-1\t19.33\t652\t402\t24\t48\t632\t52\t646\t9e-08\t47.8\n",
      "\n",
      "1.007.O._contig_1_58\tEnterobacteria_phage_HK620\t33.19\t455\t277\t13\t38\t483\t19\t455\t3e-65\t  215\n",
      "\n",
      "1.007.O. Enterobacteria_phage_HK620\n",
      "1.007.O._contig_1_58\tEnterobacteria_phage_Sf6\t33.19\t455\t277\t13\t38\t483\t19\t455\t7e-65\t  214\n",
      "\n",
      "1.007.O._contig_1_58\tEndosymbiont_phage_APSE-1\t30.52\t462\t271\t13\t41\t478\t12\t447\t5e-46\t  162\n",
      "\n",
      "1.007.O._contig_1_58\tEnterobacteria_phage_ES18\t33.50\t206\t126\t6\t40\t237\t28\t230\t1e-24\t99.4\n",
      "\n",
      "1.007.O._contig_1_58\tCellulophaga_phage_phi13:1\t31.58\t152\t97\t5\t41\t185\t35\t186\t7e-11\t56.6\n",
      "\n",
      "1.007.O._contig_1_58\tBacillus_phage_SPP1\t25.45\t224\t143\t8\t27\t232\t19\t236\t9e-11\t56.2\n",
      "\n",
      "1.007.O._contig_1_58\tStaphylococcus_phage_SP6\t28.66\t157\t99\t6\t63\t212\t60\t210\t7e-09\t50.4\n",
      "\n",
      "1.009.O._contig_1_2\tWolbachia_phage_WO\t27.93\t605\t374\t20\t30\t625\t17\t568\t2e-57\t  200\n",
      "\n",
      "1.009.O. Wolbachia_phage_WO\n",
      "1.009.O._contig_1_2\tPhage_Gifsy-1\t24.29\t671\t404\t27\t10\t641\t8\t613\t5e-29\t  115\n",
      "\n",
      "1.009.O._contig_1_2\tPhage_21\t25.23\t551\t341\t27\t30\t557\t28\t530\t7e-24\t99.4\n",
      "\n",
      "1.009.O._contig_1_2\tEnterobacteria_phage_N15\t24.78\t573\t354\t27\t5\t551\t3\t524\t2e-23\t98.2\n",
      "\n",
      "1.009.O._contig_1_2\tEnterobacteria_phage_lambda\t23.45\t614\t399\t27\t34\t625\t32\t596\t2e-21\t91.7\n",
      "\n",
      "1.009.O._contig_1_2\tPhage_Gifsy-2\t22.29\t628\t382\t28\t59\t626\t64\t645\t1e-13\t66.6\n",
      "\n",
      "1.009.O._contig_1_2\tSalmonella_phage_Fels-1\t21.66\t494\t290\t21\t193\t626\t179\t635\t2e-11\t59.7\n",
      "\n",
      "1.009.O._contig_1_2\tEscherichia_coli_O157:H7_str._LSU-61_prophage_CP-933K\t19.96\t491\t302\t17\t193\t626\t177\t633\t1e-10\t57.4\n",
      "\n",
      "1.009.O._contig_1_2\tBacillus_phage_SPO1\t28.02\t182\t97\t10\t199\t375\t167\t319\t2e-07\t46.6\n",
      "\n",
      "1.012.O._contig_1_36\tEndosymbiont_phage_APSE-1\t30.66\t274\t171\t9\t300\t566\t201\t462\t2e-21\t90.1\n",
      "\n",
      "1.012.O. Endosymbiont_phage_APSE-1\n",
      "1.012.O._contig_1_36\tEnterobacteria_phage_HK620\t28.11\t249\t161\t7\t312\t551\t209\t448\t4e-14\t67.8\n",
      "\n",
      "1.012.O._contig_1_36\tEnterobacteria_phage_Sf6\t28.11\t249\t161\t7\t312\t551\t209\t448\t4e-14\t67.4\n",
      "\n",
      "1.013.O._contig_1_16\tEnterobacteria_phage_HK620\t36.09\t471\t253\t12\t6\t452\t4\t450\t1e-80\t  255\n",
      "\n",
      "1.013.O. Enterobacteria_phage_HK620\n",
      "1.013.O._contig_1_16\tEnterobacteria_phage_Sf6\t35.82\t469\t257\t11\t6\t452\t4\t450\t3e-80\t  254\n",
      "\n",
      "1.013.O._contig_1_16\tEndosymbiont_phage_APSE-1\t36.01\t461\t261\t12\t14\t453\t2\t449\t5e-80\t  253\n",
      "\n",
      "1.013.O._contig_1_16\tEnterobacteria_phage_ES18\t31.23\t253\t147\t8\t6\t243\t13\t253\t9e-27\t  105\n",
      "\n",
      "1.013.O._contig_1_16\tBacillus_phage_SPP1\t24.89\t233\t153\t8\t21\t238\t30\t255\t2e-07\t45.4\n",
      "\n",
      "1.013.O._contig_1_16\tCellulophaga_phage_phi13:1\t30.47\t128\t78\t6\t5\t124\t16\t140\t4e-07\t45.1\n",
      "\n",
      "1.013.O._contig_1_16\tStaphylococcus_phage_SP6\t20.45\t176\t122\t6\t48\t215\t62\t227\t1e-05\t40.4\n",
      "\n",
      "1.013.O._contig_1_16\tLactobacillus_phage_LL-H\t24.69\t162\t103\t7\t6\t149\t9\t169\t6e-04\t34.7\n",
      "\n",
      "1.015.O._contig_1_52\tPseudomonad_phage_gh-1\t25.00\t256\t159\t9\t60\t303\t59\t293\t1e-11\t59.7\n",
      "\n",
      "1.015.O. Pseudomonad_phage_gh-1\n",
      "1.015.O._contig_1_52\tPseudomonas_phage_phiKMV\t23.49\t166\t117\t2\t42\t203\t37\t196\t8e-09\t50.8\n",
      "\n",
      "1.015.O._contig_1_52\tEnterobacteria_phage_T3\t28.57\t140\t88\t4\t60\t198\t60\t188\t9e-08\t47.4\n",
      "\n",
      "1.015.O._contig_1_52\tYersinia_phage_phiYeO3-12\t28.57\t140\t88\t4\t60\t198\t61\t189\t9e-08\t47.4\n",
      "\n",
      "1.015.O._contig_1_52\tPhage_T7\t29.08\t141\t86\t4\t60\t198\t60\t188\t4e-07\t45.4\n",
      "\n",
      "1.015.O._contig_1_52\tEnterobacteria_phage_K1-5\t22.45\t147\t104\t4\t59\t203\t73\t211\t4e-05\t38.9\n",
      "\n",
      "1.016.O._contig_1_31\tEnterobacteria_phage_ES18\t38.06\t444\t219\t12\t51\t462\t3\t422\t3e-93\t  287\n",
      "\n",
      "1.016.O. Enterobacteria_phage_ES18\n",
      "1.016.O._contig_1_31\tEnterobacteria_phage_HK620\t38.39\t224\t128\t1\t65\t288\t7\t220\t3e-45\t  159\n",
      "\n",
      "1.016.O._contig_1_31\tEnterobacteria_phage_Sf6\t38.39\t224\t128\t1\t65\t288\t7\t220\t3e-45\t  159\n",
      "\n",
      "1.016.O._contig_1_31\tEndosymbiont_phage_APSE-1\t35.09\t265\t164\t5\t69\t331\t1\t259\t6e-42\t  150\n",
      "\n",
      "1.016.O._contig_1_31\tStaphylococcus_phage_SP6\t27.45\t368\t228\t15\t103\t458\t61\t401\t2e-25\t  101\n",
      "\n",
      "1.016.O._contig_1_31\tBacillus_phage_SPP1\t26.86\t417\t246\t18\t77\t464\t30\t416\t2e-25\t  100\n",
      "\n",
      "1.016.O._contig_1_31\tCellulophaga_phage_phi13:1\t25.86\t321\t206\t13\t78\t386\t33\t333\t1e-17\t77.4\n",
      "\n",
      "1.016.O._contig_1_31\tLactobacillus_phage_LL-H\t26.64\t289\t165\t14\t66\t328\t9\t276\t4e-13\t63.9\n",
      "\n",
      "1.016.O._contig_1_31\tListeria_phage_A118\t27.90\t276\t163\t14\t63\t311\t23\t289\t6e-12\t60.1\n",
      "\n",
      "1.016.O._contig_1_31\tLactobacillus_phage_phig1e\t26.98\t252\t138\t15\t65\t284\t20\t257\t3e-09\t51.6\n",
      "\n",
      "1.016.O._contig_1_31\tBacillus_phage_BCJA1c\t24.89\t229\t147\t8\t63\t274\t19\t239\t3e-08\t48.1\n",
      "\n",
      "1.016.O._contig_1_31\tStreptococcus_phage_MM1\t25.00\t260\t158\t11\t74\t311\t22\t266\t2e-04\t36.6\n",
      "\n",
      "1.016.O._contig_1_31\tStreptococcus_phage_Sfi11\t19.68\t249\t152\t9\t160\t393\t113\t328\t0.001\t33.9\n",
      "\n",
      "1.017.O._contig_1_72\tWolbachia_phage_WO\t28.55\t613\t371\t22\t21\t619\t17\t576\t2e-61\t  211\n",
      "\n",
      "1.017.O. Wolbachia_phage_WO\n",
      "1.017.O._contig_1_72\tPhage_21\t24.28\t622\t396\t25\t21\t615\t28\t601\t4e-28\t  112\n",
      "\n",
      "1.017.O._contig_1_72\tPhage_Gifsy-1\t24.60\t626\t389\t28\t21\t615\t28\t601\t6e-28\t  112\n",
      "\n",
      "1.017.O._contig_1_72\tEnterobacteria_phage_N15\t23.21\t616\t409\t24\t21\t615\t28\t600\t3e-22\t94.0\n",
      "\n",
      "1.017.O._contig_1_72\tEnterobacteria_phage_lambda\t24.11\t618\t393\t25\t25\t615\t32\t600\t2e-21\t91.7\n",
      "\n",
      "1.017.O._contig_1_72\tPhage_Gifsy-2\t21.34\t656\t384\t30\t48\t632\t62\t656\t6e-09\t51.6\n",
      "\n",
      "1.017.O._contig_1_72\tSalmonella_phage_Fels-1\t19.72\t654\t397\t27\t48\t632\t52\t646\t5e-08\t48.9\n",
      "\n",
      "1.022.O._contig_1_15\tEndosymbiont_phage_APSE-1\t30.19\t265\t166\t9\t301\t558\t201\t453\t8e-20\t85.5\n",
      "\n",
      "1.022.O. Endosymbiont_phage_APSE-1\n"
     ]
    }
   ],
   "source": [
    "blast=open(\"nahant_phage_terminasesvsCasjens_terminases.txt\")\n",
    "phages=[]\n",
    "\n",
    "for line in blast.readlines(10):\n",
    "    #print(line)\n",
    "    phage=line.split(\"_\")[0]\n",
    "    if phage not in phages:\n",
    "        phages.append(phage)\n",
    "        print(phage+\" \"+line.split(\"\\t\")[1])\n"
   ]
  },
  {
   "cell_type": "code",
   "execution_count": 2,
   "metadata": {
    "collapsed": false
   },
   "outputs": [
    {
     "data": {
      "text/plain": [
       "\n",
       "Attaching package: ‘dplyr’\n",
       "\n",
       "The following object is masked from ‘package:stats’:\n",
       "\n",
       "    filter\n",
       "\n",
       "The following objects are masked from ‘package:base’:\n",
       "\n",
       "    intersect, setdiff, setequal, union\n",
       "\n",
       "\n",
       "Attaching package: ‘gplots’\n",
       "\n",
       "The following object is masked from ‘package:stats’:\n",
       "\n",
       "    lowess\n",
       "\n"
      ]
     },
     "metadata": {},
     "output_type": "display_data"
    }
   ],
   "source": [
    "%load_ext rpy2.ipython\n",
    "%R library(dplyr);library(ggplot2);library(magrittr); library(gplots)"
   ]
  },
  {
   "cell_type": "code",
   "execution_count": 3,
   "metadata": {
    "collapsed": false
   },
   "outputs": [
    {
     "data": {
      "text/plain": [
       "'data.frame':\t238 obs. of  5 variables:\n",
       " $ phage           : Factor w/ 238 levels \"1.003.O.\",\"1.004.O.\",..: 1 2 3 4 5 6 7 8 9 10 ...\n",
       " $ evalue          : num  6e-63 2e-57 1e-60 3e-65 2e-57 ...\n",
       " $ Terminase       : Factor w/ 114 levels \"Achromobacter_phage_JWAlpha\",..: 31 6 111 21 111 16 21 70 19 111 ...\n",
       " $ terminase_type  : Factor w/ 13 levels \"3-cos/HK97\",\"5-cos/P2\",..: 9 1 3 9 3 9 9 13 9 3 ...\n",
       " $ general_strategy: Factor w/ 5 levels \"Cos\",\"DTR\",\"Headful\",..: 3 1 1 3 1 3 3 2 3 1 ...\n"
      ]
     },
     "metadata": {},
     "output_type": "display_data"
    }
   ],
   "source": [
    "%%R\n",
    "blast<-read.table(\"nahant_phage_terminasesvsCasjens_terminases.txt\", sep=\"\\t\")\n",
    "\n",
    "blast$phage<-gsub(\"_.*\",\"\", blast$V1)%>%as.factor\n",
    "\n",
    "#test[!duplicated(test$id),]\n",
    "\n",
    "blast2<-aggregate(V11~phage, data=blast, min)%>%merge(blast)%>%.[,c(1,2,4)]%>%.[!duplicated(.$phage),]\n",
    "colnames(blast2)<-c(\"phage\",\"evalue\",\"Terminase\")\n",
    "\n",
    "\n",
    "terminase<-read.table(\"Terminase_Info.txt\",sep=\"\\t\", header=TRUE)\n",
    "\n",
    "blast2$terminase_type<-terminase$Terminase_Type[match(blast2$Terminase, terminase$Name)]\n",
    "blast2$general_strategy<-terminase$General_Terminase[match(blast2$Terminase, terminase$Name)]\n",
    "\n",
    "str(blast2)\n",
    "write.table(file=\"Casjens_Terminase_Comparison.txt\",blast2, sep=\"\\t\",quote=FALSE, row.names=FALSE, )\n",
    "write.table(file=\"new_terminase_categories.txt\",blast2[,c(1,2,4,5)], quote=FALSE, row.names=FALSE, col.names=FALSE, sep=\"\\t\")\n",
    "\n",
    "#head(blast2[,c(1,2,4)])"
   ]
  },
  {
   "cell_type": "code",
   "execution_count": 133,
   "metadata": {
    "collapsed": false
   },
   "outputs": [
    {
     "data": {
      "text/plain": [
       "'data.frame':\t271 obs. of  3 variables:\n",
       " $ V1: Factor w/ 271 levels \"1.003.O.\",\"1.004.O.\",..: 1 2 3 4 5 6 7 8 9 10 ...\n",
       " $ V2: num  2.18e-56 7.05e-22 7.24e-26 3.51e-39 5.84e-82 ...\n",
       " $ V3: Factor w/ 13 levels \"3 extended cos ends\",..: 8 1 2 8 10 8 8 12 8 2 ...\n"
      ]
     },
     "metadata": {},
     "output_type": "display_data"
    }
   ],
   "source": [
    "%%R\n",
    "terminase1<-read.table(\"/Users/jmb/Desktop/ViralFate/ProtComparisons/terminase_categories.txt\", sep=\"\\t\", header=FALSE)\n",
    "str(terminase1)"
   ]
  },
  {
   "cell_type": "code",
   "execution_count": 137,
   "metadata": {
    "collapsed": false
   },
   "outputs": [
    {
     "data": {
      "text/plain": [
       "u'/Users/jmb/Desktop/ViralFate/Terminase'"
      ]
     },
     "execution_count": 137,
     "metadata": {},
     "output_type": "execute_result"
    }
   ],
   "source": [
    "pwd"
   ]
  },
  {
   "cell_type": "code",
   "execution_count": null,
   "metadata": {
    "collapsed": false
   },
   "outputs": [],
   "source": []
  }
 ],
 "metadata": {
  "kernelspec": {
   "display_name": "Python 2",
   "language": "python",
   "name": "python2"
  },
  "language_info": {
   "codemirror_mode": {
    "name": "ipython",
    "version": 2
   },
   "file_extension": ".py",
   "mimetype": "text/x-python",
   "name": "python",
   "nbconvert_exporter": "python",
   "pygments_lexer": "ipython2",
   "version": "2.7.10"
  }
 },
 "nbformat": 4,
 "nbformat_minor": 0
}
