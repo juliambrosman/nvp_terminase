{
 "metadata": {
  "name": "",
  "signature": "sha256:650333e54fb0287ad0ffdf368ede7ee9c2e4582a125c1b7ae7f6b855241f708f"
 },
 "nbformat": 3,
 "nbformat_minor": 0,
 "worksheets": [
  {
   "cells": [
    {
     "cell_type": "code",
     "collapsed": false,
     "input": [
      "from pyfaidx import Fasta"
     ],
     "language": "python",
     "metadata": {},
     "outputs": [],
     "prompt_number": 1
    },
    {
     "cell_type": "code",
     "collapsed": false,
     "input": [
      "ls akmk_terminases/"
     ],
     "language": "python",
     "metadata": {},
     "outputs": [
      {
       "output_type": "stream",
       "stream": "stdout",
       "text": [
        "TERMINASES-ncbiACCs-KKv080615.ncbiBatchEntrez.out.fasta\r\n",
        "TERMINASES-ncbiACCs-KKv080615.txt\r\n",
        "terminases-shorty-for-JB.txt\r\n",
        "terminases-shorty-for-JB.xlsx\r\n"
       ]
      }
     ],
     "prompt_number": 3
    },
    {
     "cell_type": "code",
     "collapsed": false,
     "input": [
      "info=open(\"./akmk_terminases/terminases-shorty-for-JB.txt\")\n",
      "name_acc={}\n",
      "\n",
      "for i in info.readlines()[1:]:\n",
      "    name_acc[i.split(\"\\t\")[3]]=i.split(\"\\t\")[0]\n",
      "    "
     ],
     "language": "python",
     "metadata": {},
     "outputs": [],
     "prompt_number": 55
    },
    {
     "cell_type": "code",
     "collapsed": false,
     "input": [
      "fas=open(\"./akmk_terminases/TERMINASES-ncbiACCs-KKv080615.ncbiBatchEntrez.out.fasta\").readlines()\n",
      "out=open(\"./akmk_terminases/TERMINASES-ncbiACCs-KKv080615.ncbiBatchEntrez.fasta\",\"w\")\n",
      "\n",
      "for line in fas:\n",
      "    if line.startswith(\">\"):\n",
      "        out.write(\"\\n\"+line)\n",
      "    else:\n",
      "        out.write(line.rstrip(\"\\n\"))\n",
      "out.close()"
     ],
     "language": "python",
     "metadata": {},
     "outputs": [],
     "prompt_number": 36
    },
    {
     "cell_type": "code",
     "collapsed": false,
     "input": [
      "!open ./akmk_terminases/TERMINASES-ncbiACCs-KKv080615.ncbiBatchEntrez.fasta -a textedit"
     ],
     "language": "python",
     "metadata": {},
     "outputs": [],
     "prompt_number": 39
    },
    {
     "cell_type": "code",
     "collapsed": false,
     "input": [
      "f=Fasta(\"./akmk_terminases/TERMINASES-ncbiACCs-KKv080615.ncbiBatchEntrez.fasta\")\n",
      "\n",
      "names=f.keys()\n",
      "out=open(\"./akmk_terminases/akmk_terminases_short_title.fasta\",\"w\")\n",
      "\n",
      "for n in f.keys():\n",
      "    gi=n.split(\"|\")[1]\n",
      "    out.write(\">\"+name_acc[gi]+\"\\n\")\n",
      "    out.write(str(f[n])+\"\\n\")\n",
      "out.close()"
     ],
     "language": "python",
     "metadata": {},
     "outputs": [],
     "prompt_number": 60
    },
    {
     "cell_type": "code",
     "collapsed": false,
     "input": [
      "!open ./akmk_terminases/akmk_terminases_short_title.fasta -a textedit"
     ],
     "language": "python",
     "metadata": {},
     "outputs": [],
     "prompt_number": 61
    },
    {
     "cell_type": "code",
     "collapsed": false,
     "input": [
      "n_term=Fasta(\"./terminase/nahant_phage_terminases.fasta\")\n",
      "t_term=Fasta(\"./akmk_terminases/akmk_terminases_short_title.fasta\")"
     ],
     "language": "python",
     "metadata": {},
     "outputs": [],
     "prompt_number": 68
    },
    {
     "cell_type": "code",
     "collapsed": false,
     "input": [
      "!cat ./terminase/nahant_phage_terminases.fasta ./akmk_terminases/akmk_terminases_short_title.fasta > term_short_nahant_term.fasta"
     ],
     "language": "python",
     "metadata": {},
     "outputs": [],
     "prompt_number": 69
    },
    {
     "cell_type": "code",
     "collapsed": false,
     "input": [],
     "language": "python",
     "metadata": {},
     "outputs": []
    }
   ],
   "metadata": {}
  }
 ]
}