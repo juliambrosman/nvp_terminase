{
 "metadata": {
  "name": "",
  "signature": "sha256:133bf67c83116a4617271af46870066c02d0633bf684a7d0e9f1fdcdc7c8879b"
 },
 "nbformat": 3,
 "nbformat_minor": 0,
 "worksheets": [
  {
   "cells": [
    {
     "cell_type": "code",
     "collapsed": false,
     "input": [
      "import os\n",
      "\n",
      "os.chdir(\"../\")\n",
      "\n",
      "prelim_groups=open(\"phage_by_group.txt\")\n",
      "\n",
      "os.chdir(\"./terminase\")\n",
      "\n",
      "phagelist=[]\n",
      "out=open(\"phagelist.txt\",\"w\")\n",
      "\n",
      "for line in prelim_groups:\n",
      "    phagelist.append(line.split(\"\\t\")[0])\n",
      "    out.write(line.split(\"\\t\")[0]+\"\\n\")\n",
      "print(phagelist)\n",
      "out.close()"
     ],
     "language": "python",
     "metadata": {},
     "outputs": [
      {
       "output_type": "stream",
       "stream": "stdout",
       "text": [
        "['1.003.O.', '1.004.O.', '1.005.O.', '1.007.O.', '1.008.O.', '1.009.O.', '1.011.O.', '1.012.O.', '1.013.O.', '1.015.O.', '1.016.O.', '1.017.O.', '1.020.O.', '1.021.A.', '1.021.B.', '1.021.C.', '1.022.O.', '1.023.O.', '1.024.O.', '1.025.O.', '1.026.O.', '1.027.O.', '1.028.O.', '1.029.O.', '1.030.O.', '1.031.O.', '1.032.O.', '1.033.O.', '1.034.O.', '1.034.X.', '1.036.O.', '1.037.O.', '1.038.O.', '1.039.O.', '1.040.O.', '1.042.O.', '1.043.O.', '1.044.O.', '1.046.O.', '1.047.O.', '1.048.O.', '1.049.O.', '1.050.O.', '1.052.A.', '1.054.O.', '1.055.O.', '1.056.O.', '1.057.O.', '1.060.A.', '1.061.O.', '1.062.O.', '1.063.O.', '1.064.O.', '1.066.O.', '1.067.O.', '1.068.O.', '1.069.O.', '1.070.O.', '1.071.A.', '1.072.O.', '1.074.O.', '1.075.O.', '1.076.O.', '1.077.O.', '1.079.O.', '1.080.O.', '1.081.O.', '1.082.O.', '1.083.O.', '1.084.O.', '1.085.O.', '1.086.O.', '1.087.A.', '1.088.O.', '1.089.O.', '1.090.B.', '1.091.O.', '1.093.O.', '1.094.O.', '1.095.O.', '1.097.O.', '1.098.O.', '1.100.O.', '1.101.O.', '1.102.O.', '1.103.O.', '1.104.O.', '1.105.O.', '1.106.O.', '1.107.A.', '1.107.B.', '1.107.C.', '1.108.O.', '1.110.O.', '1.111.A.', '1.111.B.', '1.112.O.', '1.113.A.', '1.115.A.', '1.115.B.', '1.116.O.', '1.117.O.', '1.118.A.', '1.118.B.', '1.119.O.', '1.121.O.', '1.122.A.', '1.122.B.', '1.123.O.', '1.124.O.', '1.125.O.', '1.126.O.', '1.127.O.', '1.131.O.', '1.132.O.', '1.133.O.', '1.134.O.', '1.135.O.', '1.136.O.', '1.137.O.', '1.138.O.', '1.139.A.', '1.139.B.', '1.141.A.', '1.142.O.', '1.143.O.', '1.144.O.', '1.147.O.', '1.148.O.', '1.149.O.', '1.150.O.', '1.151.O.', '1.152.O.', '1.154.O.', '1.155.O.', '1.156.O.', '1.157.O.', '1.158.O.', '1.159.O.', '1.160.O.', '1.161.O.', '1.162.O.', '1.164.O.', '1.165.O.', '1.166.O.', '1.167.O.', '1.168.O.', '1.169.O.', '1.170.O.', '1.171.O.', '1.172.O.', '1.173.O.', '1.174.O.', '1.175.O.', '1.176.O.', '1.177.O.', '1.178.O.', '1.179.O.', '1.181.O.', '1.182.O.', '1.183.O.', '1.184.A.', '1.185.O.', '1.186.O.', '1.187.O.', '1.188.A.', '1.188.B.', '1.188.C.', '1.189.B.', '1.189.C.', '1.189.O.', '1.190.O.', '1.191.O.', '1.193.O.', '1.194.O.', '1.195.O.', '1.196.O.', '1.197.A.', '1.198.A.', '1.198.B.', '1.199.A.', '1.199.B.', '1.200.O.', '1.201.B.', '1.202.O.', '1.204.O.', '1.205.O.', '1.206.O.', '1.207.B.', '1.208.B.', '1.209.O.', '1.210.O.', '1.211.A.', '1.211.B.', '1.213.O.', '1.214.O.', '1.214.Y.', '1.215.A.', '1.215.B.', '1.216.O.', '1.217.O.', '1.217.Y.', '1.219.O.', '1.223.O.', '1.224.A.', '1.225.O.', '1.226.O.', '1.228.O.', '1.231.O.', '1.232.O.', '1.233.A.', '1.233.B.', '1.235.O.', '1.236.O.', '1.237.A.', '1.237.B.', '1.238.A.', '1.238.B.', '1.239.O.', '1.240.O.', '1.242.O.', '1.243.O.', '1.244.A.', '1.245.O.', '1.246.O.', '1.247.A.', '1.247.B.', '1.248.O.', '1.249.A.', '1.249.B.', '1.250.O.', '1.251.O.', '1.253.O.', '1.254.O.', '1.255.O.', '1.256.O.', '1.257.O.', '1.259.O.', '1.261.O.', '1.262.O.', '1.263.A.', '1.263.B.', '1.264.O.', '1.265.O.', '1.266.O.', '1.267.O.', '1.268.A.', '1.268.B.', '1.269.O.', '1.270.A.', '1.270.B.', '1.271.A.', '1.271.B.', '1.272.O.', '1.273.O.', '1.274.O.', '1.275.O.', '1.276.O.', '1.277.A.', '1.277.B.', '1.278.O.', '1.280.O.', '1.281.O.', '1.282.A.', '1.283.A.', '1.283.B.', '1.283.C.', '1.284.A.', '1.285.O.', '1.286.O.', '1.287.O.', '1.289.A.', '1.291.O.', '1.293.O.', '12G01.O.', '2.044.O.', '2.058.O.', '2.092.O.', '2.095.A.', '2.095.B.', '2.096.O.', '2.117.O.', '2.130.O.', '2.159.A.', '2.159.B.', '2.275.O.', '3.058.O.']\n"
       ]
      }
     ],
     "prompt_number": 9
    },
    {
     "cell_type": "code",
     "collapsed": false,
     "input": [
      "!scp ../final_fastas_bp/*.final.fasta jbrown@eofe4.mit.edu:/nobackup1/jbrown/nahant_phage_reads/final_bp_contigs/"
     ],
     "language": "python",
     "metadata": {},
     "outputs": [
      {
       "output_type": "stream",
       "stream": "stdout",
       "text": [
        "\r",
        "1.003.O.final.fasta                             0%    0     0.0KB/s   --:-- ETA\r",
        "1.003.O.final.fasta                           100%   41KB  40.9KB/s   00:00    \r\n"
       ]
      },
      {
       "output_type": "stream",
       "stream": "stdout",
       "text": [
        "\r",
        "1.004.O.final.fasta                             0%    0     0.0KB/s   --:-- ETA\r",
        "1.004.O.final.fasta                           100%   42KB  41.6KB/s   00:00    \r\n"
       ]
      },
      {
       "output_type": "stream",
       "stream": "stdout",
       "text": [
        "\r",
        "1.005.O.final.fasta                             0%    0     0.0KB/s   --:-- ETA\r",
        "1.005.O.final.fasta                           100%   49KB  49.2KB/s   00:00    \r\n"
       ]
      },
      {
       "output_type": "stream",
       "stream": "stdout",
       "text": [
        "\r",
        "1.007.O.final.fasta                             0%    0     0.0KB/s   --:-- ETA\r",
        "1.007.O.final.fasta                           100%   48KB  48.1KB/s   00:00    \r\n"
       ]
      },
      {
       "output_type": "stream",
       "stream": "stdout",
       "text": [
        "\r",
        "1.008.O.final.fasta                             0%    0     0.0KB/s   --:-- ETA\r",
        "1.008.O.final.fasta                           100%   10KB  10.4KB/s   00:00    \r\n"
       ]
      },
      {
       "output_type": "stream",
       "stream": "stdout",
       "text": [
        "\r",
        "1.009.O.final.fasta                             0%    0     0.0KB/s   --:-- ETA\r",
        "1.009.O.final.fasta                           100%   43KB  43.4KB/s   00:00    \r\n"
       ]
      },
      {
       "output_type": "stream",
       "stream": "stdout",
       "text": [
        "\r",
        "1.011.O.final.fasta                             0%    0     0.0KB/s   --:-- ETA\r",
        "1.011.O.final.fasta                           100%   10KB  10.4KB/s   00:00    \r\n"
       ]
      },
      {
       "output_type": "stream",
       "stream": "stdout",
       "text": [
        "\r",
        "1.012.O.final.fasta                             0%    0     0.0KB/s   --:-- ETA\r",
        "1.012.O.final.fasta                           100%   59KB  58.6KB/s   00:00    \r\n"
       ]
      },
      {
       "output_type": "stream",
       "stream": "stdout",
       "text": [
        "\r",
        "1.013.O.final.fasta                             0%    0     0.0KB/s   --:-- ETA\r",
        "1.013.O.final.fasta                           100%   43KB  43.5KB/s   00:00    \r\n"
       ]
      },
      {
       "output_type": "stream",
       "stream": "stdout",
       "text": [
        "\r",
        "1.015.O.final.fasta                             0%    0     0.0KB/s   --:-- ETA\r",
        "1.015.O.final.fasta                           100%   42KB  41.6KB/s   00:00    \r\n"
       ]
      },
      {
       "output_type": "stream",
       "stream": "stdout",
       "text": [
        "\r",
        "1.016.O.final.fasta                             0%    0     0.0KB/s   --:-- ETA\r",
        "1.016.O.final.fasta                           100%   47KB  47.0KB/s   00:00    \r\n"
       ]
      },
      {
       "output_type": "stream",
       "stream": "stdout",
       "text": [
        "\r",
        "1.017.O.final.fasta                             0%    0     0.0KB/s   --:-- ETA\r",
        "1.017.O.final.fasta                           100%   50KB  50.1KB/s   00:00    \r\n"
       ]
      },
      {
       "output_type": "stream",
       "stream": "stdout",
       "text": [
        "\r",
        "1.020.O.final.fasta                             0%    0     0.0KB/s   --:-- ETA\r",
        "1.020.O.final.fasta                           100%   10KB  10.4KB/s   00:00    \r\n"
       ]
      },
      {
       "output_type": "stream",
       "stream": "stdout",
       "text": [
        "\r",
        "1.021.A.final.fasta                             0%    0     0.0KB/s   --:-- ETA\r",
        "1.021.A.final.fasta                           100%   43KB  42.8KB/s   00:00    \r\n"
       ]
      },
      {
       "output_type": "stream",
       "stream": "stdout",
       "text": [
        "\r",
        "1.021.B.final.fasta                             0%    0     0.0KB/s   --:-- ETA\r",
        "1.021.B.final.fasta                           100%   43KB  42.8KB/s   00:00    \r\n"
       ]
      },
      {
       "output_type": "stream",
       "stream": "stdout",
       "text": [
        "\r",
        "1.021.C.final.fasta                             0%    0     0.0KB/s   --:-- ETA\r",
        "1.021.C.final.fasta                           100%   43KB  42.8KB/s   00:00    \r\n"
       ]
      },
      {
       "output_type": "stream",
       "stream": "stdout",
       "text": [
        "\r",
        "1.022.O.final.fasta                             0%    0     0.0KB/s   --:-- ETA\r",
        "1.022.O.final.fasta                           100%   61KB  61.0KB/s   00:00    \r\n"
       ]
      },
      {
       "output_type": "stream",
       "stream": "stdout",
       "text": [
        "\r",
        "1.023.O.final.fasta                             0%    0     0.0KB/s   --:-- ETA\r",
        "1.023.O.final.fasta                           100%   59KB  58.5KB/s   00:00    \r\n"
       ]
      },
      {
       "output_type": "stream",
       "stream": "stdout",
       "text": [
        "\r",
        "1.024.O.final.fasta                             0%    0     0.0KB/s   --:-- ETA\r",
        "1.024.O.final.fasta                           100%   58KB  57.6KB/s   00:00    \r\n"
       ]
      },
      {
       "output_type": "stream",
       "stream": "stdout",
       "text": [
        "\r",
        "1.025.O.final.fasta                             0%    0     0.0KB/s   --:-- ETA\r",
        "1.025.O.final.fasta                           100%   74KB  74.1KB/s   00:00    \r\n"
       ]
      },
      {
       "output_type": "stream",
       "stream": "stdout",
       "text": [
        "\r",
        "1.026.O.final.fasta                             0%    0     0.0KB/s   --:-- ETA\r",
        "1.026.O.final.fasta                           100%   74KB  74.1KB/s   00:00    \r\n"
       ]
      },
      {
       "output_type": "stream",
       "stream": "stdout",
       "text": [
        "\r",
        "1.027.O.final.fasta                             0%    0     0.0KB/s   --:-- ETA\r",
        "1.027.O.final.fasta                           100%   58KB  57.9KB/s   00:00    \r\n"
       ]
      },
      {
       "output_type": "stream",
       "stream": "stdout",
       "text": [
        "\r",
        "1.028.O.final.fasta                             0%    0     0.0KB/s   --:-- ETA\r",
        "1.028.O.final.fasta                           100%   31KB  31.0KB/s   00:00    \r\n"
       ]
      },
      {
       "output_type": "stream",
       "stream": "stdout",
       "text": [
        "\r",
        "1.029.O.final.fasta                             0%    0     0.0KB/s   --:-- ETA\r",
        "1.029.O.final.fasta                           100%   45KB  45.5KB/s   00:00    \r\n"
       ]
      },
      {
       "output_type": "stream",
       "stream": "stdout",
       "text": [
        "\r",
        "1.030.O.final.fasta                             0%    0     0.0KB/s   --:-- ETA\r",
        "1.030.O.final.fasta                           100%   45KB  44.8KB/s   00:00    \r\n"
       ]
      },
      {
       "output_type": "stream",
       "stream": "stdout",
       "text": [
        "\r",
        "1.031.O.final.fasta                             0%    0     0.0KB/s   --:-- ETA\r",
        "1.031.O.final.fasta                           100%  149KB 149.4KB/s   00:00    \r\n"
       ]
      },
      {
       "output_type": "stream",
       "stream": "stdout",
       "text": [
        "\r",
        "1.032.O.final.fasta                             0%    0     0.0KB/s   --:-- ETA\r",
        "1.032.O.final.fasta                           100%   59KB  59.0KB/s   00:00    \r\n"
       ]
      },
      {
       "output_type": "stream",
       "stream": "stdout",
       "text": [
        "\r",
        "1.033.O.final.fasta                             0%    0     0.0KB/s   --:-- ETA\r",
        "1.033.O.final.fasta                           100%   60KB  59.8KB/s   00:00    \r\n"
       ]
      },
      {
       "output_type": "stream",
       "stream": "stdout",
       "text": [
        "\r",
        "1.034.O.final.fasta                             0%    0     0.0KB/s   --:-- ETA\r",
        "1.034.O.final.fasta                           100%   43KB  43.4KB/s   00:00    \r\n"
       ]
      },
      {
       "output_type": "stream",
       "stream": "stdout",
       "text": [
        "\r",
        "1.034.X.final.fasta                             0%    0     0.0KB/s   --:-- ETA\r",
        "1.034.X.final.fasta                           100%   43KB  43.4KB/s   00:00    \r\n"
       ]
      },
      {
       "output_type": "stream",
       "stream": "stdout",
       "text": [
        "\r",
        "1.036.O.final.fasta                             0%    0     0.0KB/s   --:-- ETA\r",
        "1.036.O.final.fasta                           100%   39KB  39.3KB/s   00:00    \r\n"
       ]
      },
      {
       "output_type": "stream",
       "stream": "stdout",
       "text": [
        "\r",
        "1.037.O.final.fasta                             0%    0     0.0KB/s   --:-- ETA\r",
        "1.037.O.final.fasta                           100%   42KB  42.1KB/s   00:00    \r\n"
       ]
      },
      {
       "output_type": "stream",
       "stream": "stdout",
       "text": [
        "\r",
        "1.038.O.final.fasta                             0%    0     0.0KB/s   --:-- ETA\r",
        "1.038.O.final.fasta                           100%   48KB  48.4KB/s   00:00    \r\n"
       ]
      },
      {
       "output_type": "stream",
       "stream": "stdout",
       "text": [
        "\r",
        "1.039.O.final.fasta                             0%    0     0.0KB/s   --:-- ETA\r",
        "1.039.O.final.fasta                           100%   40KB  40.1KB/s   00:00    \r\n"
       ]
      },
      {
       "output_type": "stream",
       "stream": "stdout",
       "text": [
        "\r",
        "1.040.O.final.fasta                             0%    0     0.0KB/s   --:-- ETA\r",
        "1.040.O.final.fasta                           100%   10KB  10.4KB/s   00:00    \r\n"
       ]
      },
      {
       "output_type": "stream",
       "stream": "stdout",
       "text": [
        "\r",
        "1.042.O.final.fasta                             0%    0     0.0KB/s   --:-- ETA\r",
        "1.042.O.final.fasta                           100%   49KB  48.6KB/s   00:00    \r\n"
       ]
      },
      {
       "output_type": "stream",
       "stream": "stdout",
       "text": [
        "\r",
        "1.043.O.final.fasta                             0%    0     0.0KB/s   --:-- ETA\r",
        "1.043.O.final.fasta                           100%   10KB  10.1KB/s   00:00    \r\n"
       ]
      },
      {
       "output_type": "stream",
       "stream": "stdout",
       "text": [
        "\r",
        "1.044.O.final.fasta                             0%    0     0.0KB/s   --:-- ETA\r",
        "1.044.O.final.fasta                           100%   10KB  10.1KB/s   00:00    \r\n"
       ]
      },
      {
       "output_type": "stream",
       "stream": "stdout",
       "text": [
        "\r",
        "1.046.O.final.fasta                             0%    0     0.0KB/s   --:-- ETA\r",
        "1.046.O.final.fasta                           100%   61KB  61.1KB/s   00:00    \r\n"
       ]
      },
      {
       "output_type": "stream",
       "stream": "stdout",
       "text": [
        "\r",
        "1.047.O.final.fasta                             0%    0     0.0KB/s   --:-- ETA\r",
        "1.047.O.final.fasta                           100%   45KB  45.1KB/s   00:00    \r\n"
       ]
      },
      {
       "output_type": "stream",
       "stream": "stdout",
       "text": [
        "\r",
        "1.048.O.final.fasta                             0%    0     0.0KB/s   --:-- ETA\r",
        "1.048.O.final.fasta                           100%   10KB  10.2KB/s   00:00    \r\n"
       ]
      },
      {
       "output_type": "stream",
       "stream": "stdout",
       "text": [
        "\r",
        "1.049.O.final.fasta                             0%    0     0.0KB/s   --:-- ETA\r",
        "1.049.O.final.fasta                           100%   44KB  44.0KB/s   00:00    \r\n"
       ]
      },
      {
       "output_type": "stream",
       "stream": "stdout",
       "text": [
        "\r",
        "1.050.O.final.fasta                             0%    0     0.0KB/s   --:-- ETA\r",
        "1.050.O.final.fasta                           100%   44KB  44.3KB/s   00:00    \r\n"
       ]
      },
      {
       "output_type": "stream",
       "stream": "stdout",
       "text": [
        "\r",
        "1.052.A.final.fasta                             0%    0     0.0KB/s   --:-- ETA\r",
        "1.052.A.final.fasta                           100%   42KB  41.9KB/s   00:00    \r\n"
       ]
      },
      {
       "output_type": "stream",
       "stream": "stdout",
       "text": [
        "\r",
        "1.054.O.final.fasta                             0%    0     0.0KB/s   --:-- ETA\r",
        "1.054.O.final.fasta                           100%   41KB  40.8KB/s   00:00    \r\n"
       ]
      },
      {
       "output_type": "stream",
       "stream": "stdout",
       "text": [
        "\r",
        "1.055.O.final.fasta                             0%    0     0.0KB/s   --:-- ETA\r",
        "1.055.O.final.fasta                           100%   46KB  46.1KB/s   00:00    \r\n"
       ]
      },
      {
       "output_type": "stream",
       "stream": "stdout",
       "text": [
        "\r",
        "1.056.O.final.fasta                             0%    0     0.0KB/s   --:-- ETA\r",
        "1.056.O.final.fasta                           100%   46KB  46.0KB/s   00:00    \r\n"
       ]
      },
      {
       "output_type": "stream",
       "stream": "stdout",
       "text": [
        "\r",
        "1.057.O.final.fasta                             0%    0     0.0KB/s   --:-- ETA\r",
        "1.057.O.final.fasta                           100%   10KB  10.1KB/s   00:00    \r\n"
       ]
      },
      {
       "output_type": "stream",
       "stream": "stdout",
       "text": [
        "\r",
        "1.060.A.final.fasta                             0%    0     0.0KB/s   --:-- ETA\r",
        "1.060.A.final.fasta                           100%   40KB  40.2KB/s   00:00    \r\n"
       ]
      },
      {
       "output_type": "stream",
       "stream": "stdout",
       "text": [
        "\r",
        "1.061.O.final.fasta                             0%    0     0.0KB/s   --:-- ETA\r",
        "1.061.O.final.fasta                           100%   41KB  40.7KB/s   00:00    \r\n"
       ]
      },
      {
       "output_type": "stream",
       "stream": "stdout",
       "text": [
        "\r",
        "1.062.O.final.fasta                             0%    0     0.0KB/s   --:-- ETA\r",
        "1.062.O.final.fasta                           100%   10KB  10.4KB/s   00:00    \r\n"
       ]
      },
      {
       "output_type": "stream",
       "stream": "stdout",
       "text": [
        "\r",
        "1.063.O.final.fasta                             0%    0     0.0KB/s   --:-- ETA\r",
        "1.063.O.final.fasta                           100%  126KB 125.7KB/s   00:00    \r\n"
       ]
      },
      {
       "output_type": "stream",
       "stream": "stdout",
       "text": [
        "\r",
        "1.064.O.final.fasta                             0%    0     0.0KB/s   --:-- ETA\r",
        "1.064.O.final.fasta                           100%   36KB  35.8KB/s   00:00    \r\n"
       ]
      },
      {
       "output_type": "stream",
       "stream": "stdout",
       "text": [
        "\r",
        "1.066.O.final.fasta                             0%    0     0.0KB/s   --:-- ETA\r",
        "1.066.O.final.fasta                           100%   46KB  46.0KB/s   00:00    \r\n"
       ]
      },
      {
       "output_type": "stream",
       "stream": "stdout",
       "text": [
        "\r",
        "1.067.O.final.fasta                             0%    0     0.0KB/s   --:-- ETA\r",
        "1.067.O.final.fasta                           100%   40KB  40.0KB/s   00:00    \r\n"
       ]
      },
      {
       "output_type": "stream",
       "stream": "stdout",
       "text": [
        "\r",
        "1.068.O.final.fasta                             0%    0     0.0KB/s   --:-- ETA\r",
        "1.068.O.final.fasta                           100%   46KB  46.0KB/s   00:00    \r\n"
       ]
      },
      {
       "output_type": "stream",
       "stream": "stdout",
       "text": [
        "\r",
        "1.069.O.final.fasta                             0%    0     0.0KB/s   --:-- ETA\r",
        "1.069.O.final.fasta                           100%   10KB  10.4KB/s   00:00    \r\n"
       ]
      },
      {
       "output_type": "stream",
       "stream": "stdout",
       "text": [
        "\r",
        "1.070.O.final.fasta                             0%    0     0.0KB/s   --:-- ETA\r",
        "1.070.O.final.fasta                           100%   43KB  43.1KB/s   00:00    \r\n"
       ]
      },
      {
       "output_type": "stream",
       "stream": "stdout",
       "text": [
        "\r",
        "1.071.A.final.fasta                             0%    0     0.0KB/s   --:-- ETA\r",
        "1.071.A.final.fasta                           100%   47KB  47.0KB/s   00:00    \r\n"
       ]
      },
      {
       "output_type": "stream",
       "stream": "stdout",
       "text": [
        "\r",
        "1.072.O.final.fasta                             0%    0     0.0KB/s   --:-- ETA\r",
        "1.072.O.final.fasta                           100%   43KB  42.8KB/s   00:00    \r\n"
       ]
      },
      {
       "output_type": "stream",
       "stream": "stdout",
       "text": [
        "\r",
        "1.074.O.final.fasta                             0%    0     0.0KB/s   --:-- ETA\r",
        "1.074.O.final.fasta                           100%   36KB  36.1KB/s   00:00    \r\n"
       ]
      },
      {
       "output_type": "stream",
       "stream": "stdout",
       "text": [
        "\r",
        "1.075.O.final.fasta                             0%    0     0.0KB/s   --:-- ETA\r",
        "1.075.O.final.fasta                           100%   50KB  50.1KB/s   00:00    \r\n"
       ]
      },
      {
       "output_type": "stream",
       "stream": "stdout",
       "text": [
        "\r",
        "1.076.O.final.fasta                             0%    0     0.0KB/s   --:-- ETA\r",
        "1.076.O.final.fasta                           100%   47KB  46.8KB/s   00:00    \r\n"
       ]
      },
      {
       "output_type": "stream",
       "stream": "stdout",
       "text": [
        "\r",
        "1.077.O.final.fasta                             0%    0     0.0KB/s   --:-- ETA\r",
        "1.077.O.final.fasta                           100%   43KB  43.1KB/s   00:00    \r\n"
       ]
      },
      {
       "output_type": "stream",
       "stream": "stdout",
       "text": [
        "\r",
        "1.079.O.final.fasta                             0%    0     0.0KB/s   --:-- ETA\r",
        "1.079.O.final.fasta                           100%   41KB  41.4KB/s   00:00    \r\n"
       ]
      },
      {
       "output_type": "stream",
       "stream": "stdout",
       "text": [
        "\r",
        "1.080.O.final.fasta                             0%    0     0.0KB/s   --:-- ETA\r",
        "1.080.O.final.fasta                           100%   10KB   9.9KB/s   00:00    \r\n"
       ]
      },
      {
       "output_type": "stream",
       "stream": "stdout",
       "text": [
        "\r",
        "1.081.O.final.fasta                             0%    0     0.0KB/s   --:-- ETA\r",
        "1.081.O.final.fasta                           100%  234KB 233.7KB/s   00:00    \r\n"
       ]
      },
      {
       "output_type": "stream",
       "stream": "stdout",
       "text": [
        "\r",
        "1.082.O.final.fasta                             0%    0     0.0KB/s   --:-- ETA\r",
        "1.082.O.final.fasta                           100%   35KB  35.0KB/s   00:00    \r\n"
       ]
      },
      {
       "output_type": "stream",
       "stream": "stdout",
       "text": [
        "\r",
        "1.083.O.final.fasta                             0%    0     0.0KB/s   --:-- ETA\r",
        "1.083.O.final.fasta                           100%   44KB  44.1KB/s   00:00    \r\n"
       ]
      },
      {
       "output_type": "stream",
       "stream": "stdout",
       "text": [
        "\r",
        "1.084.O.final.fasta                             0%    0     0.0KB/s   --:-- ETA\r",
        "1.084.O.final.fasta                           100%  139KB 138.6KB/s   00:00    \r\n"
       ]
      },
      {
       "output_type": "stream",
       "stream": "stdout",
       "text": [
        "\r",
        "1.085.O.final.fasta                             0%    0     0.0KB/s   --:-- ETA\r",
        "1.085.O.final.fasta                           100%   37KB  37.0KB/s   00:00    \r\n"
       ]
      },
      {
       "output_type": "stream",
       "stream": "stdout",
       "text": [
        "\r",
        "1.086.O.final.fasta                             0%    0     0.0KB/s   --:-- ETA\r",
        "1.086.O.final.fasta                           100%   50KB  49.7KB/s   00:00    \r\n"
       ]
      },
      {
       "output_type": "stream",
       "stream": "stdout",
       "text": [
        "\r",
        "1.087.A.final.fasta                             0%    0     0.0KB/s   --:-- ETA\r",
        "1.087.A.final.fasta                           100%   45KB  44.6KB/s   00:00    \r\n"
       ]
      },
      {
       "output_type": "stream",
       "stream": "stdout",
       "text": [
        "\r",
        "1.088.O.final.fasta                             0%    0     0.0KB/s   --:-- ETA\r",
        "1.088.O.final.fasta                           100%   59KB  59.0KB/s   00:00    \r\n"
       ]
      },
      {
       "output_type": "stream",
       "stream": "stdout",
       "text": [
        "\r",
        "1.089.O.final.fasta                             0%    0     0.0KB/s   --:-- ETA\r",
        "1.089.O.final.fasta                           100%   58KB  58.5KB/s   00:00    \r\n"
       ]
      },
      {
       "output_type": "stream",
       "stream": "stdout",
       "text": [
        "\r",
        "1.090.B.final.fasta                             0%    0     0.0KB/s   --:-- ETA\r",
        "1.090.B.final.fasta                           100%   41KB  40.9KB/s   00:00    \r\n"
       ]
      },
      {
       "output_type": "stream",
       "stream": "stdout",
       "text": [
        "\r",
        "1.091.O.final.fasta                             0%    0     0.0KB/s   --:-- ETA\r",
        "1.091.O.final.fasta                           100%   42KB  42.2KB/s   00:00    \r\n"
       ]
      },
      {
       "output_type": "stream",
       "stream": "stdout",
       "text": [
        "\r",
        "1.093.O.final.fasta                             0%    0     0.0KB/s   --:-- ETA\r",
        "1.093.O.final.fasta                           100%   50KB  50.1KB/s   00:00    \r\n"
       ]
      },
      {
       "output_type": "stream",
       "stream": "stdout",
       "text": [
        "\r",
        "1.094.O.final.fasta                             0%    0     0.0KB/s   --:-- ETA\r",
        "1.094.O.final.fasta                           100%   50KB  50.1KB/s   00:00    \r\n"
       ]
      },
      {
       "output_type": "stream",
       "stream": "stdout",
       "text": [
        "\r",
        "1.095.O.final.fasta                             0%    0     0.0KB/s   --:-- ETA\r",
        "1.095.O.final.fasta                           100%   10KB  10.2KB/s   00:00    \r\n"
       ]
      },
      {
       "output_type": "stream",
       "stream": "stdout",
       "text": [
        "\r",
        "1.097.O.final.fasta                             0%    0     0.0KB/s   --:-- ETA\r",
        "1.097.O.final.fasta                           100%   75KB  75.2KB/s   00:00    \r\n"
       ]
      },
      {
       "output_type": "stream",
       "stream": "stdout",
       "text": [
        "\r",
        "1.098.O.final.fasta                             0%    0     0.0KB/s   --:-- ETA\r",
        "1.098.O.final.fasta                           100%   58KB  58.5KB/s   00:00    \r\n"
       ]
      },
      {
       "output_type": "stream",
       "stream": "stdout",
       "text": [
        "\r",
        "1.100.O.final.fasta                             0%    0     0.0KB/s   --:-- ETA\r",
        "1.100.O.final.fasta                           100%   50KB  50.1KB/s   00:00    \r\n"
       ]
      },
      {
       "output_type": "stream",
       "stream": "stdout",
       "text": [
        "\r",
        "1.101.O.final.fasta                             0%    0     0.0KB/s   --:-- ETA\r",
        "1.101.O.final.fasta                           100%  127KB 127.2KB/s   00:00    \r\n"
       ]
      },
      {
       "output_type": "stream",
       "stream": "stdout",
       "text": [
        "\r",
        "1.102.O.final.fasta                             0%    0     0.0KB/s   --:-- ETA\r",
        "1.102.O.final.fasta                           100%   10KB  10.2KB/s   00:00    \r\n"
       ]
      },
      {
       "output_type": "stream",
       "stream": "stdout",
       "text": [
        "\r",
        "1.103.O.final.fasta                             0%    0     0.0KB/s   --:-- ETA\r",
        "1.103.O.final.fasta                           100%   60KB  60.3KB/s   00:00    \r\n"
       ]
      },
      {
       "output_type": "stream",
       "stream": "stdout",
       "text": [
        "\r",
        "1.104.O.final.fasta                             0%    0     0.0KB/s   --:-- ETA\r",
        "1.104.O.final.fasta                           100%   60KB  59.6KB/s   00:00    \r\n"
       ]
      },
      {
       "output_type": "stream",
       "stream": "stdout",
       "text": [
        "\r",
        "1.105.O.final.fasta                             0%    0     0.0KB/s   --:-- ETA\r",
        "1.105.O.final.fasta                           100%   48KB  48.0KB/s   00:00    \r\n"
       ]
      },
      {
       "output_type": "stream",
       "stream": "stdout",
       "text": [
        "\r",
        "1.106.O.final.fasta                             0%    0     0.0KB/s   --:-- ETA\r",
        "1.106.O.final.fasta                           100%   46KB  46.0KB/s   00:00    \r\n"
       ]
      },
      {
       "output_type": "stream",
       "stream": "stdout",
       "text": [
        "\r",
        "1.107.A.final.fasta                             0%    0     0.0KB/s   --:-- ETA\r",
        "1.107.A.final.fasta                           100%   10KB  10.2KB/s   00:00    \r\n"
       ]
      },
      {
       "output_type": "stream",
       "stream": "stdout",
       "text": [
        "\r",
        "1.107.B.final.fasta                             0%    0     0.0KB/s   --:-- ETA\r",
        "1.107.B.final.fasta                           100%   10KB  10.2KB/s   00:00    \r\n"
       ]
      },
      {
       "output_type": "stream",
       "stream": "stdout",
       "text": [
        "\r",
        "1.107.C.final.fasta                             0%    0     0.0KB/s   --:-- ETA\r",
        "1.107.C.final.fasta                           100%   10KB  10.2KB/s   00:00    \r\n"
       ]
      },
      {
       "output_type": "stream",
       "stream": "stdout",
       "text": [
        "\r",
        "1.108.O.final.fasta                             0%    0     0.0KB/s   --:-- ETA\r",
        "1.108.O.final.fasta                           100%   36KB  35.8KB/s   00:00    \r\n"
       ]
      },
      {
       "output_type": "stream",
       "stream": "stdout",
       "text": [
        "\r",
        "1.110.O.final.fasta                             0%    0     0.0KB/s   --:-- ETA\r",
        "1.110.O.final.fasta                           100%   37KB  36.7KB/s   00:00    \r\n"
       ]
      },
      {
       "output_type": "stream",
       "stream": "stdout",
       "text": [
        "\r",
        "1.111.A.final.fasta                             0%    0     0.0KB/s   --:-- ETA\r",
        "1.111.A.final.fasta                           100%   39KB  39.3KB/s   00:00    \r\n"
       ]
      },
      {
       "output_type": "stream",
       "stream": "stdout",
       "text": [
        "\r",
        "1.111.B.final.fasta                             0%    0     0.0KB/s   --:-- ETA\r",
        "1.111.B.final.fasta                           100%   39KB  39.3KB/s   00:00    \r\n"
       ]
      },
      {
       "output_type": "stream",
       "stream": "stdout",
       "text": [
        "\r",
        "1.112.O.final.fasta                             0%    0     0.0KB/s   --:-- ETA\r",
        "1.112.O.final.fasta                           100%   47KB  47.1KB/s   00:00    \r\n"
       ]
      },
      {
       "output_type": "stream",
       "stream": "stdout",
       "text": [
        "\r",
        "1.113.A.final.fasta                             0%    0     0.0KB/s   --:-- ETA\r",
        "1.113.A.final.fasta                           100%   43KB  43.2KB/s   00:00    \r\n"
       ]
      },
      {
       "output_type": "stream",
       "stream": "stdout",
       "text": [
        "\r",
        "1.115.A.final.fasta                             0%    0     0.0KB/s   --:-- ETA\r",
        "1.115.A.final.fasta                           100%   37KB  36.6KB/s   00:00    \r\n"
       ]
      },
      {
       "output_type": "stream",
       "stream": "stdout",
       "text": [
        "\r",
        "1.115.B.final.fasta                             0%    0     0.0KB/s   --:-- ETA\r",
        "1.115.B.final.fasta                           100%   37KB  36.6KB/s   00:00    \r\n"
       ]
      },
      {
       "output_type": "stream",
       "stream": "stdout",
       "text": [
        "\r",
        "1.116.O.final.fasta                             0%    0     0.0KB/s   --:-- ETA\r",
        "1.116.O.final.fasta                           100%   35KB  35.5KB/s   00:00    \r\n"
       ]
      },
      {
       "output_type": "stream",
       "stream": "stdout",
       "text": [
        "\r",
        "1.117.O.final.fasta                             0%    0     0.0KB/s   --:-- ETA\r",
        "1.117.O.final.fasta                           100%   55KB  54.5KB/s   00:00    \r\n"
       ]
      },
      {
       "output_type": "stream",
       "stream": "stdout",
       "text": [
        "\r",
        "1.118.A.final.fasta                             0%    0     0.0KB/s   --:-- ETA\r",
        "1.118.A.final.fasta                           100%   59KB  59.1KB/s   00:00    \r\n"
       ]
      },
      {
       "output_type": "stream",
       "stream": "stdout",
       "text": [
        "\r",
        "1.118.B.final.fasta                             0%    0     0.0KB/s   --:-- ETA\r",
        "1.118.B.final.fasta                           100%   59KB  59.1KB/s   00:00    \r\n"
       ]
      },
      {
       "output_type": "stream",
       "stream": "stdout",
       "text": [
        "\r",
        "1.119.O.final.fasta                             0%    0     0.0KB/s   --:-- ETA\r",
        "1.119.O.final.fasta                           100%   44KB  43.5KB/s   00:00    \r\n"
       ]
      },
      {
       "output_type": "stream",
       "stream": "stdout",
       "text": [
        "\r",
        "1.121.O.final.fasta                             0%    0     0.0KB/s   --:-- ETA\r",
        "1.121.O.final.fasta                           100%  142KB 142.2KB/s   00:00    \r\n"
       ]
      },
      {
       "output_type": "stream",
       "stream": "stdout",
       "text": [
        "\r",
        "1.122.A.final.fasta                             0%    0     0.0KB/s   --:-- ETA\r",
        "1.122.A.final.fasta                           100%   44KB  43.5KB/s   00:00    \r\n"
       ]
      },
      {
       "output_type": "stream",
       "stream": "stdout",
       "text": [
        "\r",
        "1.122.B.final.fasta                             0%    0     0.0KB/s   --:-- ETA\r",
        "1.122.B.final.fasta                           100%   44KB  43.5KB/s   00:00    \r\n"
       ]
      },
      {
       "output_type": "stream",
       "stream": "stdout",
       "text": [
        "\r",
        "1.123.O.final.fasta                             0%    0     0.0KB/s   --:-- ETA\r",
        "1.123.O.final.fasta                           100%   45KB  45.0KB/s   00:00    \r\n"
       ]
      },
      {
       "output_type": "stream",
       "stream": "stdout",
       "text": [
        "\r",
        "1.124.O.final.fasta                             0%    0     0.0KB/s   --:-- ETA\r",
        "1.124.O.final.fasta                           100%   47KB  46.5KB/s   00:00    \r\n"
       ]
      },
      {
       "output_type": "stream",
       "stream": "stdout",
       "text": [
        "\r",
        "1.125.O.final.fasta                             0%    0     0.0KB/s   --:-- ETA\r",
        "1.125.O.final.fasta                           100%   10KB  10.4KB/s   00:00    \r\n"
       ]
      },
      {
       "output_type": "stream",
       "stream": "stdout",
       "text": [
        "\r",
        "1.127.O.final.fasta                             0%    0     0.0KB/s   --:-- ETA\r",
        "1.127.O.final.fasta                           100%   44KB  43.9KB/s   00:00    \r\n"
       ]
      },
      {
       "output_type": "stream",
       "stream": "stdout",
       "text": [
        "\r",
        "1.131.O.final.fasta                             0%    0     0.0KB/s   --:-- ETA\r",
        "1.131.O.final.fasta                           100%   37KB  37.1KB/s   00:00    \r\n"
       ]
      },
      {
       "output_type": "stream",
       "stream": "stdout",
       "text": [
        "\r",
        "1.132.O.final.fasta                             0%    0     0.0KB/s   --:-- ETA\r",
        "1.132.O.final.fasta                           100%   36KB  36.1KB/s   00:00    \r\n"
       ]
      },
      {
       "output_type": "stream",
       "stream": "stdout",
       "text": [
        "\r",
        "1.133.O.final.fasta                             0%    0     0.0KB/s   --:-- ETA\r",
        "1.133.O.final.fasta                           100%   36KB  36.3KB/s   00:00    \r\n"
       ]
      },
      {
       "output_type": "stream",
       "stream": "stdout",
       "text": [
        "\r",
        "1.134.O.final.fasta                             0%    0     0.0KB/s   --:-- ETA\r",
        "1.134.O.final.fasta                           100%   36KB  35.6KB/s   00:00    \r\n"
       ]
      },
      {
       "output_type": "stream",
       "stream": "stdout",
       "text": [
        "\r",
        "1.135.O.final.fasta                             0%    0     0.0KB/s   --:-- ETA\r",
        "1.135.O.final.fasta                           100%   41KB  41.0KB/s   00:00    \r\n"
       ]
      },
      {
       "output_type": "stream",
       "stream": "stdout",
       "text": [
        "\r",
        "1.136.O.final.fasta                             0%    0     0.0KB/s   --:-- ETA\r",
        "1.136.O.final.fasta                           100%   21KB  20.9KB/s   00:00    \r\n"
       ]
      },
      {
       "output_type": "stream",
       "stream": "stdout",
       "text": [
        "\r",
        "1.137.O.final.fasta                             0%    0     0.0KB/s   --:-- ETA\r",
        "1.137.O.final.fasta                           100%   37KB  37.1KB/s   00:00    \r\n"
       ]
      },
      {
       "output_type": "stream",
       "stream": "stdout",
       "text": [
        "\r",
        "1.138.O.final.fasta                             0%    0     0.0KB/s   --:-- ETA\r",
        "1.138.O.final.fasta                           100%   32KB  31.8KB/s   00:00    \r\n"
       ]
      },
      {
       "output_type": "stream",
       "stream": "stdout",
       "text": [
        "\r",
        "1.139.A.final.fasta                             0%    0     0.0KB/s   --:-- ETA\r",
        "1.139.A.final.fasta                           100%   43KB  42.9KB/s   00:00    \r\n"
       ]
      },
      {
       "output_type": "stream",
       "stream": "stdout",
       "text": [
        "\r",
        "1.139.B.final.fasta                             0%    0     0.0KB/s   --:-- ETA\r",
        "1.139.B.final.fasta                           100%   43KB  43.1KB/s   00:00    \r\n"
       ]
      },
      {
       "output_type": "stream",
       "stream": "stdout",
       "text": [
        "\r",
        "1.141.A.final.fasta                             0%    0     0.0KB/s   --:-- ETA\r",
        "1.141.A.final.fasta                           100%   10KB   9.9KB/s   00:00    \r\n"
       ]
      },
      {
       "output_type": "stream",
       "stream": "stdout",
       "text": [
        "\r",
        "1.142.O.final.fasta                             0%    0     0.0KB/s   --:-- ETA\r",
        "1.142.O.final.fasta                           100%   30KB  29.8KB/s   00:00    \r\n"
       ]
      },
      {
       "output_type": "stream",
       "stream": "stdout",
       "text": [
        "\r",
        "1.143.O.final.fasta                             0%    0     0.0KB/s   --:-- ETA\r",
        "1.143.O.final.fasta                           100%   44KB  43.5KB/s   00:00    \r\n"
       ]
      },
      {
       "output_type": "stream",
       "stream": "stdout",
       "text": [
        "\r",
        "1.144.O.final.fasta                             0%    0     0.0KB/s   --:-- ETA\r",
        "1.144.O.final.fasta                           100%   43KB  43.4KB/s   00:00    \r\n"
       ]
      },
      {
       "output_type": "stream",
       "stream": "stdout",
       "text": [
        "\r",
        "1.147.O.final.fasta                             0%    0     0.0KB/s   --:-- ETA\r",
        "1.147.O.final.fasta                           100%   37KB  36.5KB/s   00:00    \r\n"
       ]
      },
      {
       "output_type": "stream",
       "stream": "stdout",
       "text": [
        "\r",
        "1.148.O.final.fasta                             0%    0     0.0KB/s   --:-- ETA\r",
        "1.148.O.final.fasta                           100%   36KB  36.0KB/s   00:00    \r\n"
       ]
      },
      {
       "output_type": "stream",
       "stream": "stdout",
       "text": [
        "\r",
        "1.149.O.final.fasta                             0%    0     0.0KB/s   --:-- ETA\r",
        "1.149.O.final.fasta                           100%   47KB  47.4KB/s   00:00    \r\n"
       ]
      },
      {
       "output_type": "stream",
       "stream": "stdout",
       "text": [
        "\r",
        "1.150.O.final.fasta                             0%    0     0.0KB/s   --:-- ETA\r",
        "1.150.O.final.fasta                           100%   74KB  74.1KB/s   00:00    \r\n"
       ]
      },
      {
       "output_type": "stream",
       "stream": "stdout",
       "text": [
        "\r",
        "1.151.O.final.fasta                             0%    0     0.0KB/s   --:-- ETA\r",
        "1.151.O.final.fasta                           100%   43KB  43.3KB/s   00:00    \r\n"
       ]
      },
      {
       "output_type": "stream",
       "stream": "stdout",
       "text": [
        "\r",
        "1.152.O.final.fasta                             0%    0     0.0KB/s   --:-- ETA\r",
        "1.152.O.final.fasta                           100%   74KB  74.1KB/s   00:00    \r\n"
       ]
      },
      {
       "output_type": "stream",
       "stream": "stdout",
       "text": [
        "\r",
        "1.154.O.final.fasta                             0%    0     0.0KB/s   --:-- ETA\r",
        "1.154.O.final.fasta                           100%   36KB  36.3KB/s   00:00    \r\n"
       ]
      },
      {
       "output_type": "stream",
       "stream": "stdout",
       "text": [
        "\r",
        "1.155.O.final.fasta                             0%    0     0.0KB/s   --:-- ETA\r",
        "1.155.O.final.fasta                           100%   28KB  28.4KB/s   00:00    \r\n"
       ]
      },
      {
       "output_type": "stream",
       "stream": "stdout",
       "text": [
        "\r",
        "1.156.O.final.fasta                             0%    0     0.0KB/s   --:-- ETA\r",
        "1.156.O.final.fasta                           100%   31KB  30.9KB/s   00:00    \r\n"
       ]
      },
      {
       "output_type": "stream",
       "stream": "stdout",
       "text": [
        "\r",
        "1.157.O.final.fasta                             0%    0     0.0KB/s   --:-- ETA\r",
        "1.157.O.final.fasta                           100%   35KB  35.1KB/s   00:00    \r\n"
       ]
      },
      {
       "output_type": "stream",
       "stream": "stdout",
       "text": [
        "\r",
        "1.158.O.final.fasta                             0%    0     0.0KB/s   --:-- ETA\r",
        "1.158.O.final.fasta                           100%   45KB  45.5KB/s   00:00    \r\n"
       ]
      },
      {
       "output_type": "stream",
       "stream": "stdout",
       "text": [
        "\r",
        "1.159.O.final.fasta                             0%    0     0.0KB/s   --:-- ETA\r",
        "1.159.O.final.fasta                           100%   31KB  30.9KB/s   00:00    \r\n"
       ]
      },
      {
       "output_type": "stream",
       "stream": "stdout",
       "text": [
        "\r",
        "1.160.O.final.fasta                             0%    0     0.0KB/s   --:-- ETA\r",
        "1.160.O.final.fasta                           100%   59KB  59.4KB/s   00:00    \r\n"
       ]
      },
      {
       "output_type": "stream",
       "stream": "stdout",
       "text": [
        "\r",
        "1.161.O.final.fasta                             0%    0     0.0KB/s   --:-- ETA\r",
        "1.161.O.final.fasta                           100%  137KB 137.4KB/s   00:00    \r\n"
       ]
      },
      {
       "output_type": "stream",
       "stream": "stdout",
       "text": [
        "\r",
        "1.162.O.final.fasta                             0%    0     0.0KB/s   --:-- ETA\r",
        "1.162.O.final.fasta                           100%   37KB  36.5KB/s   00:00    \r\n"
       ]
      },
      {
       "output_type": "stream",
       "stream": "stdout",
       "text": [
        "\r",
        "1.164.O.final.fasta                             0%    0     0.0KB/s   --:-- ETA\r",
        "1.164.O.final.fasta                           100%   47KB  47.1KB/s   00:00    \r\n"
       ]
      },
      {
       "output_type": "stream",
       "stream": "stdout",
       "text": [
        "\r",
        "1.165.O.final.fasta                             0%    0     0.0KB/s   --:-- ETA\r",
        "1.165.O.final.fasta                           100%   36KB  36.2KB/s   00:00    \r\n"
       ]
      },
      {
       "output_type": "stream",
       "stream": "stdout",
       "text": [
        "\r",
        "1.166.O.final.fasta                             0%    0     0.0KB/s   --:-- ETA\r",
        "1.166.O.final.fasta                           100%   21KB  21.3KB/s   00:00    \r\n"
       ]
      },
      {
       "output_type": "stream",
       "stream": "stdout",
       "text": [
        "\r",
        "1.167.O.final.fasta                             0%    0     0.0KB/s   --:-- ETA\r",
        "1.167.O.final.fasta                           100%   35KB  35.0KB/s   00:00    \r\n"
       ]
      },
      {
       "output_type": "stream",
       "stream": "stdout",
       "text": [
        "\r",
        "1.168.O.final.fasta                             0%    0     0.0KB/s   --:-- ETA\r",
        "1.168.O.final.fasta                           100%   37KB  36.7KB/s   00:00    \r\n"
       ]
      },
      {
       "output_type": "stream",
       "stream": "stdout",
       "text": [
        "\r",
        "1.169.O.final.fasta                             0%    0     0.0KB/s   --:-- ETA\r",
        "1.169.O.final.fasta                           100%   71KB  70.6KB/s   00:00    \r\n"
       ]
      },
      {
       "output_type": "stream",
       "stream": "stdout",
       "text": [
        "\r",
        "1.170.O.final.fasta                             0%    0     0.0KB/s   --:-- ETA\r",
        "1.170.O.final.fasta                           100%  131KB 130.6KB/s   00:00    \r\n"
       ]
      },
      {
       "output_type": "stream",
       "stream": "stdout",
       "text": [
        "\r",
        "1.171.O.final.fasta                             0%    0     0.0KB/s   --:-- ETA\r",
        "1.171.O.final.fasta                           100%   59KB  58.8KB/s   00:00    \r\n"
       ]
      },
      {
       "output_type": "stream",
       "stream": "stdout",
       "text": [
        "\r",
        "1.172.O.final.fasta                             0%    0     0.0KB/s   --:-- ETA\r",
        "1.172.O.final.fasta                           100%   35KB  35.5KB/s   00:00    \r\n"
       ]
      },
      {
       "output_type": "stream",
       "stream": "stdout",
       "text": [
        "\r",
        "1.173.O.final.fasta                             0%    0     0.0KB/s   --:-- ETA\r",
        "1.173.O.final.fasta                           100%   47KB  47.0KB/s   00:00    \r\n"
       ]
      },
      {
       "output_type": "stream",
       "stream": "stdout",
       "text": [
        "\r",
        "1.174.O.final.fasta                             0%    0     0.0KB/s   --:-- ETA\r",
        "1.174.O.final.fasta                           100%   46KB  46.0KB/s   00:00    \r\n"
       ]
      },
      {
       "output_type": "stream",
       "stream": "stdout",
       "text": [
        "\r",
        "1.175.O.final.fasta                             0%    0     0.0KB/s   --:-- ETA\r",
        "1.175.O.final.fasta                           100%   48KB  48.0KB/s   00:00    \r\n"
       ]
      },
      {
       "output_type": "stream",
       "stream": "stdout",
       "text": [
        "\r",
        "1.176.O.final.fasta                             0%    0     0.0KB/s   --:-- ETA\r",
        "1.176.O.final.fasta                           100%   36KB  35.6KB/s   00:00    \r\n"
       ]
      },
      {
       "output_type": "stream",
       "stream": "stdout",
       "text": [
        "\r",
        "1.177.O.final.fasta                             0%    0     0.0KB/s   --:-- ETA\r",
        "1.177.O.final.fasta                           100%   44KB  44.4KB/s   00:00    \r\n"
       ]
      },
      {
       "output_type": "stream",
       "stream": "stdout",
       "text": [
        "\r",
        "1.178.O.final.fasta                             0%    0     0.0KB/s   --:-- ETA\r",
        "1.178.O.final.fasta                           100%   39KB  39.0KB/s   00:00    \r\n"
       ]
      },
      {
       "output_type": "stream",
       "stream": "stdout",
       "text": [
        "\r",
        "1.179.O.final.fasta                             0%    0     0.0KB/s   --:-- ETA\r",
        "1.179.O.final.fasta                           100%   31KB  30.8KB/s   00:00    \r\n"
       ]
      },
      {
       "output_type": "stream",
       "stream": "stdout",
       "text": [
        "\r",
        "1.181.O.final.fasta                             0%    0     0.0KB/s   --:-- ETA\r",
        "1.181.O.final.fasta                           100%   49KB  49.1KB/s   00:00    \r\n"
       ]
      },
      {
       "output_type": "stream",
       "stream": "stdout",
       "text": [
        "\r",
        "1.182.O.final.fasta                             0%    0     0.0KB/s   --:-- ETA\r",
        "1.182.O.final.fasta                           100%   36KB  36.1KB/s   00:00    \r\n"
       ]
      },
      {
       "output_type": "stream",
       "stream": "stdout",
       "text": [
        "\r",
        "1.183.O.final.fasta                             0%    0     0.0KB/s   --:-- ETA\r",
        "1.183.O.final.fasta                           100%   37KB  36.6KB/s   00:00    \r\n"
       ]
      },
      {
       "output_type": "stream",
       "stream": "stdout",
       "text": [
        "\r",
        "1.184.A.final.fasta                             0%    0     0.0KB/s   --:-- ETA\r",
        "1.184.A.final.fasta                           100%   33KB  32.5KB/s   00:00    \r\n"
       ]
      },
      {
       "output_type": "stream",
       "stream": "stdout",
       "text": [
        "\r",
        "1.185.O.final.fasta                             0%    0     0.0KB/s   --:-- ETA\r",
        "1.185.O.final.fasta                           100%   42KB  42.4KB/s   00:00    \r\n"
       ]
      },
      {
       "output_type": "stream",
       "stream": "stdout",
       "text": [
        "\r",
        "1.186.O.final.fasta                             0%    0     0.0KB/s   --:-- ETA\r",
        "1.186.O.final.fasta                           100%   48KB  47.5KB/s   00:00    \r\n"
       ]
      },
      {
       "output_type": "stream",
       "stream": "stdout",
       "text": [
        "\r",
        "1.187.O.final.fasta                             0%    0     0.0KB/s   --:-- ETA\r",
        "1.187.O.final.fasta                           100%  130KB 130.2KB/s   00:00    \r\n"
       ]
      },
      {
       "output_type": "stream",
       "stream": "stdout",
       "text": [
        "\r",
        "1.188.A.final.fasta                             0%    0     0.0KB/s   --:-- ETA\r",
        "1.188.A.final.fasta                           100%   71KB  70.7KB/s   00:00    \r\n"
       ]
      },
      {
       "output_type": "stream",
       "stream": "stdout",
       "text": [
        "\r",
        "1.188.B.final.fasta                             0%    0     0.0KB/s   --:-- ETA\r",
        "1.188.B.final.fasta                           100%   71KB  70.7KB/s   00:00    \r\n"
       ]
      },
      {
       "output_type": "stream",
       "stream": "stdout",
       "text": [
        "\r",
        "1.188.C.final.fasta                             0%    0     0.0KB/s   --:-- ETA\r",
        "1.188.C.final.fasta                           100%   71KB  70.7KB/s   00:00    \r\n"
       ]
      },
      {
       "output_type": "stream",
       "stream": "stdout",
       "text": [
        "\r",
        "1.189.B.final.fasta                             0%    0     0.0KB/s   --:-- ETA\r",
        "1.189.B.final.fasta                           100%   36KB  36.0KB/s   00:00    \r\n"
       ]
      },
      {
       "output_type": "stream",
       "stream": "stdout",
       "text": [
        "\r",
        "1.189.C.final.fasta                             0%    0     0.0KB/s   --:-- ETA\r",
        "1.189.C.final.fasta                           100%   36KB  36.0KB/s   00:00    \r\n"
       ]
      },
      {
       "output_type": "stream",
       "stream": "stdout",
       "text": [
        "\r",
        "1.189.O.final.fasta                             0%    0     0.0KB/s   --:-- ETA\r",
        "1.189.O.final.fasta                           100%   36KB  36.0KB/s   00:00    \r\n"
       ]
      },
      {
       "output_type": "stream",
       "stream": "stdout",
       "text": [
        "\r",
        "1.190.O.final.fasta                             0%    0     0.0KB/s   --:-- ETA\r",
        "1.190.O.final.fasta                           100%   21KB  21.3KB/s   00:00    \r\n"
       ]
      },
      {
       "output_type": "stream",
       "stream": "stdout",
       "text": [
        "\r",
        "1.191.O.final.fasta                             0%    0     0.0KB/s   --:-- ETA\r",
        "1.191.O.final.fasta                           100%   47KB  47.3KB/s   00:00    \r\n"
       ]
      },
      {
       "output_type": "stream",
       "stream": "stdout",
       "text": [
        "\r",
        "1.193.O.final.fasta                             0%    0     0.0KB/s   --:-- ETA\r",
        "1.193.O.final.fasta                           100%  129KB 129.5KB/s   00:00    \r\n"
       ]
      },
      {
       "output_type": "stream",
       "stream": "stdout",
       "text": [
        "\r",
        "1.194.O.final.fasta                             0%    0     0.0KB/s   --:-- ETA\r",
        "1.194.O.final.fasta                           100%   58KB  57.9KB/s   00:00    \r\n"
       ]
      },
      {
       "output_type": "stream",
       "stream": "stdout",
       "text": [
        "\r",
        "1.195.O.final.fasta                             0%    0     0.0KB/s   --:-- ETA\r",
        "1.195.O.final.fasta                           100%   58KB  58.4KB/s   00:00    \r\n"
       ]
      },
      {
       "output_type": "stream",
       "stream": "stdout",
       "text": [
        "\r",
        "1.196.O.final.fasta                             0%    0     0.0KB/s   --:-- ETA\r",
        "1.196.O.final.fasta                           100%   58KB  58.1KB/s   00:00    \r\n"
       ]
      },
      {
       "output_type": "stream",
       "stream": "stdout",
       "text": [
        "\r",
        "1.197.A.final.fasta                             0%    0     0.0KB/s   --:-- ETA\r",
        "1.197.A.final.fasta                           100%   44KB  43.6KB/s   00:00    \r\n"
       ]
      },
      {
       "output_type": "stream",
       "stream": "stdout",
       "text": [
        "\r",
        "1.198.A.final.fasta                             0%    0     0.0KB/s   --:-- ETA\r",
        "1.198.A.final.fasta                           100%   43KB  43.5KB/s   00:00    \r\n"
       ]
      },
      {
       "output_type": "stream",
       "stream": "stdout",
       "text": [
        "\r",
        "1.198.B.final.fasta                             0%    0     0.0KB/s   --:-- ETA\r",
        "1.198.B.final.fasta                           100%   43KB  43.3KB/s   00:00    \r\n"
       ]
      },
      {
       "output_type": "stream",
       "stream": "stdout",
       "text": [
        "\r",
        "1.199.A.final.fasta                             0%    0     0.0KB/s   --:-- ETA\r",
        "1.199.A.final.fasta                           100%   47KB  47.2KB/s   00:00    \r\n"
       ]
      },
      {
       "output_type": "stream",
       "stream": "stdout",
       "text": [
        "\r",
        "1.199.B.final.fasta                             0%    0     0.0KB/s   --:-- ETA\r",
        "1.199.B.final.fasta                           100%   47KB  47.2KB/s   00:00    \r\n"
       ]
      },
      {
       "output_type": "stream",
       "stream": "stdout",
       "text": [
        "\r",
        "1.200.O.final.fasta                             0%    0     0.0KB/s   --:-- ETA\r",
        "1.200.O.final.fasta                           100%   58KB  57.9KB/s   00:00    \r\n"
       ]
      },
      {
       "output_type": "stream",
       "stream": "stdout",
       "text": [
        "\r",
        "1.201.B.final.fasta                             0%    0     0.0KB/s   --:-- ETA\r",
        "1.201.B.final.fasta                           100%   49KB  49.4KB/s   00:00    \r\n"
       ]
      },
      {
       "output_type": "stream",
       "stream": "stdout",
       "text": [
        "\r",
        "1.202.O.final.fasta                             0%    0     0.0KB/s   --:-- ETA\r",
        "1.202.O.final.fasta                           100%   31KB  31.3KB/s   00:00    \r\n"
       ]
      },
      {
       "output_type": "stream",
       "stream": "stdout",
       "text": [
        "\r",
        "1.204.O.final.fasta                             0%    0     0.0KB/s   --:-- ETA\r",
        "1.204.O.final.fasta                           100%   43KB  43.2KB/s   00:00    \r\n"
       ]
      },
      {
       "output_type": "stream",
       "stream": "stdout",
       "text": [
        "\r",
        "1.205.O.final.fasta                             0%    0     0.0KB/s   --:-- ETA\r",
        "1.205.O.final.fasta                           100%   57KB  56.5KB/s   00:00    \r\n"
       ]
      },
      {
       "output_type": "stream",
       "stream": "stdout",
       "text": [
        "\r",
        "1.206.O.final.fasta                             0%    0     0.0KB/s   --:-- ETA\r",
        "1.206.O.final.fasta                           100%   37KB  36.7KB/s   00:00    \r\n"
       ]
      },
      {
       "output_type": "stream",
       "stream": "stdout",
       "text": [
        "\r",
        "1.207.B.final.fasta                             0%    0     0.0KB/s   --:-- ETA\r",
        "1.207.B.final.fasta                           100%   55KB  54.5KB/s   00:00    \r\n"
       ]
      },
      {
       "output_type": "stream",
       "stream": "stdout",
       "text": [
        "\r",
        "1.208.B.final.fasta                             0%    0     0.0KB/s   --:-- ETA\r",
        "1.208.B.final.fasta                           100%   48KB  47.8KB/s   00:00    \r\n"
       ]
      },
      {
       "output_type": "stream",
       "stream": "stdout",
       "text": [
        "\r",
        "1.209.O.final.fasta                             0%    0     0.0KB/s   --:-- ETA\r",
        "1.209.O.final.fasta                           100%   43KB  42.7KB/s   00:00    \r\n"
       ]
      },
      {
       "output_type": "stream",
       "stream": "stdout",
       "text": [
        "\r",
        "1.210.O.final.fasta                             0%    0     0.0KB/s   --:-- ETA\r",
        "1.210.O.final.fasta                           100%   47KB  47.1KB/s   00:00    \r\n"
       ]
      },
      {
       "output_type": "stream",
       "stream": "stdout",
       "text": [
        "\r",
        "1.211.A.final.fasta                             0%    0     0.0KB/s   --:-- ETA\r",
        "1.211.A.final.fasta                           100%   36KB  36.3KB/s   00:00    \r\n"
       ]
      },
      {
       "output_type": "stream",
       "stream": "stdout",
       "text": [
        "\r",
        "1.211.B.final.fasta                             0%    0     0.0KB/s   --:-- ETA\r",
        "1.211.B.final.fasta                           100%   36KB  36.3KB/s   00:00    \r\n"
       ]
      },
      {
       "output_type": "stream",
       "stream": "stdout",
       "text": [
        "\r",
        "1.213.O.final.fasta                             0%    0     0.0KB/s   --:-- ETA\r",
        "1.213.O.final.fasta                           100%   41KB  41.5KB/s   00:00    \r\n"
       ]
      },
      {
       "output_type": "stream",
       "stream": "stdout",
       "text": [
        "\r",
        "1.214.O.final.fasta                             0%    0     0.0KB/s   --:-- ETA\r",
        "1.214.O.final.fasta                           100%   43KB  43.2KB/s   00:00    \r\n"
       ]
      },
      {
       "output_type": "stream",
       "stream": "stdout",
       "text": [
        "\r",
        "1.215.A.final.fasta                             0%    0     0.0KB/s   --:-- ETA\r",
        "1.215.A.final.fasta                           100%   79KB  79.0KB/s   00:00    \r\n"
       ]
      },
      {
       "output_type": "stream",
       "stream": "stdout",
       "text": [
        "\r",
        "1.215.B.final.fasta                             0%    0     0.0KB/s   --:-- ETA"
       ]
      },
      {
       "output_type": "stream",
       "stream": "stdout",
       "text": [
        "\r",
        "1.215.B.final.fasta                           100%   79KB  79.0KB/s   00:00    \r\n"
       ]
      },
      {
       "output_type": "stream",
       "stream": "stdout",
       "text": [
        "\r",
        "1.216.O.final.fasta                             0%    0     0.0KB/s   --:-- ETA\r",
        "1.216.O.final.fasta                           100%   40KB  40.4KB/s   00:00    \r\n"
       ]
      },
      {
       "output_type": "stream",
       "stream": "stdout",
       "text": [
        "\r",
        "1.217.O.final.fasta                             0%    0     0.0KB/s   --:-- ETA\r",
        "1.217.O.final.fasta                           100%   26KB  26.3KB/s   00:00    \r\n"
       ]
      },
      {
       "output_type": "stream",
       "stream": "stdout",
       "text": [
        "\r",
        "1.219.O.final.fasta                             0%    0     0.0KB/s   --:-- ETA\r",
        "1.219.O.final.fasta                           100%   31KB  30.9KB/s   00:00    \r\n"
       ]
      },
      {
       "output_type": "stream",
       "stream": "stdout",
       "text": [
        "\r",
        "1.223.O.final.fasta                             0%    0     0.0KB/s   --:-- ETA\r",
        "1.223.O.final.fasta                           100%   48KB  48.4KB/s   00:00    \r\n"
       ]
      },
      {
       "output_type": "stream",
       "stream": "stdout",
       "text": [
        "\r",
        "1.224.A.final.fasta                             0%    0     0.0KB/s   --:-- ETA\r",
        "1.224.A.final.fasta                           100%   70KB  70.3KB/s   00:00    \r\n"
       ]
      },
      {
       "output_type": "stream",
       "stream": "stdout",
       "text": [
        "\r",
        "1.225.O.final.fasta                             0%    0     0.0KB/s   --:-- ETA\r",
        "1.225.O.final.fasta                           100%   51KB  51.4KB/s   00:00    \r\n"
       ]
      },
      {
       "output_type": "stream",
       "stream": "stdout",
       "text": [
        "\r",
        "1.226.O.final.fasta                             0%    0     0.0KB/s   --:-- ETA\r",
        "1.226.O.final.fasta                           100%   35KB  34.9KB/s   00:00    \r\n"
       ]
      },
      {
       "output_type": "stream",
       "stream": "stdout",
       "text": [
        "\r",
        "1.228.O.final.fasta                             0%    0     0.0KB/s   --:-- ETA\r",
        "1.228.O.final.fasta                           100%   36KB  35.8KB/s   00:00    \r\n"
       ]
      },
      {
       "output_type": "stream",
       "stream": "stdout",
       "text": [
        "\r",
        "1.231.O.final.fasta                             0%    0     0.0KB/s   --:-- ETA\r",
        "1.231.O.final.fasta                           100%   44KB  43.5KB/s   00:00    \r\n"
       ]
      },
      {
       "output_type": "stream",
       "stream": "stdout",
       "text": [
        "\r",
        "1.232.O.final.fasta                             0%    0     0.0KB/s   --:-- ETA\r",
        "1.232.O.final.fasta                           100%   55KB  55.4KB/s   00:00    \r\n"
       ]
      },
      {
       "output_type": "stream",
       "stream": "stdout",
       "text": [
        "\r",
        "1.233.A.final.fasta                             0%    0     0.0KB/s   --:-- ETA\r",
        "1.233.A.final.fasta                           100%   36KB  36.0KB/s   00:00    \r\n"
       ]
      },
      {
       "output_type": "stream",
       "stream": "stdout",
       "text": [
        "\r",
        "1.233.B.final.fasta                             0%    0     0.0KB/s   --:-- ETA\r",
        "1.233.B.final.fasta                           100%   36KB  36.0KB/s   00:00    \r\n"
       ]
      },
      {
       "output_type": "stream",
       "stream": "stdout",
       "text": [
        "\r",
        "1.235.O.final.fasta                             0%    0     0.0KB/s   --:-- ETA\r",
        "1.235.O.final.fasta                           100%   46KB  46.0KB/s   00:00    \r\n"
       ]
      },
      {
       "output_type": "stream",
       "stream": "stdout",
       "text": [
        "\r",
        "1.236.O.final.fasta                             0%    0     0.0KB/s   --:-- ETA\r",
        "1.236.O.final.fasta                           100%   42KB  41.7KB/s   00:00    \r\n"
       ]
      },
      {
       "output_type": "stream",
       "stream": "stdout",
       "text": [
        "\r",
        "1.237.A.final.fasta                             0%    0     0.0KB/s   --:-- ETA\r",
        "1.237.A.final.fasta                           100%   59KB  58.7KB/s   00:00    \r\n"
       ]
      },
      {
       "output_type": "stream",
       "stream": "stdout",
       "text": [
        "\r",
        "1.237.B.final.fasta                             0%    0     0.0KB/s   --:-- ETA\r",
        "1.237.B.final.fasta                           100%   59KB  58.8KB/s   00:00    \r\n"
       ]
      },
      {
       "output_type": "stream",
       "stream": "stdout",
       "text": [
        "\r",
        "1.238.A.final.fasta                             0%    0     0.0KB/s   --:-- ETA\r",
        "1.238.A.final.fasta                           100%   69KB  68.9KB/s   00:00    \r\n"
       ]
      },
      {
       "output_type": "stream",
       "stream": "stdout",
       "text": [
        "\r",
        "1.238.B.final.fasta                             0%    0     0.0KB/s   --:-- ETA\r",
        "1.238.B.final.fasta                           100%   69KB  68.9KB/s   00:00    \r\n"
       ]
      },
      {
       "output_type": "stream",
       "stream": "stdout",
       "text": [
        "\r",
        "1.239.O.final.fasta                             0%    0     0.0KB/s   --:-- ETA\r",
        "1.239.O.final.fasta                           100%   38KB  37.8KB/s   00:00    \r\n"
       ]
      },
      {
       "output_type": "stream",
       "stream": "stdout",
       "text": [
        "\r",
        "1.240.O.final.fasta                             0%    0     0.0KB/s   --:-- ETA\r",
        "1.240.O.final.fasta                           100%   36KB  35.9KB/s   00:00    \r\n"
       ]
      },
      {
       "output_type": "stream",
       "stream": "stdout",
       "text": [
        "\r",
        "1.242.O.final.fasta                             0%    0     0.0KB/s   --:-- ETA\r",
        "1.242.O.final.fasta                           100%   36KB  36.1KB/s   00:00    \r\n"
       ]
      },
      {
       "output_type": "stream",
       "stream": "stdout",
       "text": [
        "\r",
        "1.243.O.final.fasta                             0%    0     0.0KB/s   --:-- ETA\r",
        "1.243.O.final.fasta                           100%   47KB  47.3KB/s   00:00    \r\n"
       ]
      },
      {
       "output_type": "stream",
       "stream": "stdout",
       "text": [
        "\r",
        "1.244.A.final.fasta                             0%    0     0.0KB/s   --:-- ETA\r",
        "1.244.A.final.fasta                           100%  156KB 156.2KB/s   00:00    \r\n"
       ]
      },
      {
       "output_type": "stream",
       "stream": "stdout",
       "text": [
        "\r",
        "1.245.O.final.fasta                             0%    0     0.0KB/s   --:-- ETA\r",
        "1.245.O.final.fasta                           100%   70KB  70.1KB/s   00:00    \r\n"
       ]
      },
      {
       "output_type": "stream",
       "stream": "stdout",
       "text": [
        "\r",
        "1.246.O.final.fasta                             0%    0     0.0KB/s   --:-- ETA\r",
        "1.246.O.final.fasta                           100%   46KB  46.1KB/s   00:00    \r\n"
       ]
      },
      {
       "output_type": "stream",
       "stream": "stdout",
       "text": [
        "\r",
        "1.247.A.final.fasta                             0%    0     0.0KB/s   --:-- ETA\r",
        "1.247.A.final.fasta                           100%   43KB  42.9KB/s   00:00    \r\n"
       ]
      },
      {
       "output_type": "stream",
       "stream": "stdout",
       "text": [
        "\r",
        "1.247.B.final.fasta                             0%    0     0.0KB/s   --:-- ETA\r",
        "1.247.B.final.fasta                           100%   43KB  42.9KB/s   00:00    \r\n"
       ]
      },
      {
       "output_type": "stream",
       "stream": "stdout",
       "text": [
        "\r",
        "1.248.O.final.fasta                             0%    0     0.0KB/s   --:-- ETA\r",
        "1.248.O.final.fasta                           100%   47KB  47.2KB/s   00:00    \r\n"
       ]
      },
      {
       "output_type": "stream",
       "stream": "stdout",
       "text": [
        "\r",
        "1.249.A.final.fasta                             0%    0     0.0KB/s   --:-- ETA\r",
        "1.249.A.final.fasta                           100%   10KB  10.4KB/s   00:00    \r\n"
       ]
      },
      {
       "output_type": "stream",
       "stream": "stdout",
       "text": [
        "\r",
        "1.249.B.final.fasta                             0%    0     0.0KB/s   --:-- ETA\r",
        "1.249.B.final.fasta                           100%   10KB  10.4KB/s   00:00    \r\n"
       ]
      },
      {
       "output_type": "stream",
       "stream": "stdout",
       "text": [
        "\r",
        "1.250.O.final.fasta                             0%    0     0.0KB/s   --:-- ETA\r",
        "1.250.O.final.fasta                           100%   59KB  58.6KB/s   00:00    \r\n"
       ]
      },
      {
       "output_type": "stream",
       "stream": "stdout",
       "text": [
        "\r",
        "1.251.O.final.fasta                             0%    0     0.0KB/s   --:-- ETA\r",
        "1.251.O.final.fasta                           100%   58KB  58.3KB/s   00:00    \r\n"
       ]
      },
      {
       "output_type": "stream",
       "stream": "stdout",
       "text": [
        "\r",
        "1.253.O.final.fasta                             0%    0     0.0KB/s   --:-- ETA\r",
        "1.253.O.final.fasta                           100%   46KB  45.9KB/s   00:00    \r\n"
       ]
      },
      {
       "output_type": "stream",
       "stream": "stdout",
       "text": [
        "\r",
        "1.254.O.final.fasta                             0%    0     0.0KB/s   --:-- ETA\r",
        "1.254.O.final.fasta                           100%   32KB  32.0KB/s   00:00    \r\n"
       ]
      },
      {
       "output_type": "stream",
       "stream": "stdout",
       "text": [
        "\r",
        "1.255.O.final.fasta                             0%    0     0.0KB/s   --:-- ETA\r",
        "1.255.O.final.fasta                           100%  156KB 156.2KB/s   00:00    \r\n"
       ]
      },
      {
       "output_type": "stream",
       "stream": "stdout",
       "text": [
        "\r",
        "1.256.O.final.fasta                             0%    0     0.0KB/s   --:-- ETA\r",
        "1.256.O.final.fasta                           100%   47KB  47.1KB/s   00:00    \r\n"
       ]
      },
      {
       "output_type": "stream",
       "stream": "stdout",
       "text": [
        "\r",
        "1.257.O.final.fasta                             0%    0     0.0KB/s   --:-- ETA\r",
        "1.257.O.final.fasta                           100%   32KB  31.7KB/s   00:00    \r\n"
       ]
      },
      {
       "output_type": "stream",
       "stream": "stdout",
       "text": [
        "\r",
        "1.259.O.final.fasta                             0%    0     0.0KB/s   --:-- ETA\r",
        "1.259.O.final.fasta                           100%   28KB  27.5KB/s   00:00    \r\n"
       ]
      },
      {
       "output_type": "stream",
       "stream": "stdout",
       "text": [
        "\r",
        "1.261.O.final.fasta                             0%    0     0.0KB/s   --:-- ETA\r",
        "1.261.O.final.fasta                           100%   70KB  70.3KB/s   00:00    \r\n"
       ]
      },
      {
       "output_type": "stream",
       "stream": "stdout",
       "text": [
        "\r",
        "1.262.O.final.fasta                             0%    0     0.0KB/s   --:-- ETA\r",
        "1.262.O.final.fasta                           100%   47KB  46.6KB/s   00:00    \r\n"
       ]
      },
      {
       "output_type": "stream",
       "stream": "stdout",
       "text": [
        "\r",
        "1.263.A.final.fasta                             0%    0     0.0KB/s   --:-- ETA\r",
        "1.263.A.final.fasta                           100%   49KB  48.5KB/s   00:00    \r\n"
       ]
      },
      {
       "output_type": "stream",
       "stream": "stdout",
       "text": [
        "\r",
        "1.263.B.final.fasta                             0%    0     0.0KB/s   --:-- ETA\r",
        "1.263.B.final.fasta                           100%   49KB  48.5KB/s   00:00    \r\n"
       ]
      },
      {
       "output_type": "stream",
       "stream": "stdout",
       "text": [
        "\r",
        "1.264.O.final.fasta                             0%    0     0.0KB/s   --:-- ETA\r",
        "1.264.O.final.fasta                           100%   47KB  46.7KB/s   00:00    \r\n"
       ]
      },
      {
       "output_type": "stream",
       "stream": "stdout",
       "text": [
        "\r",
        "1.265.O.final.fasta                             0%    0     0.0KB/s   --:-- ETA\r",
        "1.265.O.final.fasta                           100%   43KB  42.6KB/s   00:00    \r\n"
       ]
      },
      {
       "output_type": "stream",
       "stream": "stdout",
       "text": [
        "\r",
        "1.266.O.final.fasta                             0%    0     0.0KB/s   --:-- ETA\r",
        "1.266.O.final.fasta                           100%   34KB  34.0KB/s   00:00    \r\n"
       ]
      },
      {
       "output_type": "stream",
       "stream": "stdout",
       "text": [
        "\r",
        "1.267.O.final.fasta                             0%    0     0.0KB/s   --:-- ETA\r",
        "1.267.O.final.fasta                           100%   58KB  58.1KB/s   00:00    \r\n"
       ]
      },
      {
       "output_type": "stream",
       "stream": "stdout",
       "text": [
        "\r",
        "1.268.A.final.fasta                             0%    0     0.0KB/s   --:-- ETA\r",
        "1.268.A.final.fasta                           100%   58KB  57.9KB/s   00:00    \r\n"
       ]
      },
      {
       "output_type": "stream",
       "stream": "stdout",
       "text": [
        "\r",
        "1.268.B.final.fasta                             0%    0     0.0KB/s   --:-- ETA\r",
        "1.268.B.final.fasta                           100%   58KB  57.9KB/s   00:00    \r\n"
       ]
      },
      {
       "output_type": "stream",
       "stream": "stdout",
       "text": [
        "\r",
        "1.269.O.final.fasta                             0%    0     0.0KB/s   --:-- ETA\r",
        "1.269.O.final.fasta                           100%   58KB  58.4KB/s   00:00    \r\n"
       ]
      },
      {
       "output_type": "stream",
       "stream": "stdout",
       "text": [
        "\r",
        "1.270.A.final.fasta                             0%    0     0.0KB/s   --:-- ETA\r",
        "1.270.A.final.fasta                           100%   58KB  57.9KB/s   00:00    \r\n"
       ]
      },
      {
       "output_type": "stream",
       "stream": "stdout",
       "text": [
        "\r",
        "1.270.B.final.fasta                             0%    0     0.0KB/s   --:-- ETA\r",
        "1.270.B.final.fasta                           100%   58KB  57.9KB/s   00:00    \r\n"
       ]
      },
      {
       "output_type": "stream",
       "stream": "stdout",
       "text": [
        "\r",
        "1.271.A.final.fasta                             0%    0     0.0KB/s   --:-- ETA\r",
        "1.271.A.final.fasta                           100%   58KB  57.9KB/s   00:00    \r\n"
       ]
      },
      {
       "output_type": "stream",
       "stream": "stdout",
       "text": [
        "\r",
        "1.271.B.final.fasta                             0%    0     0.0KB/s   --:-- ETA\r",
        "1.271.B.final.fasta                           100%   58KB  57.9KB/s   00:00    \r\n"
       ]
      },
      {
       "output_type": "stream",
       "stream": "stdout",
       "text": [
        "\r",
        "1.272.O.final.fasta                             0%    0     0.0KB/s   --:-- ETA\r",
        "1.272.O.final.fasta                           100%   58KB  57.9KB/s   00:00    \r\n"
       ]
      },
      {
       "output_type": "stream",
       "stream": "stdout",
       "text": [
        "\r",
        "1.273.O.final.fasta                             0%    0     0.0KB/s   --:-- ETA\r",
        "1.273.O.final.fasta                           100%   47KB  47.1KB/s   00:00    \r\n"
       ]
      },
      {
       "output_type": "stream",
       "stream": "stdout",
       "text": [
        "\r",
        "1.274.O.final.fasta                             0%    0     0.0KB/s   --:-- ETA\r",
        "1.274.O.final.fasta                           100%   58KB  58.1KB/s   00:00    \r\n"
       ]
      },
      {
       "output_type": "stream",
       "stream": "stdout",
       "text": [
        "\r",
        "1.275.O.final.fasta                             0%    0     0.0KB/s   --:-- ETA\r",
        "1.275.O.final.fasta                           100%   37KB  37.1KB/s   00:00    \r\n"
       ]
      },
      {
       "output_type": "stream",
       "stream": "stdout",
       "text": [
        "\r",
        "1.276.O.final.fasta                             0%    0     0.0KB/s   --:-- ETA\r",
        "1.276.O.final.fasta                           100%   43KB  43.3KB/s   00:00    \r\n"
       ]
      },
      {
       "output_type": "stream",
       "stream": "stdout",
       "text": [
        "\r",
        "1.277.A.final.fasta                             0%    0     0.0KB/s   --:-- ETA\r",
        "1.277.A.final.fasta                           100%   58KB  57.9KB/s   00:00    \r\n"
       ]
      },
      {
       "output_type": "stream",
       "stream": "stdout",
       "text": [
        "\r",
        "1.277.B.final.fasta                             0%    0     0.0KB/s   --:-- ETA\r",
        "1.277.B.final.fasta                           100%   58KB  58.1KB/s   00:00    \r\n"
       ]
      },
      {
       "output_type": "stream",
       "stream": "stdout",
       "text": [
        "\r",
        "1.278.O.final.fasta                             0%    0     0.0KB/s   --:-- ETA\r",
        "1.278.O.final.fasta                           100%   48KB  48.2KB/s   00:00    \r\n"
       ]
      },
      {
       "output_type": "stream",
       "stream": "stdout",
       "text": [
        "\r",
        "1.280.O.final.fasta                             0%    0     0.0KB/s   --:-- ETA\r",
        "1.280.O.final.fasta                           100%   58KB  57.9KB/s   00:00    \r\n"
       ]
      },
      {
       "output_type": "stream",
       "stream": "stdout",
       "text": [
        "\r",
        "1.281.O.final.fasta                             0%    0     0.0KB/s   --:-- ETA\r",
        "1.281.O.final.fasta                           100%   58KB  57.9KB/s   00:00    \r\n"
       ]
      },
      {
       "output_type": "stream",
       "stream": "stdout",
       "text": [
        "\r",
        "1.282.A.final.fasta                             0%    0     0.0KB/s   --:-- ETA\r",
        "1.282.A.final.fasta                           100%   58KB  58.0KB/s   00:00    \r\n"
       ]
      },
      {
       "output_type": "stream",
       "stream": "stdout",
       "text": [
        "\r",
        "1.283.A.final.fasta                             0%    0     0.0KB/s   --:-- ETA\r",
        "1.283.A.final.fasta                           100%   58KB  58.2KB/s   00:00    \r\n"
       ]
      },
      {
       "output_type": "stream",
       "stream": "stdout",
       "text": [
        "\r",
        "1.283.B.final.fasta                             0%    0     0.0KB/s   --:-- ETA\r",
        "1.283.B.final.fasta                           100%   58KB  58.2KB/s   00:00    \r\n"
       ]
      },
      {
       "output_type": "stream",
       "stream": "stdout",
       "text": [
        "\r",
        "1.283.C.final.fasta                             0%    0     0.0KB/s   --:-- ETA\r",
        "1.283.C.final.fasta                           100%   58KB  58.2KB/s   00:00    \r\n"
       ]
      },
      {
       "output_type": "stream",
       "stream": "stdout",
       "text": [
        "\r",
        "1.284.A.final.fasta                             0%    0     0.0KB/s   --:-- ETA\r",
        "1.284.A.final.fasta                           100%   45KB  44.6KB/s   00:00    \r\n"
       ]
      },
      {
       "output_type": "stream",
       "stream": "stdout",
       "text": [
        "\r",
        "1.285.O.final.fasta                             0%    0     0.0KB/s   --:-- ETA\r",
        "1.285.O.final.fasta                           100%   58KB  58.1KB/s   00:00    \r\n"
       ]
      },
      {
       "output_type": "stream",
       "stream": "stdout",
       "text": [
        "\r",
        "1.286.O.final.fasta                             0%    0     0.0KB/s   --:-- ETA\r",
        "1.286.O.final.fasta                           100%   48KB  48.0KB/s   00:00    \r\n"
       ]
      },
      {
       "output_type": "stream",
       "stream": "stdout",
       "text": [
        "\r",
        "1.287.O.final.fasta                             0%    0     0.0KB/s   --:-- ETA\r",
        "1.287.O.final.fasta                           100%   45KB  44.5KB/s   00:00    \r\n"
       ]
      },
      {
       "output_type": "stream",
       "stream": "stdout",
       "text": [
        "\r",
        "1.289.A.final.fasta                             0%    0     0.0KB/s   --:-- ETA\r",
        "1.289.A.final.fasta                           100%   44KB  43.5KB/s   00:00    \r\n"
       ]
      },
      {
       "output_type": "stream",
       "stream": "stdout",
       "text": [
        "\r",
        "1.291.O.final.fasta                             0%    0     0.0KB/s   --:-- ETA\r",
        "1.291.O.final.fasta                           100%   43KB  42.7KB/s   00:00    \r\n"
       ]
      },
      {
       "output_type": "stream",
       "stream": "stdout",
       "text": [
        "\r",
        "1.293.O.final.fasta                             0%    0     0.0KB/s   --:-- ETA\r",
        "1.293.O.final.fasta                           100%   47KB  47.2KB/s   00:00    \r\n"
       ]
      },
      {
       "output_type": "stream",
       "stream": "stdout",
       "text": [
        "\r",
        "12G01.O.final.fasta                             0%    0     0.0KB/s   --:-- ETA\r",
        "12G01.O.final.fasta                           100%   41KB  40.6KB/s   00:00    \r\n"
       ]
      },
      {
       "output_type": "stream",
       "stream": "stdout",
       "text": [
        "\r",
        "2.044.O.final.fasta                             0%    0     0.0KB/s   --:-- ETA\r",
        "2.044.O.final.fasta                           100%   44KB  44.0KB/s   00:00    \r\n"
       ]
      },
      {
       "output_type": "stream",
       "stream": "stdout",
       "text": [
        "\r",
        "2.058.O.final.fasta                             0%    0     0.0KB/s   --:-- ETA\r",
        "2.058.O.final.fasta                           100%   99KB  99.3KB/s   00:00    \r\n"
       ]
      },
      {
       "output_type": "stream",
       "stream": "stdout",
       "text": [
        "\r",
        "2.092.O.final.fasta                             0%    0     0.0KB/s   --:-- ETA\r",
        "2.092.O.final.fasta                           100%   10KB  10.4KB/s   00:00    \r\n"
       ]
      },
      {
       "output_type": "stream",
       "stream": "stdout",
       "text": [
        "\r",
        "2.095.A.final.fasta                             0%    0     0.0KB/s   --:-- ETA\r",
        "2.095.A.final.fasta                           100%   44KB  43.6KB/s   00:00    \r\n"
       ]
      },
      {
       "output_type": "stream",
       "stream": "stdout",
       "text": [
        "\r",
        "2.095.B.final.fasta                             0%    0     0.0KB/s   --:-- ETA\r",
        "2.095.B.final.fasta                           100%   44KB  43.6KB/s   00:00    \r\n"
       ]
      },
      {
       "output_type": "stream",
       "stream": "stdout",
       "text": [
        "\r",
        "2.096.O.final.fasta                             0%    0     0.0KB/s   --:-- ETA\r",
        "2.096.O.final.fasta                           100%   44KB  43.7KB/s   00:00    \r\n"
       ]
      },
      {
       "output_type": "stream",
       "stream": "stdout",
       "text": [
        "\r",
        "2.117.O.final.fasta                             0%    0     0.0KB/s   --:-- ETA\r",
        "2.117.O.final.fasta                           100%   55KB  54.5KB/s   00:00    \r\n"
       ]
      },
      {
       "output_type": "stream",
       "stream": "stdout",
       "text": [
        "\r",
        "2.130.O.final.fasta                             0%    0     0.0KB/s   --:-- ETA\r",
        "2.130.O.final.fasta                           100%   74KB  74.1KB/s   00:00    \r\n"
       ]
      },
      {
       "output_type": "stream",
       "stream": "stdout",
       "text": [
        "\r",
        "2.159.A.final.fasta                             0%    0     0.0KB/s   --:-- ETA\r",
        "2.159.A.final.fasta                           100%   31KB  31.0KB/s   00:00    \r\n"
       ]
      },
      {
       "output_type": "stream",
       "stream": "stdout",
       "text": [
        "\r",
        "2.159.B.final.fasta                             0%    0     0.0KB/s   --:-- ETA\r",
        "2.159.B.final.fasta                           100%   31KB  30.9KB/s   00:00    \r\n"
       ]
      },
      {
       "output_type": "stream",
       "stream": "stdout",
       "text": [
        "\r",
        "2.275.O.final.fasta                             0%    0     0.0KB/s   --:-- ETA\r",
        "2.275.O.final.fasta                           100%  341KB 340.8KB/s   00:00    \r\n"
       ]
      },
      {
       "output_type": "stream",
       "stream": "stdout",
       "text": [
        "\r",
        "3.058.O.final.fasta                             0%    0     0.0KB/s   --:-- ETA\r",
        "3.058.O.final.fasta                           100%   99KB  99.3KB/s   00:00    \r\n"
       ]
      }
     ],
     "prompt_number": 5
    },
    {
     "cell_type": "code",
     "collapsed": false,
     "input": [
      "groupfile=phagelist\n",
      "out=open(\"lg.subunit.terminase.blast.sh\",\"w\")\n",
      "out.write(\"#!/bin/bash\\n#SBATCH -n 16\\n#SBATCH -N 1\\n#SBATCH -o prodigal.out\\n#SBATCH -e prodigal.err\\n#SBATCH -p sched_mit_chisholm\\n\\n\")\n",
      "out.write(\"module add engaging/prodigal/2.6.1\\n\\n\")\n",
      "out.write(\"module add engaging/ncbi-blast/2.2.30+\\n\\n\")\n",
      "for line in groupfile:\n",
      "    out.write(\"prodigal -i ../final_bp_contigs/\"+line+\"final.fasta -o \"+line+\"genes -a \"+line+\"proteins.faa -p meta\\n\")\n",
      "\n",
      "for line in groupfile:\n",
      "    inputfasta=line+\"proteins.faa\"\n",
      "    bout1=line+\"prodprot.vs.lg.terminases.txt\"\n",
      "    #bout2=line+\"prodprot.vs.sm.terminases.txt\"\n",
      "    blastcommand=\"blastp -db /nobackup1/jbrown/blast_db/terminase_lg_subunit.fasta -query \"+inputfasta+\" -num_descriptions 1 -evalue 0.001 -outfmt 6 -out \"+bout1\n",
      "    #blastcommand2=\"blastx -db /nobackup1/jbrown/blast_db/terminase_sm_subunit.fasta -query \"+inputfasta+\" -num_descriptions 1 -outfmt 6 -out \"+bout2\n",
      "    out.write(blastcommand+\"\\n\")#+blastcommand2+\"\\n\\n\")\n",
      "out.close()\n",
      "!open lg.subunit.terminase.blast.sh -a textedit\n",
      "!scp lg.subunit.terminase.blast.sh jbrown@eofe4.mit.edu:/nobackup1/jbrown/nahant_phage_reads/terminase_search/"
     ],
     "language": "python",
     "metadata": {},
     "outputs": [
      {
       "output_type": "stream",
       "stream": "stdout",
       "text": [
        "\r",
        "lg.subunit.terminase.blast.sh                   0%    0     0.0KB/s   --:-- ETA\r",
        "lg.subunit.terminase.blast.sh                 100%   79KB  79.0KB/s   00:00    \r\n"
       ]
      }
     ],
     "prompt_number": 7
    },
    {
     "cell_type": "code",
     "collapsed": false,
     "input": [
      "!scp phagelist.txt jbrown@eofe4.mit.edu:/nobackup1/jbrown/nahant_phage_reads/terminase_search/"
     ],
     "language": "python",
     "metadata": {},
     "outputs": [
      {
       "output_type": "stream",
       "stream": "stdout",
       "text": [
        "\r",
        "phagelist.txt                                   0%    0     0.0KB/s   --:-- ETA\r",
        "phagelist.txt                                 100% 2583     2.5KB/s   00:00    \r\n"
       ]
      }
     ],
     "prompt_number": 10
    },
    {
     "cell_type": "markdown",
     "metadata": {},
     "source": []
    },
    {
     "cell_type": "code",
     "collapsed": false,
     "input": [
      "!scp /Users/jmb/Desktop/ViralFate/HostPhylogeny/extract_best_blast.py jbrown@eofe4.mit.edu:/nobackup1/jbrown/nahant_phage_reads/terminase_search/"
     ],
     "language": "python",
     "metadata": {},
     "outputs": [
      {
       "output_type": "stream",
       "stream": "stdout",
       "text": [
        "\r",
        "extract_best_blast.py                           0%    0     0.0KB/s   --:-- ETA\r",
        "extract_best_blast.py                         100%  824     0.8KB/s   00:00    \r\n"
       ]
      }
     ],
     "prompt_number": 11
    },
    {
     "cell_type": "raw",
     "metadata": {},
     "source": [
      "#!/usr/bin/python\n",
      "#extract_best_blast.py: run on server\n",
      "from pyfaidx import Fasta\n",
      "import os\n",
      "import sys\n",
      "import os.path\n",
      "\n",
      "#convert command line arguments to variables:\n",
      "phages_lib=str(sys.argv[1])\n",
      "output_name=str(sys.argv[2])\n",
      "\n",
      "phages=open(phages_lib).read().split(\"\\n\")\n",
      "outfast=open(output_name,\"w\")\n",
      "\n",
      "for phage in phages:\n",
      "\tbest_evalue=1\n",
      "\tif os.path.exists(phage+\"prodprot.vs.lg.terminases.txt\") and len(open(phage+\"prodprot.vs.lg.terminases.txt\").readlines())>0:\n",
      "\t\tblast=open(phage+\"prodprot.vs.lg.terminases.txt\").readlines()\n",
      "\t\tfor line in blast:    \n",
      "\t\t\tif float(line.split(\"\\t\")[10])<best_evalue:\n",
      "\t\t\t\tbest_evalue=float(line.split(\"\\t\")[10])\n",
      "\t\t\t\tterminase=line.split(\"\\t\")[0]\n",
      "\t\tprint(terminase)\n",
      "\t\tf=Fasta(phage+\"proteins.faa\")\n",
      "\t\ta = str(f[terminase])\n",
      "\t\toutfast.write(\">\"+phage+\"\\n\"+a+\"\\n\")\n",
      "\telse:\n",
      "\t\tprint(\"blast file for \"+phage+\" does not exist\")\n",
      "\n",
      "outfast.close()"
     ]
    },
    {
     "cell_type": "markdown",
     "metadata": {},
     "source": [
      "####*terminase file: nahant_phage_terminases.fasta*"
     ]
    },
    {
     "cell_type": "code",
     "collapsed": false,
     "input": [
      "!scp jbrown@eofe4.mit.edu:/nobackup1/jbrown/nahant_phage_reads/terminase_search/nahant_phage_terminases.fasta ./"
     ],
     "language": "python",
     "metadata": {},
     "outputs": [
      {
       "output_type": "stream",
       "stream": "stdout",
       "text": [
        "\r",
        "nahant_phage_terminases.fasta                   0%    0     0.0KB/s   --:-- ETA"
       ]
      },
      {
       "output_type": "stream",
       "stream": "stdout",
       "text": [
        "\r",
        "nahant_phage_terminases.fasta                 100%  141KB 140.5KB/s   00:00    \r\n"
       ]
      }
     ],
     "prompt_number": 12
    },
    {
     "cell_type": "code",
     "collapsed": false,
     "input": [
      "%load_ext rmagic"
     ],
     "language": "python",
     "metadata": {},
     "outputs": [],
     "prompt_number": 15
    },
    {
     "cell_type": "code",
     "collapsed": false,
     "input": [
      "ls"
     ],
     "language": "python",
     "metadata": {},
     "outputs": [
      {
       "output_type": "stream",
       "stream": "stdout",
       "text": [
        "Textbook_terminases.fasta            nahant_phage_terminases_muscle1.mas\r\n",
        "lg.subunit.terminase.blast.sh        nahant_phage_terminases_muscle1.meg\r\n",
        "\u001b[34mmega_cache_6140220\u001b[m\u001b[m/                  nahant_terminase_tree1.nwk\r\n",
        "n_and_t_terminases.fasta             phagelist.txt\r\n",
        "n_and_t_terminases.mas               terminase_tree1.mts\r\n",
        "n_and_t_terminases.meg               terminase_tree1.nwk\r\n",
        "nahant_phage_terminases.fasta        treekey.txt\r\n"
       ]
      }
     ],
     "prompt_number": 17
    },
    {
     "cell_type": "code",
     "collapsed": false,
     "input": [
      "%%R\n",
      "library(ape)\n",
      "library(phyloseq)\n",
      "library(magrittr)\n",
      "library(ggplot2)\n"
     ],
     "language": "python",
     "metadata": {},
     "outputs": [],
     "prompt_number": 31
    },
    {
     "cell_type": "code",
     "collapsed": false,
     "input": [
      "%%R\n",
      "ntt<-read.tree(file=\"nahant_terminase_tree3.nwk\")\n",
      "ntt$edge.length"
     ],
     "language": "python",
     "metadata": {},
     "outputs": [
      {
       "metadata": {},
       "output_type": "display_data",
       "text": [
        "  [1]   5.84691083   0.00000035   0.55171999   0.00000000   0.43799970\n",
        "  [6]   0.36411400   0.47484139   0.03379954   0.25087943   0.05919100\n",
        " [11]   0.66422385   0.28069161   0.18063329   0.00000000   1.79821368\n",
        " [16]   0.30486314   1.19992658   0.39815059   0.38111617   0.00000000\n",
        " [21]   1.04887506   0.00000000   0.00000000   0.00000000   0.00000000\n",
        " [26]   0.00000000   0.00000000   0.00000000   0.00000000   0.01323155\n",
        " [31]   0.27049409   0.53642168   0.34347846   0.97417604   0.55215947\n",
        " [36]   0.63192671   0.55387744   0.00000000   0.62407458   0.00000000\n",
        " [41]   0.00000000   0.00000000   0.00000000   0.00000000   0.00000000\n",
        " [46]   0.00000000   0.00000000   0.00000000   0.00000000   0.00000000\n",
        " [51]   0.00000000   0.00000000   0.00000000   0.60848646   0.00000000\n",
        " [56]   0.87366800   0.24663396   0.00000000   0.00000000   0.35428381\n",
        " [61]   2.06226482   0.73773040   0.00000000   0.00000000   0.00000000\n",
        " [66]   0.00000000   0.00000000   0.00000000   0.00000000   0.00000000\n",
        " [71]   0.00000000   0.00000000   0.00000000   0.61692811   0.49703656\n",
        " [76]   0.00000000   0.45458172   0.23595964   0.08333525   0.00000000\n",
        " [81]   0.00000000   0.00000000   3.71173039   0.91246826   0.00000000\n",
        " [86]   0.00000000   0.00000000   0.00000000   0.00000000   0.00000000\n",
        " [91]   0.00000000   0.00000000   0.90018792   0.69495270   0.03785376\n",
        " [96]   0.00000000   0.00000000   0.00000000   0.00000000   0.00000000\n",
        "[101]   0.00000000   0.00000000   0.11734107   0.39776016   2.40824196\n",
        "[106]   0.47009722   0.00000000   0.00000000   0.00000000   0.00000000\n",
        "[111]   0.03631971   0.02011133   0.01768946   0.33444130   0.52819957\n",
        "[116]   0.40955439   0.27169862   0.49290605   0.37623309   0.62978255\n",
        "[121]   1.09751815   0.11265743   1.58916217   0.00000000   0.00000000\n",
        "[126]   0.00000000   0.00000000   0.00000000   0.00000000   2.00456346\n",
        "[131]   0.56098772   0.38842868   0.15541872   0.00000000   0.09599338\n",
        "[136]   0.19842989   0.15858253   0.31997729   0.31392868   0.00000000\n",
        "[141]   3.27087701   0.56941797   0.04688538   0.26786529   0.00506238\n",
        "[146]   0.03104736   0.00000000   0.00000000   0.00000000   0.00000000\n",
        "[151]   0.00000000   0.00000000   0.00000000   0.00000000   0.14844595\n",
        "[156]   0.36289567   1.77834166   0.00000000   0.00000000   0.00000000\n",
        "[161]   0.00000000   0.00000000   0.00000000   0.00000000   0.00000000\n",
        "[166]   0.00000000   0.00000000   0.00000000   0.00000000   0.00000000\n",
        "[171]   0.00000000   0.00000000   0.00000000   0.38939746   1.07327921\n",
        "[176]   0.00000000   0.00000000   1.46174895   0.00000000   0.00000000\n",
        "[181]   0.00000000   0.00000000   0.00000000   0.00000000   0.00000000\n",
        "[186]   0.00000000   0.00000000   0.00000000   0.54116443   0.30058351\n",
        "[191]   0.34135637   1.70352684   0.00000000   0.00000000   0.00000000\n",
        "[196]   0.00000000   0.00000000   0.00000000   0.60814836   0.00000000\n",
        "[201]   0.34319309   1.08116651   1.01645070   0.36944616   1.14070427\n",
        "[206]   0.26180004   0.60675521   0.41188886   0.00000000   0.00000000\n",
        "[211]   0.05098140   0.00000000   0.00000000   0.00000000   0.00000000\n",
        "[216]   0.03699188   0.00000000   0.03707803   0.00000000   0.00000000\n",
        "[221]   0.00000000   0.00000000   0.00000000   0.00000000   0.00000000\n",
        "[226]   0.00000000   0.28611667   0.03854535   0.00000000   0.00000000\n",
        "[231]   0.00000000   0.00000000   0.00000000   0.00000000   0.00000000\n",
        "[236]   0.00000000   0.00000000   1.21852756   0.65171207   0.78222108\n",
        "[241]   0.00000000   0.00000000   1.85764777   1.27583052   0.00000000\n",
        "[246]   0.00000000   0.00000000   0.04187688   0.00000000   0.00000000\n",
        "[251]   0.00000000   0.00000000   0.00000000   0.00000000   0.00000000\n",
        "[256]   0.00000000   0.00000000   1.11371962   0.82965921   0.34627693\n",
        "[261]   0.00044090   1.46767878   0.02901966   1.99074029   0.77676519\n",
        "[266]   1.58867941   0.22542126   1.52874152   1.23698013   0.00000000\n",
        "[271]   5.92409823   0.00000000   0.33569723   0.00000000   0.00000000\n",
        "[276]   2.42132232   0.00000000   3.54309826   1.10903772   0.46014073\n",
        "[281]   1.07125950   1.60410885   1.22262578   0.00000000   0.50384570\n",
        "[286]   0.00000000   0.00000000   0.00000000   0.00000000   0.00000000\n",
        "[291]   0.00000000   0.00000000   0.00000000   0.00000000   0.00000000\n",
        "[296]   0.00000000   0.00000000   0.00000000   0.00000000   0.00000000\n",
        "[301]   0.00000000   0.46331524   0.05143545   0.01108909   0.11459271\n",
        "[306]   0.00000000   0.00000000   0.00000000   0.00000000   0.00000000\n",
        "[311]   0.00000000   0.00000000   0.00000000   0.00000000   0.00000000\n",
        "[316]   0.00000000   0.00000000   0.00000000   0.00000000   0.07841828\n",
        "[321]   0.00000000   0.00000000   0.00000000   2.39293125   1.02244925\n",
        "[326]   1.36635040   0.05528569   0.03843954   0.08468719   0.00000000\n",
        "[331]   0.00000000   0.00000000   0.00000000   0.00000000   0.00000000\n",
        "[336]   0.00000000   0.35098311   0.07431049   0.04094766   0.13762473\n",
        "[341]   0.00000000   0.00000000   0.00000000   0.00000000   0.00000000\n",
        "[346]   0.39724633   0.10290090   0.02003517   0.00000000   0.47101514\n",
        "[351]   0.07275915   0.00000000   0.00000000   0.00000000   0.00000000\n",
        "[356]   0.00000000   0.00000000   0.00000000   0.00000000   0.00000000\n",
        "[361]   0.00000000   0.00000000   0.00000000   0.00000000   0.00000000\n",
        "[366]   0.00000000   0.00000000   0.00000000   0.00000000   0.00000000\n",
        "[371]   0.00000000   0.00000000   0.00000000   0.00000000   0.00000000\n",
        "[376]   0.00000000   0.00000000   0.00000000   0.00000000   0.00000000\n",
        "[381]   0.00000000   0.00000000   0.00000000   0.00000000   0.00000000\n",
        "[386]   0.00000000   0.00000000   0.00000000   0.00000000   0.00000000\n",
        "[391]   0.00000000   0.00000000   0.00000000   0.00000000   0.00000000\n",
        "[396]   0.00000000   0.00000000   0.00000000   0.00000000   0.00000000\n",
        "[401]   0.00000000   0.00000000   0.12054598   0.29067171   1.20674144\n",
        "[406]   1.11296936   1.32914756   0.00000000   0.00000000   0.00000000\n",
        "[411]   0.03506612   0.00000000   0.00000000   0.00000000   0.00000000\n",
        "[416]   0.00000000   0.00000000   0.00000000   0.00000000   0.00000000\n",
        "[421]   0.00000000   0.00000000   0.00000000   0.00000000   0.35694747\n",
        "[426]   0.21596040   0.35198140   0.61549429   1.56529506   0.09378983\n",
        "[431]   0.00000000   0.00000000   0.11035176   0.00000000   0.03585436\n",
        "[436]   0.03590664   0.00000000   0.03580542   0.00000000   0.00000000\n",
        "[441]   0.00000000   0.00000000   0.00000000   0.00000000   0.00000000\n",
        "[446]   0.00000000   0.00000000   0.00000000   0.00000000   0.00000000\n",
        "[451]   0.00000000   0.00000000   0.00000000   0.00000000   0.00000000\n",
        "[456]   0.00000000   0.00000000   1.52515520   0.00000000   0.36526486\n",
        "[461]   0.04279448   0.00000000   0.00000000   0.00000000   0.00000000\n",
        "[466]   0.00000000   0.00000000   0.00000000   0.00000000   0.00000000\n",
        "[471]   0.39498164   1.18050622 110.88225120   0.46468864   0.00000010\n",
        "[476]   0.00000000   0.25459523   0.00000000   0.00000000   0.00000000\n",
        "[481]   2.78065486   0.33422000   0.00000000   0.00000000   0.03757446\n",
        "[486]   0.00000000   0.00000000   0.07600151   0.00000000   0.00000000\n",
        "[491]   0.00000000   0.00000000   1.01946151   0.38492787   0.00000000\n",
        "[496]   0.00000000   0.15784642   4.57120509   0.03907689   0.07645146\n",
        "[501]   0.00000000   0.00000000   0.28220552   0.00000000   0.31152378\n",
        "[506]   0.76176798   0.00000000   0.00000000   0.00000000   0.00000000\n",
        "[511]   0.00000000   0.00000000   0.00000000   0.00000000   0.00000000\n",
        "[516]   0.00000000   0.00000000   0.00000000   0.00000000   0.00000000\n",
        "[521]   0.00000000 118.14055264   0.00000000   0.00000000\n"
       ]
      }
     ],
     "prompt_number": 86
    },
    {
     "cell_type": "code",
     "collapsed": false,
     "input": [
      "%%R\n",
      "plot(ntt)"
     ],
     "language": "python",
     "metadata": {},
     "outputs": [
      {
       "metadata": {},
       "output_type": "display_data",
       "png": "[encoded data removed]"
      }
     ],
     "prompt_number": 87
    },
    {
     "cell_type": "code",
     "collapsed": false,
     "input": [
      "%%R\n",
      "png<-read.table(\"/Users/jmb/Desktop/ViralFate/new_phage_groups.txt\",sep=\"\\t\", header=TRUE)\n",
      "rownames(png)<-png$phages\n",
      "png$phages<-NULL\n",
      "TAX<-tax_table(as.matrix(png))"
     ],
     "language": "python",
     "metadata": {},
     "outputs": [],
     "prompt_number": 88
    },
    {
     "cell_type": "code",
     "collapsed": false,
     "input": [
      "%%R\n",
      "ntt_d<-chronos(ntt)"
     ],
     "language": "python",
     "metadata": {},
     "outputs": [
      {
       "metadata": {},
       "output_type": "display_data",
       "text": [
        "\n",
        "Setting initial dates...\n",
        "Fitting in progress... get a first set of estimates\n",
        "         Penalised log-lik = -155651.8 \n",
        "Optimising rates... dates... -155651.8 \n",
        "Optimising rates... dates... -698.3674 \n",
        "\n",
        "Done.\n"
       ]
      }
     ],
     "prompt_number": 90
    },
    {
     "cell_type": "code",
     "collapsed": false,
     "input": [
      "%%R \n"
     ],
     "language": "python",
     "metadata": {},
     "outputs": [
      {
       "metadata": {},
       "output_type": "display_data",
       "text": [
        "Taxonomy Table:     [287 taxa by 1 taxonomic ranks]:\n",
        "         new_grp\n",
        "1.135.O. \"1\"    \n",
        "1.213.O. \"1\"    \n",
        "1.216.O. \"1\"    \n",
        "1.137.O. \"1\"    \n",
        "1.119.O. \"1\"    \n",
        "1.127.O. \"1\"    \n",
        "1.143.O. \"1\"    \n",
        "1.231.O. \"1\"    \n",
        "1.236.O. \"1\"    \n",
        "1.067.O. \"1\"    \n",
        "1.144.O. \"1\"    \n",
        "1.036.O. \"1\"    \n",
        "1.177.O. \"1\"    \n",
        "1.178.O. \"1\"    \n",
        "1.079.O. \"1\"    \n",
        "2.095.B. \"1\"    \n",
        "1.003.O. \"1\"    \n",
        "2.095.A. \"1\"    \n",
        "1.090.B. \"1\"    \n",
        "1.091.O. \"1\"    \n",
        "1.265.O. \"1\"    \n",
        "1.276.O. \"1\"    \n",
        "1.198.A. \"1\"    \n",
        "1.198.B. \"1\"    \n",
        "1.061.O. \"1\"    \n",
        "1.039.O. \"1\"    \n",
        "1.060.A. \"1a\"   \n",
        "1.243.O. \"1a\"   \n",
        "1.248.O. \"1a\"   \n",
        "1.173.O. \"1a\"   \n",
        "1.007.O. \"1a\"   \n",
        "1.256.O. \"1a\"   \n",
        "1.105.O. \"1a\"   \n",
        "1.186.O. \"1a\"   \n",
        "1.273.O. \"1a\"   \n",
        "1.263.B. \"1a\"   \n",
        "1.263.A. \"1a\"   \n",
        "1.113.A. \"1a\"   \n",
        "1.106.O. \"1a\"   \n",
        "1.278.O. \"1a\"   \n",
        "1.197.A. \"1a\"   \n",
        "1.149.O. \"1a\"   \n",
        "1.284.A. \"1a\"   \n",
        "1.287.O. \"1a\"   \n",
        "1.289.A. \"1a\"   \n",
        "1.199.B. \"1a\"   \n",
        "1.199.A. \"1a\"   \n",
        "1.286.O. \"1a\"   \n",
        "1.047.O. \"1a\"   \n",
        "1.291.O. \"1a\"   \n",
        "1.054.O. \"1b\"   \n",
        "1.029.O. \"1b\"   \n",
        "1.042.O. \"1b\"   \n",
        "1.016.O. \"1b\"   \n",
        "1.071.A. \"1b\"   \n",
        "1.112.O. \"1b\"   \n",
        "1.038.O. \"1b\"   \n",
        "1.154.O. \"1c\"   \n",
        "1.052.A. \"1c\"   \n",
        "1.123.O. \"1c\"   \n",
        "1.151.O. \"1d\"   \n",
        "1.232.O. \"9b\"   \n",
        "1.101.O. \"2\"    \n",
        "1.063.O. \"2\"    \n",
        "1.161.O. \"2\"    \n",
        "1.084.O. \"2\"    \n",
        "1.170.O. \"2\"    \n",
        "1.121.O. \"2\"    \n",
        "1.187.O. \"2\"    \n",
        "1.193.O. \"2\"    \n",
        "1.031.O. \"2a\"   \n",
        "3.058.O. \"2b\"   \n",
        "2.058.O. \"2b\"   \n",
        "1.244.A. \"2b\"   \n",
        "1.255.O. \"2b\"   \n",
        "2.275.O. \"2b\"   \n",
        "1.081.O. \"2b\"   \n",
        "1.033.O. \"4\"    \n",
        "1.023.O. \"4\"    \n",
        "1.024.O. \"4\"    \n",
        "1.088.O. \"4\"    \n",
        "1.171.O. \"4\"    \n",
        "1.194.O. \"4\"    \n",
        "1.280.O. \"4\"    \n",
        "1.283.B. \"4\"    \n",
        "1.283.A. \"4\"    \n",
        "1.012.O. \"4\"    \n",
        "1.160.O. \"4\"    \n",
        "1.089.O. \"4\"    \n",
        "1.098.O. \"4\"    \n",
        "1.118.A. \"4\"    \n",
        "1.118.B. \"4\"    \n",
        "1.237.A. \"4\"    \n",
        "1.237.B. \"4\"    \n",
        "1.027.O. \"4\"    \n",
        "1.200.O. \"4\"    \n",
        "1.268.A. \"4\"    \n",
        "1.268.B. \"4\"    \n",
        "1.270.B. \"4\"    \n",
        "1.270.A. \"4\"    \n",
        "1.271.A. \"4\"    \n",
        "1.271.B. \"4\"    \n",
        "1.272.O. \"4\"    \n",
        "1.277.B. \"4\"    \n",
        "1.277.A. \"4\"    \n",
        "1.281.O. \"4\"    \n",
        "1.282.A. \"4\"    \n",
        "1.283.C. \"4\"    \n",
        "1.103.O. \"4\"    \n",
        "1.032.O. \"4\"    \n",
        "1.250.O. \"4\"    \n",
        "1.251.O. \"4\"    \n",
        "1.022.O. \"4\"    \n",
        "1.104.O. \"4\"    \n",
        "1.046.O. \"4\"    \n",
        "1.195.O. \"4\"    \n",
        "1.196.O. \"4\"    \n",
        "1.267.O. \"4\"    \n",
        "1.269.O. \"4\"    \n",
        "1.274.O. \"4\"    \n",
        "1.285.O. \"4\"    \n",
        "1.150.O. \"5\"    \n",
        "1.025.O. \"5\"    \n",
        "2.130.O. \"5\"    \n",
        "1.152.O. \"5\"    \n",
        "1.026.O. \"5\"    \n",
        "1.224.A. \"5\"    \n",
        "1.261.O. \"5\"    \n",
        "1.188.A. \"5\"    \n",
        "1.188.B. \"5\"    \n",
        "1.188.C. \"5\"    \n",
        "1.238.B. \"5\"    \n",
        "1.238.A. \"5\"    \n",
        "1.169.O. \"5\"    \n",
        "1.245.O. \"5\"    \n",
        "1.097.O. \"5\"    \n",
        "1.131.O. \"6\"    \n",
        "1.115.B. \"6\"    \n",
        "1.115.A. \"6\"    \n",
        "1.074.O. \"6\"    \n",
        "1.132.O. \"6\"    \n",
        "1.206.O. \"6\"    \n",
        "1.108.O. \"6\"    \n",
        "1.064.O. \"6\"    \n",
        "1.085.O. \"6\"    \n",
        "1.133.O. \"6\"    \n",
        "1.134.O. \"6\"    \n",
        "1.116.O. \"6\"    \n",
        "1.172.O. \"6\"    \n",
        "1.157.O. \"6\"    \n",
        "1.228.O. \"6\"    \n",
        "1.147.O. \"6\"    \n",
        "1.162.O. \"6\"    \n",
        "1.226.O. \"6\"    \n",
        "1.082.O. \"6\"    \n",
        "1.165.O. \"6\"    \n",
        "1.167.O. \"6\"    \n",
        "1.233.A. \"6\"    \n",
        "1.233.B. \"6\"    \n",
        "1.168.O. \"6\"    \n",
        "1.110.O. \"6\"    \n",
        "1.176.O. \"6\"    \n",
        "1.239.O. \"6\"    \n",
        "1.240.O. \"6\"    \n",
        "1.242.O. \"6\"    \n",
        "1.182.O. \"6\"    \n",
        "1.148.O. \"6\"    \n",
        "1.189.O. \"6\"    \n",
        "1.189.B. \"6\"    \n",
        "1.189.C. \"6\"    \n",
        "1.266.O. \"6\"    \n",
        "1.017.O. \"7\"    \n",
        "1.086.O. \"7\"    \n",
        "1.030.O. \"7\"    \n",
        "1.100.O. \"7\"    \n",
        "1.158.O. \"7\"    \n",
        "1.175.O. \"7\"    \n",
        "1.087.A. \"7\"    \n",
        "1.223.O. \"7\"    \n",
        "1.225.O. \"7\"    \n",
        "1.164.O. \"7\"    \n",
        "1.009.O. \"7\"    \n",
        "1.246.O. \"7\"    \n",
        "1.174.O. \"7\"    \n",
        "1.181.O. \"7\"    \n",
        "1.005.O. \"7\"    \n",
        "1.124.O. \"7\"    \n",
        "1.191.O. \"7\"    \n",
        "1.075.O. \"7\"    \n",
        "1.093.O. \"7\"    \n",
        "1.094.O. \"7\"    \n",
        "1.201.B. \"7\"    \n",
        "1.205.O. \"9b\"   \n",
        "1.262.O. \"9\"    \n",
        "1.293.O. \"8\"    \n",
        "1.034.O. \"8\"    \n",
        "1.139.A. \"8\"    \n",
        "1.139.B. \"8\"    \n",
        "1.034.X. \"8\"    \n",
        "1.209.O. \"8\"    \n",
        "1.015.O. \"8\"    \n",
        "1.208.B. \"8\"    \n",
        "1.070.O. \"8\"    \n",
        "1.077.O. \"8\"    \n",
        "1.253.O. \"8\"    \n",
        "1.235.O. \"8\"    \n",
        "1.264.O. \"8\"    \n",
        "1.214.O. \"9\"    \n",
        "1.013.O. \"9\"    \n",
        "1.247.B. \"9\"    \n",
        "1.247.A. \"9\"    \n",
        "1.122.A. \"9\"    \n",
        "1.122.B. \"9\"    \n",
        "1.275.O. \"9\"    \n",
        "1.210.O. \"9a\"   \n",
        "1.076.O. \"9a\"   \n",
        "1.211.B. \"9b\"   \n",
        "1.211.A. \"9b\"   \n",
        "1.183.O. \"9b\"   \n",
        "1.184.A. \"9b\"   \n",
        "1.215.B. \"10\"   \n",
        "1.215.A. \"10\"   \n",
        "1.021.B. \"11\"   \n",
        "1.021.A. \"11\"   \n",
        "1.021.C. \"11\"   \n",
        "1.138.O. \"11\"   \n",
        "1.254.O. \"11\"   \n",
        "1.179.O. \"11\"   \n",
        "1.257.O. \"11\"   \n",
        "1.185.O. \"11\"   \n",
        "1.204.O. \"11a\"  \n",
        "2.096.O. \"12/14\"\n",
        "1.049.O. \"12/14\"\n",
        "1.050.O. \"12/14\"\n",
        "1.055.O. \"12/14\"\n",
        "1.083.O. \"12/14\"\n",
        "1.117.O. \"13\"   \n",
        "2.117.O. \"13\"   \n",
        "1.207.B. \"13\"   \n",
        "1.037.O. \"12/14\"\n",
        "1.056.O. \"12/14\"\n",
        "1.066.O. \"12/14\"\n",
        "1.068.O. \"12/14\"\n",
        "1.072.O. \"12/14\"\n",
        "2.044.O. \"12/14\"\n",
        "1.004.O. \"12/14\"\n",
        "1.011.O. \"15\"   \n",
        "1.040.O. \"15\"   \n",
        "1.043.O. \"15\"   \n",
        "1.044.O. \"15\"   \n",
        "1.048.O. \"15\"   \n",
        "1.057.O. \"15\"   \n",
        "1.062.O. \"15\"   \n",
        "1.080.O. \"15\"   \n",
        "1.095.O. \"15\"   \n",
        "1.102.O. \"15\"   \n",
        "1.125.O. \"15\"   \n",
        "1.141.A. \"15\"   \n",
        "2.092.O. \"15\"   \n",
        "1.008.O. \"15\"   \n",
        "1.069.O. \"15\"   \n",
        "1.107.B. \"15\"   \n",
        "1.107.C. \"15\"   \n",
        "1.107.A. \"15\"   \n",
        "1.249.A. \"15\"   \n",
        "1.249.B. \"15\"   \n",
        "1.020.O. \"15\"   \n",
        "1.155.O. \"16\"   \n",
        "1.166.O. \"16\"   \n",
        "1.190.O. \"16\"   \n",
        "1.259.O. \"16\"   \n",
        "1.142.O. \"16\"   \n",
        "1.156.O. \"17\"   \n",
        "1.217.O. \"17\"   \n",
        "1.136.O. \"17\"   \n",
        "1.219.O. \"17\"   \n",
        "1.028.O. \"17\"   \n",
        "1.159.O. \"17\"   \n",
        "2.159.A. \"17\"   \n",
        "2.159.B. \"17\"   \n",
        "1.202.O. \"17a\"  \n",
        "1.111.B. \"18\"   \n",
        "1.111.A. \"18\"   \n",
        "12G01.O. \"1\"    \n",
        "1.126.O. \"21\"   \n",
        "1.214.Y. NA     \n",
        "1.217.Y. NA     \n"
       ]
      }
     ],
     "prompt_number": 70
    },
    {
     "cell_type": "code",
     "collapsed": false,
     "input": [
      "%%R\n",
      "plot_tree(ntt, color=\"new_grp\", ladderize=\"left\")"
     ],
     "language": "python",
     "metadata": {},
     "outputs": [
      {
       "metadata": {},
       "output_type": "display_data",
       "png": "[encoded data removed]"
      }
     ],
     "prompt_number": 89
    },
    {
     "cell_type": "code",
     "collapsed": false,
     "input": [],
     "language": "python",
     "metadata": {},
     "outputs": []
    }
   ],
   "metadata": {}
  }
 ]
}