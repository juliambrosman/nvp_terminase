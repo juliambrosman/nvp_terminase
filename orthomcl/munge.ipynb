{
 "cells": [
  {
   "cell_type": "code",
   "execution_count": 1,
   "metadata": {
    "collapsed": true
   },
   "outputs": [],
   "source": [
    "t="
   ]
  },
  {
   "cell_type": "code",
   "execution_count": 13,
   "metadata": {
    "collapsed": false
   },
   "outputs": [],
   "source": [
    "from collections import defaultdict\n",
    "\n",
    "tdict=defaultdict(lambda: [])\n",
    "\n",
    "with open(\"terminase_groups.txt\") as infile:\n",
    "    for l in infile:\n",
    "        group=l.split(\":\")[0]\n",
    "        members=l.split(\":\")[1].replace(\"\\n\",\"\").split(\" \")[1:]\n",
    "        names=[i.split(\"|\")[1] for i in members]\n",
    "        tdict[group]=names"
   ]
  },
  {
   "cell_type": "code",
   "execution_count": 17,
   "metadata": {
    "collapsed": false
   },
   "outputs": [],
   "source": [
    "tfd={}    #terminase function dictionary\n",
    "\n",
    "with open(\"../akmk_terminases/terminases-shorty-for-JB_info_added.txt\") as infile:\n",
    "    for l in infile:\n",
    "        vec=l.split(\"\\t\")\n",
    "        name=vec[0]\n",
    "        simple_function=vec[-1].replace(\"\\n\",\"\")\n",
    "        info_function=vec[-2]\n",
    "        if simple_function!=\"not characterized\" and simple_function!=\"NoGroup\":\n",
    "            tfd[name]=(simple_function, info_function)"
   ]
  },
  {
   "cell_type": "code",
   "execution_count": 20,
   "metadata": {
    "collapsed": false
   },
   "outputs": [
    {
     "name": "stdout",
     "output_type": "stream",
     "text": [
      "terminase48\t('Mu', 'host ends/Mu')\t2\n",
      "terminase32\t('Headful', 'headful/P22')\t5\n",
      "terminase32\t('Headful', 'headful/P22')\t5\n",
      "terminase50\t('Headful', 'headful/D3112')\t2\n",
      "terminase19\t('Headful', 'headful/P22')\t8\n",
      "terminase19\t('Headful', 'headful/P22')\t8\n",
      "terminase19\t('Headful', 'headful/P22')\t8\n",
      "terminase19\t('Headful', 'headful/P22')\t8\n",
      "terminase19\t('Headful', 'headful/P22')\t8\n",
      "terminase30\t('Cos', '3-cos/HK97')\t6\n",
      "terminase30\t('Cos', '3-cos/HK97')\t6\n",
      "terminase30\t('Cos', '3-cos/HK97')\t6\n",
      "terminase37\t('Cos', '3-cos/HK97')\t4\n",
      "terminase37\t('Cos', '3-cos/HK97')\t4\n",
      "terminase35\t('Cos', '3-cos/HK97')\t4\n",
      "terminase35\t('Cos', '3-cos/HK97')\t4\n",
      "terminase10\t('DTR', 'short DTR/T7')\t15\n",
      "terminase10\t('DTR', 'short DTR/T7')\t15\n",
      "terminase10\t('DTR', 'short DTR/T7')\t15\n",
      "terminase10\t('DTR', 'short DTR/T7')\t15\n",
      "terminase10\t('DTR', 'short DTR/T7')\t15\n",
      "terminase10\t('DTR', 'short DTR/T7')\t15\n",
      "terminase12\t('Mu', 'host ends/Mu')\t13\n",
      "terminase12\t('Mu', 'host ends/Mu')\t13\n",
      "terminase12\t('Mu', 'host ends/Mu')\t13\n",
      "terminase15\t('Headful', 'headful/T4')\t11\n",
      "terminase15\t('Headful', 'headful/T4')\t11\n",
      "terminase15\t('Headful', 'headful/T4')\t11\n",
      "terminase15\t('Headful', 'headful/T4')\t11\n",
      "terminase17\t('Cos', '5-cos/P2')\t10\n",
      "terminase17\t('Cos', '5-cos/P2')\t10\n",
      "terminase17\t('Cos', '5-cos/P2')\t10\n",
      "terminase17\t('Cos', '5-cos/P2')\t10\n",
      "terminase2\t('DTR', 'DTR/N4')\t32\n",
      "terminase2\t('DTR', 'DTR/N4')\t32\n",
      "terminase2\t('DTR', 'DTR/N4')\t32\n",
      "terminase2\t('DTR', 'DTR/N4')\t32\n",
      "terminase2\t('DTR', 'DTR/N4')\t32\n",
      "terminase2\t('DTR', 'DTR/N4')\t32\n",
      "terminase2\t('DTR', 'DTR/N4')\t32\n",
      "terminase2\t('DTR', 'DTR/N4')\t32\n",
      "terminase2\t('DTR', 'DTR/N4')\t32\n",
      "terminase3\t('Cos', 'Cos/lambda')\t25\n",
      "terminase6\t('Headful', 'headful/933W')\t17\n",
      "terminase6\t('Headful', 'headful/933W')\t17\n",
      "terminase6\t('Headful', 'headful/933W')\t17\n",
      "terminase4\t('Cos', '3-cos/HK97')\t20\n",
      "terminase4\t('Cos', '3-cos/HK97')\t20\n",
      "terminase4\t('Cos', '3-cos/HK97')\t20\n",
      "terminase4\t('Cos', '3-cos/HK97')\t20\n",
      "terminase4\t('Cos', '3-cos/HK97')\t20\n",
      "terminase4\t('Cos', '3-cos/HK97')\t20\n",
      "terminase4\t('Cos', '3-cos/HK97')\t20\n",
      "terminase4\t('Cos', '3-cos/HK97')\t20\n",
      "terminase5\t('Headful', 'headful/Sf6')\t19\n",
      "terminase5\t('Headful', 'headful/Sf6')\t19\n",
      "terminase5\t('Headful', 'headful/Sf6')\t19\n",
      "terminase42\t('Headful', 'headful/P22')\t3\n",
      "terminase49\t('Cos', '3-cos/HK97')\t2\n",
      "terminase47\t('Headful', 'headful/P22')\t2\n",
      "terminase47\t('Headful', 'headful/P22')\t2\n",
      "terminase45\t('Cos', '3-cos/HK97')\t2\n",
      "terminase45\t('Cos', '3-cos/HK97')\t2\n",
      "terminase28\t('Cos', 'Cos/lambda')\t6\n",
      "terminase28\t('Cos', 'Cos/lambda')\t6\n",
      "terminase41\t('Cos', '3-cos/HK97')\t3\n",
      "terminase41\t('Cos', '3-cos/HK97')\t3\n",
      "terminase27\t('Cos', 'Cos/lambda')\t6\n",
      "terminase27\t('Cos', 'Cos/lambda')\t6\n",
      "terminase20\t('Cos', '3-cos/HK97')\t8\n",
      "terminase20\t('Cos', '3-cos/HK97')\t8\n",
      "terminase20\t('Cos', '3-cos/HK97')\t8\n",
      "terminase20\t('Cos', '3-cos/HK97')\t8\n",
      "terminase22\t('Headful', 'headful/Sf6')\t7\n"
     ]
    },
    {
     "data": {
      "text/plain": [
       "{'terminase10': ('DTR', 'short DTR/T7'),\n",
       " 'terminase12': ('Mu', 'host ends/Mu'),\n",
       " 'terminase15': ('Headful', 'headful/T4'),\n",
       " 'terminase17': ('Cos', '5-cos/P2'),\n",
       " 'terminase19': ('Headful', 'headful/P22'),\n",
       " 'terminase2': ('DTR', 'DTR/N4'),\n",
       " 'terminase20': ('Cos', '3-cos/HK97'),\n",
       " 'terminase22': ('Headful', 'headful/Sf6'),\n",
       " 'terminase27': ('Cos', 'Cos/lambda'),\n",
       " 'terminase28': ('Cos', 'Cos/lambda'),\n",
       " 'terminase3': ('Cos', 'Cos/lambda'),\n",
       " 'terminase30': ('Cos', '3-cos/HK97'),\n",
       " 'terminase32': ('Headful', 'headful/P22'),\n",
       " 'terminase35': ('Cos', '3-cos/HK97'),\n",
       " 'terminase37': ('Cos', '3-cos/HK97'),\n",
       " 'terminase4': ('Cos', '3-cos/HK97'),\n",
       " 'terminase41': ('Cos', '3-cos/HK97'),\n",
       " 'terminase42': ('Headful', 'headful/P22'),\n",
       " 'terminase45': ('Cos', '3-cos/HK97'),\n",
       " 'terminase47': ('Headful', 'headful/P22'),\n",
       " 'terminase48': ('Mu', 'host ends/Mu'),\n",
       " 'terminase49': ('Cos', '3-cos/HK97'),\n",
       " 'terminase5': ('Headful', 'headful/Sf6'),\n",
       " 'terminase50': ('Headful', 'headful/D3112'),\n",
       " 'terminase6': ('Headful', 'headful/933W')}"
      ]
     },
     "execution_count": 20,
     "metadata": {},
     "output_type": "execute_result"
    }
   ],
   "source": [
    "#out=open(\"terminase_ortho_groups.txt\",\"w\")\n",
    "\n",
    "tcfd={}   #terminase category function\n",
    "\n",
    "for n in tdict.keys():\n",
    "    members=tdict[n]\n",
    "    for m in members:\n",
    "        if m in tfd.keys():\n",
    "            print n+\"\\t\"+str(tfd[m])+\"\\t\"+str(len(members))\n",
    "            tcfd[n]=tfd[m]\n",
    "        #out.write(\"%s\\t%s\\t%s\\n\" % ())\n",
    "tcfd"
   ]
  },
  {
   "cell_type": "code",
   "execution_count": 25,
   "metadata": {
    "collapsed": false
   },
   "outputs": [
    {
     "name": "stdout",
     "output_type": "stream",
     "text": [
      "25 out of 74 terminase groups had a functionally defined representative\n"
     ]
    }
   ],
   "source": [
    "print \"%s out of %s terminase groups had a functionally defined representative\" % (len(tcfd), len(tfd))"
   ]
  },
  {
   "cell_type": "code",
   "execution_count": 49,
   "metadata": {
    "collapsed": false
   },
   "outputs": [],
   "source": [
    "out=open(\"terminase_group_desc.txt\",\"w\")\n",
    "out.write(\"terminase_grp\\tshort_desc\\tlong_desc\\n\")\n",
    "for f in tcfd.keys():\n",
    "    out.write(\"%s\\t%s\\t%s\\n\" % (f, tcfd[f][0],tcfd[f][1]))\n",
    "out.close()"
   ]
  },
  {
   "cell_type": "code",
   "execution_count": 34,
   "metadata": {
    "collapsed": false,
    "scrolled": true
   },
   "outputs": [],
   "source": [
    "out=open(\"terminase_ortho_groups.txt\",\"w\")\n",
    "\n",
    "\n",
    "\n",
    "for n in tdict.keys():\n",
    "    members=tdict[n]\n",
    "    for m in members:\n",
    "        function=tcfd.get(n,(\"NoRep\",\"NoRep\"))\n",
    "        out.write(\"%s\\t%s\\t%s\\t%s\\n\" % (m, n, function[0], function[1]))\n",
    "        \n",
    "out.close()"
   ]
  },
  {
   "cell_type": "code",
   "execution_count": 46,
   "metadata": {
    "collapsed": false
   },
   "outputs": [
    {
     "name": "stderr",
     "output_type": "stream",
     "text": [
      "//anaconda/lib/python2.7/site-packages/rpy2/robjects/functions.py:106: UserWarning: Loading required package: igraph\n",
      "\n",
      "  res = super(Function, self).__call__(*new_args, **new_kwargs)\n",
      "//anaconda/lib/python2.7/site-packages/rpy2/robjects/functions.py:106: UserWarning: \n",
      "Attaching package: ‘igraph’\n",
      "\n",
      "\n",
      "  res = super(Function, self).__call__(*new_args, **new_kwargs)\n",
      "//anaconda/lib/python2.7/site-packages/rpy2/robjects/functions.py:106: UserWarning: The following object is masked from ‘package:magrittr’:\n",
      "\n",
      "    %>%\n",
      "\n",
      "\n",
      "  res = super(Function, self).__call__(*new_args, **new_kwargs)\n",
      "//anaconda/lib/python2.7/site-packages/rpy2/robjects/functions.py:106: UserWarning: The following objects are masked from ‘package:dplyr’:\n",
      "\n",
      "    %>%, as_data_frame, groups, union\n",
      "\n",
      "\n",
      "  res = super(Function, self).__call__(*new_args, **new_kwargs)\n",
      "//anaconda/lib/python2.7/site-packages/rpy2/robjects/functions.py:106: UserWarning: The following objects are masked from ‘package:stats’:\n",
      "\n",
      "    decompose, spectrum\n",
      "\n",
      "\n",
      "  res = super(Function, self).__call__(*new_args, **new_kwargs)\n",
      "//anaconda/lib/python2.7/site-packages/rpy2/robjects/functions.py:106: UserWarning: The following object is masked from ‘package:base’:\n",
      "\n",
      "    union\n",
      "\n",
      "\n",
      "  res = super(Function, self).__call__(*new_args, **new_kwargs)\n",
      "//anaconda/lib/python2.7/site-packages/rpy2/robjects/functions.py:106: UserWarning: Loading required package: survival\n",
      "\n",
      "  res = super(Function, self).__call__(*new_args, **new_kwargs)\n",
      "//anaconda/lib/python2.7/site-packages/rpy2/robjects/functions.py:106: UserWarning: tnet: Analysis of Weighted, Two-mode, and Longitudinal networks.\n",
      "Type ?tnet for help.\n",
      "\n",
      "  res = super(Function, self).__call__(*new_args, **new_kwargs)\n"
     ]
    },
    {
     "name": "stdout",
     "output_type": "stream",
     "text": [
      "The rpy2.ipython extension is already loaded. To reload it, use:\n",
      "  %reload_ext rpy2.ipython\n"
     ]
    },
    {
     "data": {
      "text/plain": [
       "array(['tnet', 'survival', 'igraph', 'magrittr', 'ggplot2', 'dplyr',\n",
       "       'tools', 'stats', 'graphics', 'grDevices', 'utils', 'datasets',\n",
       "       'methods', 'base'], \n",
       "      dtype='|S9')"
      ]
     },
     "execution_count": 46,
     "metadata": {},
     "output_type": "execute_result"
    }
   ],
   "source": [
    "%load_ext rpy2.ipython\n",
    "%R library(dplyr); library(ggplot2); library(magrittr); library(tnet)"
   ]
  },
  {
   "cell_type": "code",
   "execution_count": 35,
   "metadata": {
    "collapsed": false
   },
   "outputs": [
    {
     "data": {
      "text/plain": [
       "     phage         cat short_desc    long_desc\n",
       "1    RadMu terminase48         Mu host ends/Mu\n",
       "2       B3 terminase48         Mu host ends/Mu\n",
       "3  psiM100 terminase43      NoRep        NoRep\n",
       "4    psiM2 terminase43      NoRep        NoRep\n",
       "5 1.262.O. terminase32    Headful  headful/P22\n",
       "6 PhiEco32 terminase32    Headful  headful/P22\n"
      ]
     },
     "metadata": {},
     "output_type": "display_data"
    }
   ],
   "source": [
    "%%R\n",
    "####Load Tables\n",
    "all<-read.table(\"terminase_ortho_groups.txt\", header=FALSE, sep=\"\\t\")\n",
    "colnames(all)<-c(\"phage\", \"cat\",\"short_desc\",\"long_desc\")\n",
    "print(all%>%head)\n",
    "#adj is an adjacancy table of phages and protein clusters\n",
    "\n"
   ]
  },
  {
   "cell_type": "code",
   "execution_count": 58,
   "metadata": {
    "collapsed": false
   },
   "outputs": [],
   "source": [
    "%%R\n",
    "adj<-read.table(\"/Users/jmb/Desktop/ViralFate/OrthoMCL/tSNE/phagevphage_ortho1.txt.adjacency.txt\", header=TRUE)\n",
    "head(adj)\n",
    "#Combine Tables\n",
    "adj$tg<-all$cat[match(adj$organism, all$phage)] #add terminase group column called tg to the adj matrix\n",
    "head(adj)\n",
    "phages<-adj$organism%>%unique"
   ]
  },
  {
   "cell_type": "code",
   "execution_count": 89,
   "metadata": {
    "collapsed": false
   },
   "outputs": [],
   "source": [
    "%%R\n",
    "adj$tg[is.na(adj$tg)]<-1#<-gsub(\"NA\",\"tectiviridae\",adj$tg)\n",
    "#adj$tg[is.na(adj$tg)]<-\"tectiviridae\"\n",
    "adj$tg[adj$tg==1]<-\"tectviridae\""
   ]
  },
  {
   "cell_type": "code",
   "execution_count": null,
   "metadata": {
    "collapsed": false
   },
   "outputs": [],
   "source": []
  },
  {
   "cell_type": "code",
   "execution_count": 91,
   "metadata": {
    "collapsed": false
   },
   "outputs": [
    {
     "data": {
      "text/plain": [
       "Source: local data frame [6 x 3]\n",
       "Groups: protein_cluster [1]\n",
       "\n",
       "  protein_cluster          tg count\n",
       "           (fctr)       (chr) (int)\n",
       "1         pvp1000  terminase1    44\n",
       "2         pvp1000 terminase13    10\n",
       "3         pvp1000 terminase18     8\n",
       "4         pvp1000 terminase24     2\n",
       "5         pvp1000 terminase25     2\n",
       "6         pvp1000  terminase5     4\n"
      ]
     },
     "metadata": {},
     "output_type": "display_data"
    }
   ],
   "source": [
    "%%R\n",
    "adj%>%group_by(protein_cluster, tg)%>%summarise(count=n())->grp_pclusts\n",
    "head(grp_pclusts)\n",
    "write.table(grp_pclusts[,c(1,2)], file=\"term_group_protclust_adj.txt\", quote=FALSE, row.names=FALSE, sep=\"\\t\")\n",
    "head(grp_pclusts)"
   ]
  },
  {
   "cell_type": "code",
   "execution_count": 92,
   "metadata": {
    "collapsed": true
   },
   "outputs": [],
   "source": [
    "import pandas as pd\n",
    "import numpy as np\n",
    "from pandas import DataFrame, Series\n",
    "\n",
    "def create_mat_from_edgetable(edgetable, output, ind_cat, col_cat):\n",
    "    adj=pd.read_table(edgetable).drop_duplicates()\n",
    "    adj['pos']=1\n",
    "    mat=adj.pivot_table(values='pos', index=ind_cat, columns=col_cat)\n",
    "    mat=mat.fillna(0)\n",
    "    mat.applymap(lambda x: x.astype(int)).to_csv(output,sep=\"\\t\")"
   ]
  },
  {
   "cell_type": "code",
   "execution_count": 93,
   "metadata": {
    "collapsed": false
   },
   "outputs": [],
   "source": [
    "create_mat_from_edgetable(\"term_group_protclust_adj.txt\",\"term_group_protclust_mat.txt\", \"tg\",\"protein_cluster\")"
   ]
  },
  {
   "cell_type": "code",
   "execution_count": 94,
   "metadata": {
    "collapsed": false,
    "scrolled": true
   },
   "outputs": [
    {
     "data": {
      "text/plain": [
       "'data.frame':\t33 obs. of  2807 variables:\n",
       " $ tg     : Factor w/ 33 levels \"tectviridae\",..: 1 2 3 4 5 6 7 8 9 10 ...\n",
       " $ pvp1000: int  0 1 0 0 0 1 0 0 0 0 ...\n",
       " $ pvp1001: int  0 0 0 0 0 1 1 1 0 0 ...\n",
       " $ pvp1002: int  0 1 0 1 0 1 1 1 1 0 ...\n",
       " $ pvp1003: int  0 1 0 0 0 1 1 0 1 0 ...\n",
       " $ pvp1004: int  0 1 0 0 0 1 1 0 1 0 ...\n",
       " $ pvp1005: int  0 0 0 0 0 1 0 0 1 0 ...\n",
       " $ pvp1006: int  0 0 0 0 0 1 0 0 0 0 ...\n",
       " $ pvp1007: int  0 1 0 0 0 0 0 0 0 0 ...\n",
       " $ pvp1008: int  0 0 0 1 0 1 1 0 0 0 ...\n",
       " $ pvp1009: int  0 1 0 0 0 0 0 0 0 0 ...\n",
       " $ pvp1010: int  0 1 0 0 0 0 0 0 0 0 ...\n",
       " $ pvp1011: int  0 1 0 0 0 0 0 0 1 0 ...\n",
       " $ pvp1012: int  0 1 0 1 0 1 0 0 1 0 ...\n",
       " $ pvp1013: int  0 0 0 0 0 1 0 0 0 0 ...\n",
       " $ pvp1014: int  0 0 0 0 0 1 1 0 1 0 ...\n",
       " $ pvp1015: int  0 0 0 0 0 1 0 0 0 0 ...\n",
       " $ pvp1016: int  0 1 0 0 0 0 0 0 0 0 ...\n",
       " $ pvp1017: int  0 1 0 0 0 0 1 0 0 0 ...\n",
       " $ pvp1018: int  0 0 0 0 0 1 0 0 1 0 ...\n",
       " $ pvp1019: int  0 1 0 0 0 0 0 0 1 0 ...\n",
       " $ pvp1020: int  0 1 0 1 0 1 1 1 0 0 ...\n",
       " $ pvp1021: int  0 1 0 0 0 0 0 0 0 0 ...\n",
       " $ pvp1022: int  0 1 0 0 0 0 0 0 0 0 ...\n",
       " $ pvp1023: int  0 0 0 0 0 1 0 0 0 0 ...\n",
       " $ pvp1024: int  0 0 0 0 0 0 1 0 0 0 ...\n",
       " $ pvp1025: int  0 1 0 0 0 0 0 0 0 0 ...\n",
       " $ pvp1026: int  0 1 0 0 0 0 0 0 0 0 ...\n",
       " $ pvp1027: int  0 0 0 0 0 0 0 0 1 0 ...\n",
       " $ pvp1028: int  0 1 0 0 0 0 0 0 0 0 ...\n",
       " $ pvp1029: int  0 1 0 0 0 0 0 0 0 0 ...\n",
       " $ pvp1030: int  0 1 0 0 0 0 0 0 0 0 ...\n",
       " $ pvp1031: int  0 1 0 0 0 0 0 0 0 0 ...\n",
       " $ pvp1032: int  0 1 0 0 0 0 0 0 0 0 ...\n",
       " $ pvp1033: int  0 1 0 0 0 0 0 0 0 0 ...\n",
       " $ pvp1034: int  0 1 0 0 0 0 0 0 0 0 ...\n",
       " $ pvp1035: int  0 1 0 0 0 0 0 0 0 0 ...\n",
       " $ pvp1036: int  0 1 0 0 0 0 0 0 0 0 ...\n",
       " $ pvp1037: int  0 1 0 0 0 0 0 0 0 0 ...\n",
       " $ pvp1038: int  0 1 0 0 0 0 0 0 0 0 ...\n",
       " $ pvp1039: int  0 1 0 0 0 0 0 0 0 0 ...\n",
       " $ pvp1040: int  0 1 0 0 0 0 0 0 0 0 ...\n",
       " $ pvp1041: int  0 1 0 0 0 0 0 0 0 0 ...\n",
       " $ pvp1042: int  0 1 0 0 0 0 0 0 0 0 ...\n",
       " $ pvp1043: int  0 1 0 0 0 0 0 0 0 0 ...\n",
       " $ pvp1044: int  0 1 0 0 0 0 0 0 0 0 ...\n",
       " $ pvp1045: int  0 1 0 0 0 0 0 0 0 0 ...\n",
       " $ pvp1046: int  0 1 0 0 0 0 0 0 0 0 ...\n",
       " $ pvp1047: int  0 1 0 0 0 0 0 0 0 0 ...\n",
       " $ pvp1048: int  0 1 0 0 0 0 0 0 0 0 ...\n",
       " $ pvp1049: int  0 1 0 0 0 0 0 0 0 0 ...\n",
       " $ pvp1050: int  0 1 0 0 0 0 0 0 0 0 ...\n",
       " $ pvp1051: int  0 1 0 0 0 0 0 0 0 0 ...\n",
       " $ pvp1052: int  0 1 0 0 0 0 0 0 0 0 ...\n",
       " $ pvp1053: int  0 1 0 0 0 0 0 1 0 0 ...\n",
       " $ pvp1054: int  0 1 0 0 0 0 0 0 0 0 ...\n",
       " $ pvp1055: int  0 1 0 0 0 0 0 0 0 0 ...\n",
       " $ pvp1056: int  0 1 0 0 0 0 0 0 0 0 ...\n",
       " $ pvp1057: int  0 1 0 0 0 0 0 0 0 0 ...\n",
       " $ pvp1058: int  0 1 0 0 0 0 1 1 0 0 ...\n",
       " $ pvp1059: int  0 1 0 0 0 0 0 0 0 0 ...\n",
       " $ pvp1060: int  0 1 0 0 0 0 0 0 0 0 ...\n",
       " $ pvp1061: int  0 1 0 0 0 0 0 0 0 0 ...\n",
       " $ pvp1062: int  0 1 0 0 0 0 0 0 0 0 ...\n",
       " $ pvp1063: int  0 1 0 0 0 0 0 0 0 0 ...\n",
       " $ pvp1064: int  0 1 0 0 0 0 0 0 1 0 ...\n",
       " $ pvp1065: int  0 0 0 0 0 1 0 0 0 0 ...\n",
       " $ pvp1066: int  0 0 0 0 0 1 0 0 1 0 ...\n",
       " $ pvp1067: int  0 1 0 0 0 0 0 0 0 0 ...\n",
       " $ pvp1068: int  0 1 0 0 0 0 0 0 0 0 ...\n",
       " $ pvp1069: int  0 1 0 1 0 0 0 0 0 0 ...\n",
       " $ pvp1070: int  0 0 0 0 0 1 0 0 0 0 ...\n",
       " $ pvp1071: int  0 1 0 0 0 0 0 0 0 0 ...\n",
       " $ pvp1072: int  0 1 0 0 0 1 1 0 1 0 ...\n",
       " $ pvp1073: int  0 1 0 0 0 1 1 0 0 0 ...\n",
       " $ pvp1074: int  0 0 0 0 0 1 0 0 0 0 ...\n",
       " $ pvp1075: int  0 0 0 0 0 1 0 0 0 0 ...\n",
       " $ pvp1076: int  0 0 0 0 0 1 0 0 0 0 ...\n",
       " $ pvp1077: int  0 0 0 0 0 1 0 0 0 0 ...\n",
       " $ pvp1078: int  0 0 0 0 0 1 0 0 0 0 ...\n",
       " $ pvp1079: int  0 0 0 0 0 1 0 0 0 0 ...\n",
       " $ pvp1080: int  0 0 0 0 0 1 0 0 0 0 ...\n",
       " $ pvp1081: int  0 0 0 0 0 0 0 0 1 0 ...\n",
       " $ pvp1082: int  0 0 0 0 0 0 0 0 0 0 ...\n",
       " $ pvp1083: int  0 0 0 0 0 1 0 0 0 0 ...\n",
       " $ pvp1084: int  0 0 0 0 0 1 1 0 1 0 ...\n",
       " $ pvp1085: int  0 1 0 0 0 0 0 0 0 0 ...\n",
       " $ pvp1086: int  0 1 0 0 0 0 0 0 0 0 ...\n",
       " $ pvp1087: int  0 0 0 0 0 1 0 0 1 0 ...\n",
       " $ pvp1088: int  0 1 0 0 0 0 0 0 0 0 ...\n",
       " $ pvp1089: int  0 1 0 0 0 0 0 0 0 0 ...\n",
       " $ pvp1090: int  0 1 0 0 0 0 0 0 1 0 ...\n",
       " $ pvp1091: int  0 1 0 0 0 0 0 0 0 0 ...\n",
       " $ pvp1092: int  0 1 0 0 0 0 1 0 0 0 ...\n",
       " $ pvp1093: int  0 0 0 0 0 1 0 0 0 0 ...\n",
       " $ pvp1094: int  0 0 0 0 0 1 0 0 0 0 ...\n",
       " $ pvp1095: int  0 0 0 0 0 1 0 0 0 0 ...\n",
       " $ pvp1096: int  0 0 0 0 0 1 0 0 0 0 ...\n",
       " $ pvp1097: int  0 0 0 0 0 1 0 0 0 0 ...\n",
       "  [list output truncated]\n",
       "'data.frame':\t1056 obs. of  3 variables:\n",
       " $ i: num  1 1 1 1 1 1 1 1 1 1 ...\n",
       " $ j: num  2 3 4 5 6 7 8 9 10 11 ...\n",
       " $ w: num  1 1 1 2 1 1 1 1 1 1 ...\n",
       " - attr(*, \"tnet\")= chr \"weighted one-mode tnet\"\n"
      ]
     },
     "metadata": {},
     "output_type": "display_data"
    }
   ],
   "source": [
    "%%R\n",
    "mat=read.table(\"term_group_protclust_mat.txt\", sep=\"\\t\", header=TRUE)\n",
    "\n",
    "rownames(mat)\n",
    "str(mat)\n",
    "rownames(mat)<-as.factor(mat$tg)\n",
    "mat$dbgrp<-NULL\n",
    "\n",
    "mat1<-as.matrix(mat)\n",
    "head(mat1)\n",
    "\n",
    "net<-as.tnet(mat1, type=\"binary two-mode tnet\")\n",
    "proj1<-projecting_tm(net, method=\"sum\")\n",
    "head(proj1)\n",
    "proj1$i%>%unique%>%length\n",
    "str(proj1)\n",
    "\n",
    "groupnames<-as.character(row.names(mat1))\n",
    "number<-as.character(c(1:length(groupnames)))\n",
    "groupid<-data.frame(cbind(groupnames, number))\n",
    "\n",
    "proj1$groupi<-groupid$groupnames[match(proj1$i, groupid$number)]\n",
    "proj1$groupj<-groupid$groupnames[match(proj1$j, groupid$number)]\n",
    "\n",
    "\n",
    "write.table(proj1[,c(4,5,3)], \"terminase_group_weighted_one_mode.txt\", sep=\"\\t\", quote=FALSE, row.names=FALSE, col.names=TRUE)"
   ]
  },
  {
   "cell_type": "code",
   "execution_count": 95,
   "metadata": {
    "collapsed": false
   },
   "outputs": [],
   "source": [
    "pairs=[]\n",
    "\n",
    "out=open(\"terminase_group_weighted_one_mode_derep.txt\",\"w\")\n",
    "\n",
    "with open(\"terminase_group_weighted_one_mode.txt\") as infile:\n",
    "    for l in infile:\n",
    "        i=l.split(\"\\t\")[0]\n",
    "        j=l.split(\"\\t\")[1]\n",
    "        if (i,j) not in pairs and (j,i) not in pairs:\n",
    "            pairs.append((i,j))\n",
    "            out.write(l)\n",
    "out.close()"
   ]
  },
  {
   "cell_type": "code",
   "execution_count": 98,
   "metadata": {
    "collapsed": false
   },
   "outputs": [],
   "source": [
    "%Rpull phages\n",
    "\n",
    "out=open(\"terminase_group_np_memcount.txt\",\"w\")\n",
    "np_term=open(\"np_term_ortho_groups.txt\",\"w\")\n",
    "np_term.write(\"phage\\tterm_clust\\n\")\n",
    "\n",
    "out.write(\"terminase_cat\\tnpmems\\n\")\n",
    "for t in tdict.keys():\n",
    "    members=tdict[t]\n",
    "    npmems=[i for i in members if i in phages]\n",
    "    out.write(\"%s\\t%s\\n\" % (t, len(npmems)))\n",
    "    for i in npmems:\n",
    "        np_term.write(\"%s\\t%s\\n\" % (i, t))\n",
    "out.close()\n",
    "np_term.close()"
   ]
  },
  {
   "cell_type": "code",
   "execution_count": 4,
   "metadata": {
    "collapsed": false
   },
   "outputs": [],
   "source": [
    "blast=open(\"gp_vs_gp.out\")\n",
    "\n",
    "out=open(\"terminase_adj.txt\",\"w\")\n",
    "out.write(\"query\\ttarget\\tpct_id\\taln_len\\n\")\n",
    "\n",
    "for l in blast:\n",
    "    vec=l.split(\"\\t\")\n",
    "    query=vec[0].split(\"|\")[1]\n",
    "    target=vec[1].split(\"|\")[1]\n",
    "    pct_id=vec[2]\n",
    "    aln_len=vec[3]\n",
    "    out.write(\"%s\\t%s\\t%s\\t%s\\n\" % (query, target, pct_id, aln_len))\n",
    "out.close()"
   ]
  },
  {
   "cell_type": "code",
   "execution_count": null,
   "metadata": {
    "collapsed": true
   },
   "outputs": [],
   "source": []
  }
 ],
 "metadata": {
  "kernelspec": {
   "display_name": "Python 2",
   "language": "python",
   "name": "python2"
  },
  "language_info": {
   "codemirror_mode": {
    "name": "ipython",
    "version": 2
   },
   "file_extension": ".py",
   "mimetype": "text/x-python",
   "name": "python",
   "nbconvert_exporter": "python",
   "pygments_lexer": "ipython2",
   "version": "2.7.11"
  }
 },
 "nbformat": 4,
 "nbformat_minor": 0
}
